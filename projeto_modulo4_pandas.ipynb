{
  "cells": [
    {
      "cell_type": "markdown",
      "metadata": {
        "id": "_A5RPEaaz_cy"
      },
      "source": [
        "#**I. PROJECT MODULE IV - RESÍLIA - GROUP 7**"
      ]
    },
    {
      "cell_type": "markdown",
      "metadata": {
        "id": "uH-DilapgVUa"
      },
      "source": [
        "**I.I Briefing**\n",
        "\n",
        "\n",
        "\"Você e a sua equipe foram escalados pela Agência Nacional de Petróleo e Gás\n",
        "Natural e Biocombustíveis (ANP) para realizar uma análise exploratória\n",
        "relacionada à série histórica de preço de venda da gasolina e do etanol. ANP é\n",
        "um centro de referência em dados e informações sobre a indústria de petróleo\n",
        "e gás natural:\n",
        "\n",
        "\n",
        "● mantém o Banco de Dados de Exploração e Produção (BDEP);\n",
        "● promove estudos sobre o potencial petrolífero e o desenvolvimento do\n",
        "setor;\n",
        "● recebe e torna públicas as notificações de descobertas;\n",
        "● divulga as estatísticas oficiais sobre reservas, refino e produção de\n",
        "petróleo, gás e biocombustíveis no Brasil.\n",
        "\n",
        "A ANP também realiza e divulga rotineiramente pesquisas sobre qualidade dos\n",
        "combustíveis e lubrificantes e sobre o comportamento dos preços desses\n",
        "produtos. Consolida e divulga informações sobre os mercados regulados e\n",
        "acerca dos investimentos em pesquisa, inovação e formação profissional\n",
        "voltadas para os setores regulados.\n",
        "\n",
        "As fontes de dados que serão utilizadas no projeto estão disponíveis no portal\n",
        "dados.gov. Serão utilizados os arquivos dos meses de junho e julho de 2021\n",
        "contendo a série histórica dos preços da gasolina e do etanol em todo o Brasil.\" "
      ]
    },
    {
      "cell_type": "markdown",
      "metadata": {
        "id": "t9_grp5nZwRh"
      },
      "source": [
        "**I.II Problemas a serem resolvidos**"
      ]
    },
    {
      "cell_type": "markdown",
      "metadata": {
        "id": "TCrhFcIffuM-"
      },
      "source": [
        "1) Como se comportaram o preço dos combustíveis durante os dois meses citados? Os valores do etanol e da gasolina tiveram uma tendência de queda ou diminuição?\n",
        "\n",
        "2) Qual o preço médio da gasolina e do etanol nesses dois meses?\n",
        "\n",
        "3)Quais os 5 estados com o preço médio da gasolina e do etanol mais caros?\n",
        "\n",
        "4) Qual o preço médio da gasolina e do etanol por estado?\n",
        "\n",
        "5) Qual o município que possui o menor preço para a gasolina e para o etanol?\n",
        "\n",
        "6) Qual o município que possui o maior preço para a gasolina e para o etanol?\n",
        "\n",
        "7) Qual a região que possui o maior valor médio da gasolina?\n",
        "\n",
        "8) Qual a região que possui o menor valor médio do etanol?\n",
        "\n",
        "9) Há alguma correlação entre o valor do combustível (gasolina e etanol) e a região onde ele é vendido?\n",
        "\n",
        "10) Há alguma correlação entre o valor do combustível (gasolina e etanol) e a bandeira que vende ele?\n",
        "\n",
        "\n",
        "11) Outlier Gasolina\n",
        "12) Outlier Etanol\n"
      ]
    },
    {
      "cell_type": "markdown",
      "metadata": {
        "id": "DZz70yMk6n6B"
      },
      "source": [
        "Link dos Datasets:https://www.gov.br/anp/pt-br/centrais-de-conteudo/dados-abertos/arquivos/shpc/dsan/2021/2021-07-gasolina-etanol.csv\n",
        "///\n",
        "https://www.gov.br/anp/pt-br/centrais-de-conteudo/dados-abertos/arquivos/shpc/dsan/2021/2021-06-gasolina-etanol.csv\n"
      ]
    },
    {
      "cell_type": "markdown",
      "metadata": {
        "id": "6fUzPUUH0Oq-"
      },
      "source": [
        "##**I.I IMPORTING LIBRARIES**"
      ]
    },
    {
      "cell_type": "code",
      "execution_count": null,
      "metadata": {
        "id": "s7wR6gt5r-JG"
      },
      "outputs": [],
      "source": [
        "import pandas as pd\n",
        "import numpy as np\n",
        "import seaborn as sns\n",
        "import matplotlib.pyplot as plt"
      ]
    },
    {
      "cell_type": "markdown",
      "metadata": {
        "id": "DTrwsVpW0bES"
      },
      "source": [
        "##**I.II CLEANING DATAS**"
      ]
    },
    {
      "cell_type": "markdown",
      "metadata": {
        "id": "mW8py8Dqk34y"
      },
      "source": [
        "## **Importação de datasets**\n"
      ]
    },
    {
      "cell_type": "code",
      "execution_count": null,
      "metadata": {
        "id": "eUvfXJVslh14"
      },
      "outputs": [],
      "source": [
        "url = 'https://www.gov.br/anp/pt-br/centrais-de-conteudo/dados-abertos/arquivos/shpc/dsan/2021/2021-06-gasolina-etanol.csv'\n",
        "gasol_06 = pd.read_csv(url, engine = 'python', on_bad_lines='skip', sep = ';')\n",
        "#gasol_06"
      ]
    },
    {
      "cell_type": "code",
      "execution_count": null,
      "metadata": {
        "id": "HI_9akqnnarN"
      },
      "outputs": [],
      "source": [
        "url = 'https://www.gov.br/anp/pt-br/centrais-de-conteudo/dados-abertos/arquivos/shpc/dsan/2021/2021-07-gasolina-etanol.csv'\n",
        "gasol_07 = pd.read_csv(url,on_bad_lines='skip',sep = ';')\n",
        "#gasol_07"
      ]
    },
    {
      "cell_type": "markdown",
      "metadata": {
        "id": "fyW2yJO-wX_1"
      },
      "source": [
        "## **Análise de objetos**\n"
      ]
    },
    {
      "cell_type": "code",
      "execution_count": null,
      "metadata": {
        "id": "kP8eoXexx5CU"
      },
      "outputs": [],
      "source": [
        "gasol_06.info()"
      ]
    },
    {
      "cell_type": "markdown",
      "metadata": {
        "id": "POeFYzQ2wnpI"
      },
      "source": [
        "## **Substituções**\n"
      ]
    },
    {
      "cell_type": "code",
      "execution_count": null,
      "metadata": {
        "id": "NxsI2GHy15Yz"
      },
      "outputs": [],
      "source": [
        "gasol_06['Valor de Venda'] = gasol_06['Valor de Venda'].apply(lambda x:str(x).replace(\",\",\".\"))"
      ]
    },
    {
      "cell_type": "code",
      "execution_count": null,
      "metadata": {
        "id": "B-J5mqUI2GBU"
      },
      "outputs": [],
      "source": [
        "gasol_06['Valor de Venda'] = gasol_06['Valor de Venda'].astype('float64')"
      ]
    },
    {
      "cell_type": "markdown",
      "metadata": {
        "id": "YFMAHYjjShtE"
      },
      "source": [
        "## **Questões 1 e 2 (Henrique)**"
      ]
    },
    {
      "cell_type": "code",
      "execution_count": null,
      "metadata": {
        "id": "MLduBNU7U8yh"
      },
      "outputs": [],
      "source": [
        "gasolinaMes6 = gasol_06[gasol_06['Produto'].isin(['GASOLINA','GASOLINA ADITIVADA'])]\n",
        "#gasolinaMes6"
      ]
    },
    {
      "cell_type": "code",
      "execution_count": null,
      "metadata": {
        "id": "62aEZdgbOlLv"
      },
      "outputs": [],
      "source": [
        "gasolinaMes6['Valor de Venda'].mean()"
      ]
    },
    {
      "cell_type": "markdown",
      "metadata": {
        "id": "eGeSdLb1OyPn"
      },
      "source": [
        "Váriavel que armazena o valor 'média' do mês 6 com o produto gasolina"
      ]
    },
    {
      "cell_type": "code",
      "execution_count": null,
      "metadata": {
        "id": "dYl0As8tPAbs"
      },
      "outputs": [],
      "source": [
        "etanolMes6 = gasol_06[gasol_06['Produto'].isin(['ETANOL'])]"
      ]
    },
    {
      "cell_type": "markdown",
      "metadata": {
        "id": "Fdqz8EaZPT4K"
      },
      "source": [
        "Váriavel que armazena dataframe somente com produtos 'Etanol'"
      ]
    },
    {
      "cell_type": "code",
      "execution_count": null,
      "metadata": {
        "id": "XHfnvChJPKu7"
      },
      "outputs": [],
      "source": [
        "mediaEtanol6 = etanolMes6['Valor de Venda'].mean()"
      ]
    },
    {
      "cell_type": "markdown",
      "metadata": {
        "id": "h2ofL8wVQOOJ"
      },
      "source": [
        "Váriavel que armazena o valor 'média' do mês 6 com o produto gasolina"
      ]
    },
    {
      "cell_type": "code",
      "execution_count": null,
      "metadata": {
        "id": "owu9cDo-Phbm"
      },
      "outputs": [],
      "source": [
        "gasol_07['Valor de Venda'] = gasol_07['Valor de Venda'].apply(lambda x:str(x).replace(\",\",\".\"))"
      ]
    },
    {
      "cell_type": "markdown",
      "metadata": {
        "id": "LYExFrPpQZsh"
      },
      "source": [
        "Replace de ',' por '.' para que possa ser feita conversão de dados"
      ]
    },
    {
      "cell_type": "code",
      "execution_count": null,
      "metadata": {
        "id": "sO82k7h_QhuE"
      },
      "outputs": [],
      "source": [
        "gasol_07['Valor de Venda']=gasol_07['Valor de Venda'].astype('float64')"
      ]
    },
    {
      "cell_type": "markdown",
      "metadata": {
        "id": "Few1e8xpQnPV"
      },
      "source": [
        "Conversão de dado str para float"
      ]
    },
    {
      "cell_type": "code",
      "execution_count": null,
      "metadata": {
        "id": "lPOPgMAUQs-J"
      },
      "outputs": [],
      "source": [
        "gasolinaMes7 = gasol_07[gasol_07['Produto'].isin(['GASOLINA','GASOLINA ADITIVADA'])]"
      ]
    },
    {
      "cell_type": "markdown",
      "metadata": {
        "id": "0I_ijZxcQzVt"
      },
      "source": [
        "Váriavel que armazena dataframe somente com produto gasolina"
      ]
    },
    {
      "cell_type": "code",
      "execution_count": null,
      "metadata": {
        "id": "YthxZQYMQ7G4"
      },
      "outputs": [],
      "source": [
        "etanolMes7 = gasol_07[gasol_07['Produto'].isin(['ETANOL'])]"
      ]
    },
    {
      "cell_type": "markdown",
      "metadata": {
        "id": "lSbyCd6-RGEM"
      },
      "source": [
        "Váriavel que armazena dataframe somente com o produto etanol"
      ]
    },
    {
      "cell_type": "code",
      "execution_count": null,
      "metadata": {
        "id": "redbv3RcRGoQ"
      },
      "outputs": [],
      "source": [
        "mediaEtanol7 = etanolMes7['Valor de Venda'].mean()"
      ]
    },
    {
      "cell_type": "markdown",
      "metadata": {
        "id": "srwdYCXDRLn4"
      },
      "source": [
        "Variável que calcula a média do preço do etanol no mês 7"
      ]
    },
    {
      "cell_type": "code",
      "execution_count": null,
      "metadata": {
        "id": "hkRpECj4RT2Q"
      },
      "outputs": [],
      "source": [
        "mediaGasolina7 = gasolinaMes7['Valor de Venda'].mean()"
      ]
    },
    {
      "cell_type": "markdown",
      "metadata": {
        "id": "4e8p2OIbRYXA"
      },
      "source": [
        "Váriavel que calcula a média da gasolina do mês 7"
      ]
    },
    {
      "cell_type": "code",
      "execution_count": null,
      "metadata": {
        "colab": {
          "base_uri": "https://localhost:8080/"
        },
        "id": "Ltv35jMoRY1s",
        "outputId": "6a0b1165-7075-4bcf-a67b-f26b8eac4c3e"
      },
      "outputs": [
        {
          "data": {
            "text/plain": [
              "5.8617029846511235"
            ]
          },
          "execution_count": 17,
          "metadata": {},
          "output_type": "execute_result"
        }
      ],
      "source": [
        "mediaGasolina7"
      ]
    },
    {
      "cell_type": "code",
      "execution_count": null,
      "metadata": {
        "colab": {
          "base_uri": "https://localhost:8080/"
        },
        "id": "D5wWBVHdRilw",
        "outputId": "21171d8e-a602-4263-c52c-b207ea80ee9b"
      },
      "outputs": [
        {
          "data": {
            "text/plain": [
              "4.587550062034796"
            ]
          },
          "execution_count": 18,
          "metadata": {},
          "output_type": "execute_result"
        }
      ],
      "source": [
        "mediaEtanol7"
      ]
    },
    {
      "cell_type": "code",
      "execution_count": null,
      "metadata": {
        "colab": {
          "base_uri": "https://localhost:8080/"
        },
        "id": "lgIBvr6vRoR4",
        "outputId": "24aab21f-27cb-4980-954c-8992c7ede044"
      },
      "outputs": [
        {
          "data": {
            "text/plain": [
              "4.576388725259197"
            ]
          },
          "execution_count": 19,
          "metadata": {},
          "output_type": "execute_result"
        }
      ],
      "source": [
        "mediaEtanol6"
      ]
    },
    {
      "cell_type": "code",
      "execution_count": null,
      "metadata": {
        "id": "qtaxlDjgRtug"
      },
      "outputs": [],
      "source": [
        "gasol_06['Data da Coleta'] = pd.to_datetime(gasol_06['Data da Coleta'])"
      ]
    },
    {
      "cell_type": "code",
      "execution_count": null,
      "metadata": {
        "id": "WBDdbtZwRugU"
      },
      "outputs": [],
      "source": [
        "df6e7 = pd.concat([gasol_06,gasol_07])\n"
      ]
    },
    {
      "cell_type": "markdown",
      "metadata": {
        "id": "FlaNz1E2R0Dt"
      },
      "source": [
        "Dataframe 6 e 7 concatenados"
      ]
    },
    {
      "cell_type": "code",
      "execution_count": null,
      "metadata": {
        "id": "MKYqfjEDR39g"
      },
      "outputs": [],
      "source": [
        "df6e7Gasolina = df6e7[df6e7['Produto'].isin(['GASOLINA','GASOLINA ADITIVADA'])]\n"
      ]
    },
    {
      "cell_type": "code",
      "execution_count": null,
      "metadata": {
        "id": "4GDAdfqDR_kM"
      },
      "outputs": [],
      "source": [
        "df6e7['Data da Coleta'] = pd.to_datetime(df6e7['Data da Coleta'])"
      ]
    },
    {
      "cell_type": "markdown",
      "metadata": {
        "id": "ScagSCRbSK38"
      },
      "source": [
        "Conversão de dados str para date"
      ]
    },
    {
      "cell_type": "markdown",
      "metadata": {
        "id": "MSUf80NJSTu8"
      },
      "source": [
        "Dataframe dos meses 6 e 7 concatenado e filtrado por produto GASOLINA\n"
      ]
    },
    {
      "cell_type": "code",
      "execution_count": null,
      "metadata": {
        "id": "RP-MV1QESLXQ"
      },
      "outputs": [],
      "source": [
        "df6e7Gasolina['Valor de Venda'] = df6e7Gasolina['Valor de Venda'].astype('float64')"
      ]
    },
    {
      "cell_type": "markdown",
      "metadata": {
        "id": "5iO8xhJUSmQo"
      },
      "source": [
        "Conversao do tipo de dados para float\n",
        "e date"
      ]
    },
    {
      "cell_type": "code",
      "execution_count": null,
      "metadata": {
        "id": "2sqV00SPSnEc"
      },
      "outputs": [],
      "source": [
        "df6e7Gasolina['Data da Coleta'] = pd.to_datetime(df6e7Gasolina['Data da Coleta'])"
      ]
    },
    {
      "cell_type": "code",
      "execution_count": null,
      "metadata": {
        "id": "rq5H_thUSwuT"
      },
      "outputs": [],
      "source": [
        "df6e7Gasolina.mean()"
      ]
    },
    {
      "cell_type": "markdown",
      "metadata": {
        "id": "Iw7DbsZHStLg"
      },
      "source": [
        "Media do valor da gasolina nos meses 6 e 7"
      ]
    },
    {
      "cell_type": "code",
      "execution_count": null,
      "metadata": {
        "id": "LSD-F7s6S1Db"
      },
      "outputs": [],
      "source": [
        "df6e7Etanol = df6e7[df6e7['Produto'].isin(['ETANOL'])]\n"
      ]
    },
    {
      "cell_type": "markdown",
      "metadata": {
        "id": "IoFbsgpGS_R3"
      },
      "source": [
        "Dataframe dos meses 6 e 7 concatenado e filtrado por produto ETANOL"
      ]
    },
    {
      "cell_type": "code",
      "execution_count": null,
      "metadata": {
        "id": "YdvdG2JPS6bD"
      },
      "outputs": [],
      "source": [
        "df6e7EtanolFloat= df6e7Etanol['Valor de Venda'].astype('float64')"
      ]
    },
    {
      "cell_type": "markdown",
      "metadata": {
        "id": "3GqVpH1bTMT_"
      },
      "source": [
        "Conversão de tipo de dados"
      ]
    },
    {
      "cell_type": "code",
      "execution_count": null,
      "metadata": {
        "id": "yxJG6AYVTK3A"
      },
      "outputs": [],
      "source": [
        "df6e7EtanolFloat.mean()"
      ]
    },
    {
      "cell_type": "markdown",
      "metadata": {
        "id": "Ov_w5wY8TRP7"
      },
      "source": [
        "Média do preço do etanol nos meses 6 e 7"
      ]
    },
    {
      "cell_type": "code",
      "execution_count": null,
      "metadata": {
        "id": "ceY0jgpiTVrE"
      },
      "outputs": [],
      "source": [
        "sns.set()"
      ]
    },
    {
      "cell_type": "code",
      "execution_count": null,
      "metadata": {
        "id": "SacAjfHETfIu"
      },
      "outputs": [],
      "source": [
        "y = df6e7['Valor de Venda']\n",
        "x = df6e7['Data da Coleta']\n",
        "plt.title('Dispersão dos preços dos Combustíveis 06/21 - 07/21')\n",
        "plt.scatter(x,y)\n",
        "plt.show()"
      ]
    },
    {
      "cell_type": "code",
      "execution_count": null,
      "metadata": {
        "id": "nTBWgeQ5Timi"
      },
      "outputs": [],
      "source": [
        "y = df6e7Gasolina['Valor de Venda']\n",
        "x = df6e7Gasolina['Data da Coleta']\n",
        "plt.scatter(x,y)\n",
        "plt.title('Dispersão do Preço da gasolina 06/21 - 07/21')\n",
        "plt.show()"
      ]
    },
    {
      "cell_type": "code",
      "execution_count": null,
      "metadata": {
        "id": "EitgZYSoTmN2"
      },
      "outputs": [],
      "source": [
        "y = df6e7Etanol['Valor de Venda']\n",
        "x = df6e7Etanol['Data da Coleta']\n",
        "plt.title('Dispersão do preço do Etanol 06/21 - 07/21')\n",
        "plt.scatter(x,y)\n",
        "plt.show()"
      ]
    },
    {
      "cell_type": "code",
      "execution_count": null,
      "metadata": {
        "id": "x0uz9HzYTo8w"
      },
      "outputs": [],
      "source": [
        "df6e7.hist('Valor de Venda',bins = 100)\n",
        "plt.title('Histograma - Preço dos combustíveis no período 06/21 - 07/21')\n",
        "plt.show()"
      ]
    },
    {
      "cell_type": "code",
      "execution_count": null,
      "metadata": {
        "id": "p6CpQ3-yTrCf"
      },
      "outputs": [],
      "source": [
        "df6e7Gasolina.hist('Valor de Venda',bins = 100)\n",
        "plt.title('Histograma - Preço do Gasolina 07/21')\n",
        "plt.show()"
      ]
    },
    {
      "cell_type": "code",
      "execution_count": null,
      "metadata": {
        "id": "0EgyCw4GTs9L"
      },
      "outputs": [],
      "source": [
        "df6e7Etanol.hist('Valor de Venda',bins = 100)\n",
        "plt.title('Histograma - Preço do Etanol 07/21')\n",
        "plt.show()\n"
      ]
    },
    {
      "cell_type": "markdown",
      "metadata": {
        "id": "D9sq1UaNTb5G"
      },
      "source": [
        ""
      ]
    },
    {
      "cell_type": "markdown",
      "metadata": {
        "id": "NFoXU_exVHew"
      },
      "source": [
        "## **Questão 3 (Jaqueline)**\n",
        "\n",
        ">Quais os 5 estados com o preço médio da gasolina e do etanol mais caros?\n",
        "\n",
        "Os primeiros processos para conscrução da resposta foi analisar os passos necessários, os quais seguem abaixo:\n",
        "\n",
        "1. Organização dos dados necessários\n",
        "2. Concatenção tabela 06 e 07\n",
        "3. Ordenação e Média\n",
        "\n",
        "\n"
      ]
    },
    {
      "cell_type": "markdown",
      "metadata": {
        "id": "L0D4KFDvloWJ"
      },
      "source": [
        "\n",
        "Ao  decorrer da questão, notei que seria necessário restruturar o DataFrame com informações que atendecem meus requisitos.\n",
        "\n",
        "Com o objetivo de vizualizar melhor as colunas nas quais obtinham os dados que eu precisaria, realizei uma combinação de  filtragem e concatenação.\n",
        "\n",
        "Por fim, filtrei as colunas necessárias, separei por etanol/ gasolina e gasolina aditivada,  concatei as tabelas 06 e 07 . Após isso criei uma variável para a mádia de cada um, agrupando as informações desejadas e obtive o resultado AC/AL/AM/AP/BA como estados com a maior média da Gasolina.\n"
      ]
    },
    {
      "cell_type": "code",
      "execution_count": null,
      "metadata": {
        "id": "-_LmPYGtVfuy"
      },
      "outputs": [],
      "source": [
        "novo_06 = gasol_06.filter(['Estado - Sigla', 'Município', 'Produto', 'Valor de Venda'], axis=1)\n",
        "novo_06"
      ]
    },
    {
      "cell_type": "code",
      "execution_count": null,
      "metadata": {
        "id": "7pxTMPUjregl"
      },
      "outputs": [],
      "source": [
        "gasolinaMes6 = novo_06[novo_06['Produto'].isin(['GASOLINA','GASOLINA ADITIVADA'])]\n",
        "gasolinaMes6"
      ]
    },
    {
      "cell_type": "code",
      "execution_count": null,
      "metadata": {
        "id": "ioBJbR7JuGmA"
      },
      "outputs": [],
      "source": [
        "etanolMes6 = novo_06[novo_06['Produto'].isin(['ETANOL'])]\n",
        "etanolMes6"
      ]
    },
    {
      "cell_type": "code",
      "execution_count": null,
      "metadata": {
        "id": "Kqf9-FLUuaVZ"
      },
      "outputs": [],
      "source": [
        "novo_07 = gasol_07.filter(['Estado - Sigla', 'Município', 'Produto', 'Valor de Venda'], axis=1)\n",
        "novo_07"
      ]
    },
    {
      "cell_type": "code",
      "execution_count": null,
      "metadata": {
        "id": "k_t1oazbuexq"
      },
      "outputs": [],
      "source": [
        "gasolinaMes7 = novo_07[novo_07['Produto'].isin(['GASOLINA','GASOLINA ADITIVADA'])]\n",
        "gasolinaMes7"
      ]
    },
    {
      "cell_type": "code",
      "execution_count": null,
      "metadata": {
        "id": "kb-FZpWhuhPf"
      },
      "outputs": [],
      "source": [
        "etanolMes7 = novo_07[novo_07['Produto'].isin(['ETANOL'])]\n",
        "etanolMes7"
      ]
    },
    {
      "cell_type": "markdown",
      "metadata": {
        "id": "dKhe7hX4un6X"
      },
      "source": [
        "Verificando a média individual de 06 e 07"
      ]
    },
    {
      "cell_type": "code",
      "execution_count": null,
      "metadata": {
        "colab": {
          "base_uri": "https://localhost:8080/"
        },
        "id": "hPMYMGWjuq0y",
        "outputId": "0f0bc2af-a07f-44a7-a07b-8c95e7ec2f46"
      },
      "outputs": [
        {
          "data": {
            "text/plain": [
              "5.734489270779255"
            ]
          },
          "execution_count": 43,
          "metadata": {},
          "output_type": "execute_result"
        }
      ],
      "source": [
        "gasolinaMes6['Valor de Venda'].mean()"
      ]
    },
    {
      "cell_type": "code",
      "execution_count": null,
      "metadata": {
        "colab": {
          "base_uri": "https://localhost:8080/"
        },
        "id": "ez5qFcZuuwNe",
        "outputId": "b47af022-7e1f-4ee0-854a-d366652988c8"
      },
      "outputs": [
        {
          "data": {
            "text/plain": [
              "5.8617029846511235"
            ]
          },
          "execution_count": 44,
          "metadata": {},
          "output_type": "execute_result"
        }
      ],
      "source": [
        "gasolinaMes7['Valor de Venda'].mean()"
      ]
    },
    {
      "cell_type": "code",
      "execution_count": null,
      "metadata": {
        "colab": {
          "base_uri": "https://localhost:8080/"
        },
        "id": "XywoD5VRv-gX",
        "outputId": "33267d1c-5818-4107-91a0-598d4c64ef98"
      },
      "outputs": [
        {
          "data": {
            "text/plain": [
              "4.576388725259197"
            ]
          },
          "execution_count": 45,
          "metadata": {},
          "output_type": "execute_result"
        }
      ],
      "source": [
        "etanolMes6['Valor de Venda'].mean()"
      ]
    },
    {
      "cell_type": "code",
      "execution_count": null,
      "metadata": {
        "colab": {
          "base_uri": "https://localhost:8080/"
        },
        "id": "J07xuteEwAez",
        "outputId": "d3c8a799-37c6-4a2b-8820-e76710be9f2c"
      },
      "outputs": [
        {
          "data": {
            "text/plain": [
              "4.587550062034796"
            ]
          },
          "execution_count": 46,
          "metadata": {},
          "output_type": "execute_result"
        }
      ],
      "source": [
        "etanolMes7['Valor de Venda'].mean()"
      ]
    },
    {
      "cell_type": "markdown",
      "metadata": {
        "id": "ZSK-kMIWwEJg"
      },
      "source": [
        "Concatenação das tabelas 06 e 07 - Gasolina\n",
        "\n",
        "OBS:\n",
        "Foi analisado a média do valor de venda da gasolina nos meses de junho e julho de forma unificada, que é de 5.79, para comparação dos dados mais segmentados, caso houvesse dados muito distintos."
      ]
    },
    {
      "cell_type": "code",
      "execution_count": null,
      "metadata": {
        "id": "fOKczYODwE6-"
      },
      "outputs": [],
      "source": [
        "concat_gasol = pd.concat([gasolinaMes6, gasolinaMes7])\n",
        "concat_gasol"
      ]
    },
    {
      "cell_type": "code",
      "execution_count": null,
      "metadata": {
        "id": "wKh7XDLFwIMJ"
      },
      "outputs": [],
      "source": [
        "concat_gasol['Valor de Venda'].mean()"
      ]
    },
    {
      "cell_type": "markdown",
      "metadata": {
        "id": "ZukHo7yxwox1"
      },
      "source": [
        "Concatenação das tabelas 06 e 07 - Etanol\n",
        "\n",
        "OBS: A média geral do Etanol nos meses deJunho e Julho é 4.58."
      ]
    },
    {
      "cell_type": "code",
      "execution_count": null,
      "metadata": {
        "id": "TrwWzh6GwnW9"
      },
      "outputs": [],
      "source": [
        "concat_etanol = pd.concat([etanolMes6, etanolMes7])\n",
        "concat_etanol"
      ]
    },
    {
      "cell_type": "code",
      "execution_count": null,
      "metadata": {
        "id": "RY9zttiiwuE8"
      },
      "outputs": [],
      "source": [
        "concat_etanol['Valor de Venda'].mean()"
      ]
    },
    {
      "cell_type": "code",
      "execution_count": null,
      "metadata": {
        "id": "viiKVm_4xGu5"
      },
      "outputs": [],
      "source": [
        "estado_mediagasol = concat_gasol.groupby('Estado - Sigla').mean()"
      ]
    },
    {
      "cell_type": "code",
      "execution_count": null,
      "metadata": {
        "id": "adu5inUExWjE"
      },
      "outputs": [],
      "source": [
        "estado_mediagasol.groupby(by=\"Estado - Sigla\")[\"Valor de Venda\"].nlargest(5).head(5)"
      ]
    },
    {
      "cell_type": "code",
      "execution_count": null,
      "metadata": {
        "id": "V94DI4_UxctB"
      },
      "outputs": [],
      "source": [
        "estado_mediaetanol = concat_etanol.groupby('Estado - Sigla').mean()"
      ]
    },
    {
      "cell_type": "code",
      "execution_count": null,
      "metadata": {
        "id": "aEUlUFjxxiZr"
      },
      "outputs": [],
      "source": [
        "estado_mediaetanol.groupby(by=\"Estado - Sigla\")[\"Valor de Venda\"].nlargest(5).head(5)"
      ]
    },
    {
      "cell_type": "markdown",
      "metadata": {
        "id": "U9cdSlLMxnwb"
      },
      "source": [
        "Os 5 estados com ambas médias mais caras são:\n",
        "\n",
        "1. Acre\n",
        "2. Alagoas\n",
        "3. Amazonas\n",
        "4. Amapá\n",
        "5. Bahia"
      ]
    },
    {
      "cell_type": "markdown",
      "metadata": {
        "id": "7j7zC5LxVN7K"
      },
      "source": [
        "## **Questão 4 (Laio)**"
      ]
    },
    {
      "cell_type": "markdown",
      "source": [
        "> 4) Qual o preço médio da gasolina e do etanol por estado?\n",
        "\n",
        "- Selecionei a partir do dataframe concatenado apenas as tabelas que considerei importantes para extrair as informações da questão 4"
      ],
      "metadata": {
        "id": "DP7zFW3py3AS"
      }
    },
    {
      "cell_type": "code",
      "execution_count": null,
      "metadata": {
        "id": "6_f2LTeCVge7"
      },
      "outputs": [],
      "source": [
        "df6e7[['Estado - Sigla','Produto', 'Valor de Venda']]"
      ]
    },
    {
      "cell_type": "markdown",
      "source": [
        "- Converti a coluna Valor de Venda para numérico"
      ],
      "metadata": {
        "id": "c8wqqpXszPf6"
      }
    },
    {
      "cell_type": "code",
      "execution_count": null,
      "metadata": {
        "id": "Z0JD0DKfbkyV"
      },
      "outputs": [],
      "source": [
        "df6e7['Valor de Venda'] = pd.to_numeric(df6e7['Valor de Venda'])"
      ]
    },
    {
      "cell_type": "markdown",
      "metadata": {
        "id": "DaOOZlB7eDmd"
      },
      "source": [
        "**Etanol**"
      ]
    },
    {
      "cell_type": "markdown",
      "source": [
        "- Criei um novo df onde selecionei apenas o produto = 'ETANOL', juntamente com as colunas que foram necessárias para a extração do preço médio do produto por estado"
      ],
      "metadata": {
        "id": "1IO9ra_FzXvr"
      }
    },
    {
      "cell_type": "code",
      "execution_count": null,
      "metadata": {
        "id": "-N0Ph5bjdtXJ"
      },
      "outputs": [],
      "source": [
        "medio_etanol_estado = (df6e7.loc[df6e7['Produto'] == 'ETANOL', [\"Estado - Sigla\",\"Produto\", \"Valor de Venda\"]])"
      ]
    },
    {
      "cell_type": "markdown",
      "source": [
        "- Agrupei o df onde havia apenas o produto ETANOL por estado e extraí a média dos valores de venda"
      ],
      "metadata": {
        "id": "yfHVJP000Cl_"
      }
    },
    {
      "cell_type": "code",
      "execution_count": 1,
      "metadata": {
        "colab": {
          "base_uri": "https://localhost:8080/",
          "height": 171
        },
        "id": "o15oSiDecDYJ",
        "outputId": "4d28ddd5-5708-445b-a082-f5ce79a8caab"
      },
      "outputs": [
        {
          "output_type": "error",
          "ename": "NameError",
          "evalue": "ignored",
          "traceback": [
            "\u001b[0;31m---------------------------------------------------------------------------\u001b[0m",
            "\u001b[0;31mNameError\u001b[0m                                 Traceback (most recent call last)",
            "\u001b[0;32m<ipython-input-1-236a5f71b241>\u001b[0m in \u001b[0;36m<module>\u001b[0;34m()\u001b[0m\n\u001b[0;32m----> 1\u001b[0;31m \u001b[0mmedio_etanol_estado\u001b[0m\u001b[0;34m.\u001b[0m\u001b[0mgroupby\u001b[0m\u001b[0;34m(\u001b[0m\u001b[0;34m[\u001b[0m\u001b[0;34m'Produto'\u001b[0m\u001b[0;34m,\u001b[0m \u001b[0;34m'Estado - Sigla'\u001b[0m\u001b[0;34m]\u001b[0m\u001b[0;34m,\u001b[0m \u001b[0mas_index\u001b[0m \u001b[0;34m=\u001b[0m \u001b[0;32mFalse\u001b[0m\u001b[0;34m)\u001b[0m\u001b[0;34m.\u001b[0m\u001b[0mmean\u001b[0m\u001b[0;34m(\u001b[0m\u001b[0;34m)\u001b[0m\u001b[0;34m\u001b[0m\u001b[0;34m\u001b[0m\u001b[0m\n\u001b[0m",
            "\u001b[0;31mNameError\u001b[0m: name 'medio_etanol_estado' is not defined"
          ]
        }
      ],
      "source": [
        "medio_etanol_estado.groupby(['Produto', 'Estado - Sigla'], as_index = False).mean()"
      ]
    },
    {
      "cell_type": "markdown",
      "metadata": {
        "id": "VOaokskeeI8x"
      },
      "source": [
        "**Gasolina**"
      ]
    },
    {
      "cell_type": "markdown",
      "source": [
        "- Criei um novo df onde selecionei apenas o produto = 'GASOLINA', juntamente com as colunas que foram necessárias para a extração do preço médio do produto por estado"
      ],
      "metadata": {
        "id": "G1dofVsQ0wFk"
      }
    },
    {
      "cell_type": "code",
      "execution_count": null,
      "metadata": {
        "id": "h_ve4Jukd22Z"
      },
      "outputs": [],
      "source": [
        "medio_gasolina_estado = (df6e7.loc[df6e7['Produto'] == 'GASOLINA', [\"Estado - Sigla\", \"Produto\", \"Valor de Venda\"]])"
      ]
    },
    {
      "cell_type": "markdown",
      "source": [
        "- Agrupei o df onde havia apenas o produto GASOLINA por estado e extraí a média dos valores de venda"
      ],
      "metadata": {
        "id": "cZ4kMDex029F"
      }
    },
    {
      "cell_type": "code",
      "execution_count": null,
      "metadata": {
        "id": "uihr5EH1d2PS"
      },
      "outputs": [],
      "source": [
        "(medio_gasolina_estado.groupby(['Produto', 'Estado - Sigla'], as_index = False).mean())"
      ]
    },
    {
      "cell_type": "markdown",
      "metadata": {
        "id": "aVAKSY7ne2UZ"
      },
      "source": [
        "**Gasolina Aditivada**"
      ]
    },
    {
      "cell_type": "code",
      "execution_count": null,
      "metadata": {
        "id": "jle7a_-ee8LD"
      },
      "outputs": [],
      "source": [
        "medio_gasoadit_estado = (df6e7.loc[df6e7['Produto'] == 'GASOLINA ADITIVADA', [\"Estado - Sigla\", \"Produto\", \"Valor de Venda\"]])"
      ]
    },
    {
      "cell_type": "markdown",
      "source": [
        "- Agrupei o df onde havia apenas o produto GASOLINA ADITIVADA por estado e extraí a média dos valores de venda"
      ],
      "metadata": {
        "id": "IZ-tC53x1Biq"
      }
    },
    {
      "cell_type": "code",
      "execution_count": null,
      "metadata": {
        "id": "6tB-oLSQftxv"
      },
      "outputs": [],
      "source": [
        "(medio_gasoadit_estado.groupby(['Produto', 'Estado - Sigla'], as_index = False).mean())"
      ]
    },
    {
      "cell_type": "markdown",
      "metadata": {
        "id": "5Sy8kFltVhrL"
      },
      "source": [
        "## **Questões 5 e 6 (Beatriz)**\n",
        "\n",
        "> Principais etapas para elaborar a resposta da questão: \n",
        "\n",
        "• Concatenar os Dataframes referentes aos meses de junho (gasol_06) e julho (gasol_07);\n",
        "\n",
        "• Obter um resumo conciso do dataframe por meio da função df.info()\n",
        "\n",
        "• Utilizar a função astype para alterar o tipo de dados da coluna ‘Valor de Venda’ para float;\n",
        "\n",
        "• Para descobrir quais municípios apresentaram o valor máximo e o valor mínimo dos produtos solicitados, foram criadas variáveis que agregam as consultas (método query) dos respectivos valores (funções min() e max());\n",
        "\n",
        "• Utilizar o método format() que permite substituições e formatação de valor.\n",
        "\n",
        "\n"
      ]
    },
    {
      "cell_type": "code",
      "execution_count": null,
      "metadata": {
        "id": "31SqprG3OZUn"
      },
      "outputs": [],
      "source": [
        "url = 'https://www.gov.br/anp/pt-br/centrais-de-conteudo/dados-abertos/arquivos/shpc/dsan/2021/2021-06-gasolina-etanol.csv'\n",
        "gasol_06 = pd.read_csv(url,on_bad_lines='skip', sep = ';')\n",
        "#gasol_06"
      ]
    },
    {
      "cell_type": "code",
      "execution_count": null,
      "metadata": {
        "id": "evCHok2VOZp9"
      },
      "outputs": [],
      "source": [
        "url = 'https://www.gov.br/anp/pt-br/centrais-de-conteudo/dados-abertos/arquivos/shpc/dsan/2021/2021-07-gasolina-etanol.csv'\n",
        "gasol_07 = pd.read_csv(url, engine = 'python', on_bad_lines='skip', sep = ';')\n",
        "#gasol_07"
      ]
    },
    {
      "cell_type": "code",
      "execution_count": null,
      "metadata": {
        "id": "mnP0kfyDLoSo"
      },
      "outputs": [],
      "source": [
        "df6e7 = pd.concat([gasol_06, gasol_07])\n",
        "#df6e7"
      ]
    },
    {
      "cell_type": "code",
      "execution_count": null,
      "metadata": {
        "id": "s1UAq4snOYQ6"
      },
      "outputs": [],
      "source": [
        "df6e7.info()"
      ]
    },
    {
      "cell_type": "code",
      "execution_count": null,
      "metadata": {
        "id": "0BV0ZwpLOYdO"
      },
      "outputs": [],
      "source": [
        "#df6e7.head(5)"
      ]
    },
    {
      "cell_type": "code",
      "execution_count": null,
      "metadata": {
        "id": "nuKsCmZ1MRke"
      },
      "outputs": [],
      "source": [
        "df6e7['Valor de Venda'] = df6e7['Valor de Venda'].apply(lambda x:str(x).replace(\",\",\".\")) \n",
        "df6e7"
      ]
    },
    {
      "cell_type": "code",
      "execution_count": null,
      "metadata": {
        "id": "pCAP9kbGMeKg"
      },
      "outputs": [],
      "source": [
        "df6e7['Valor de Venda'] = df6e7['Valor de Venda'].astype('float64')\n",
        "df6e7"
      ]
    },
    {
      "cell_type": "markdown",
      "metadata": {
        "id": "itqGnADqTpmc"
      },
      "source": [
        "**5) Qual o município que possui o menor preço para a gasolina e para o etanol?**\n"
      ]
    },
    {
      "cell_type": "markdown",
      "metadata": {
        "id": "aYLOrvfTMZOj"
      },
      "source": [
        "Função utilizada para consultar qual município apresenta o menor preço da Gasolina"
      ]
    },
    {
      "cell_type": "code",
      "execution_count": null,
      "metadata": {
        "id": "QBmbYbzIPXc1"
      },
      "outputs": [],
      "source": [
        "min_gasolina = df6e7.query('Produto == \"GASOLINA\"')['Valor de Venda'].min()\n",
        "df6e7.query('Produto == \"GASOLINA\" and `Valor de Venda` == {}'.format(min_gasolina))\n"
      ]
    },
    {
      "cell_type": "markdown",
      "metadata": {
        "id": "leUJVCoeNTGO"
      },
      "source": [
        "Função utilizada para consultar qual município apresenta o menor preço do Etanol"
      ]
    },
    {
      "cell_type": "code",
      "execution_count": null,
      "metadata": {
        "id": "kc3AuCuwNmtt"
      },
      "outputs": [],
      "source": [
        "min_etanol = df6e7.query('Produto == \"ETANOL\"')['Valor de Venda'].min()\n",
        "df6e7.query('Produto == \"ETANOL\" and `Valor de Venda` == {}'.format(min_etanol))"
      ]
    },
    {
      "cell_type": "markdown",
      "metadata": {
        "id": "8gq2kCViNDX2"
      },
      "source": [
        "**6) Qual o município que possui o maior preço para a gasolina e para o etanol?**"
      ]
    },
    {
      "cell_type": "markdown",
      "metadata": {
        "id": "fVEerBi-SKy9"
      },
      "source": [
        "Função utilizada para consultar qual município apresenta o maior preço da Gasolina"
      ]
    },
    {
      "cell_type": "code",
      "execution_count": null,
      "metadata": {
        "id": "y9PDJQqySQmy"
      },
      "outputs": [],
      "source": [
        "max_gasolina = df6e7.query('Produto == \"GASOLINA\"')['Valor de Venda'].max()\n",
        "df6e7.query('Produto == \"GASOLINA\" and  `Valor de Venda` == {}'.format(max_gasolina))\n"
      ]
    },
    {
      "cell_type": "markdown",
      "metadata": {
        "id": "AptxNqgQSVF9"
      },
      "source": [
        "Função utilizada para consultar qual município apresenta o maior preço do Etanol"
      ]
    },
    {
      "cell_type": "code",
      "execution_count": null,
      "metadata": {
        "id": "HASIUcV0SZyA"
      },
      "outputs": [],
      "source": [
        "max_etanol = df6e7.query('Produto == \"ETANOL\"')['Valor de Venda'].max()\n",
        "df6e7.query('Produto == \"ETANOL\" and `Valor de Venda` == {}'.format(max_etanol))"
      ]
    },
    {
      "cell_type": "markdown",
      "metadata": {
        "id": "Q5SIAMkBWJAp"
      },
      "source": [
        "##**Questão 7 (Jaqueline)**\n",
        "\n",
        "> Qual a região que possui o maior valor médio da gasolina?\n",
        "\n",
        "Para resolução da pergunta foi criado um DataFrame contendo somente as siglas das regiões, o produto e o valor de venda. O processo para resposta da pergunta seguiu a seguinte lógica: \n",
        "\n",
        "1. criação do DF e Concatenaçã0 06/07\n",
        "2. média\n",
        "3. ordenação"
      ]
    },
    {
      "cell_type": "markdown",
      "metadata": {
        "id": "DkI7saS-1_MZ"
      },
      "source": [
        "Seleção de dados importantes do DataFrame - mês 06"
      ]
    },
    {
      "cell_type": "code",
      "execution_count": null,
      "metadata": {
        "colab": {
          "background_save": true
        },
        "id": "7dd4fpUXWRJo",
        "outputId": "73d72b9c-114d-4bb0-8741-2bd87f01b3c9"
      },
      "outputs": [
        {
          "data": {
            "text/html": [
              "\n",
              "  <div id=\"df-be8eb58f-284e-4c3b-8781-a7b4021c654d\">\n",
              "    <div class=\"colab-df-container\">\n",
              "      <div>\n",
              "<style scoped>\n",
              "    .dataframe tbody tr th:only-of-type {\n",
              "        vertical-align: middle;\n",
              "    }\n",
              "\n",
              "    .dataframe tbody tr th {\n",
              "        vertical-align: top;\n",
              "    }\n",
              "\n",
              "    .dataframe thead th {\n",
              "        text-align: right;\n",
              "    }\n",
              "</style>\n",
              "<table border=\"1\" class=\"dataframe\">\n",
              "  <thead>\n",
              "    <tr style=\"text-align: right;\">\n",
              "      <th></th>\n",
              "      <th>Região - Sigla</th>\n",
              "      <th>Produto</th>\n",
              "      <th>Valor de Venda</th>\n",
              "    </tr>\n",
              "  </thead>\n",
              "  <tbody>\n",
              "    <tr>\n",
              "      <th>0</th>\n",
              "      <td>N</td>\n",
              "      <td>GASOLINA</td>\n",
              "      <td>6,89</td>\n",
              "    </tr>\n",
              "    <tr>\n",
              "      <th>1</th>\n",
              "      <td>N</td>\n",
              "      <td>GASOLINA ADITIVADA</td>\n",
              "      <td>6,89</td>\n",
              "    </tr>\n",
              "    <tr>\n",
              "      <th>2</th>\n",
              "      <td>N</td>\n",
              "      <td>ETANOL</td>\n",
              "      <td>6,1</td>\n",
              "    </tr>\n",
              "    <tr>\n",
              "      <th>3</th>\n",
              "      <td>N</td>\n",
              "      <td>GASOLINA</td>\n",
              "      <td>6,89</td>\n",
              "    </tr>\n",
              "    <tr>\n",
              "      <th>4</th>\n",
              "      <td>N</td>\n",
              "      <td>GASOLINA</td>\n",
              "      <td>6,89</td>\n",
              "    </tr>\n",
              "    <tr>\n",
              "      <th>...</th>\n",
              "      <td>...</td>\n",
              "      <td>...</td>\n",
              "      <td>...</td>\n",
              "    </tr>\n",
              "    <tr>\n",
              "      <th>49732</th>\n",
              "      <td>NE</td>\n",
              "      <td>GASOLINA</td>\n",
              "      <td>5,59</td>\n",
              "    </tr>\n",
              "    <tr>\n",
              "      <th>49733</th>\n",
              "      <td>NE</td>\n",
              "      <td>ETANOL</td>\n",
              "      <td>4,72</td>\n",
              "    </tr>\n",
              "    <tr>\n",
              "      <th>49734</th>\n",
              "      <td>SE</td>\n",
              "      <td>GASOLINA</td>\n",
              "      <td>5,67</td>\n",
              "    </tr>\n",
              "    <tr>\n",
              "      <th>49735</th>\n",
              "      <td>SE</td>\n",
              "      <td>ETANOL</td>\n",
              "      <td>4,79</td>\n",
              "    </tr>\n",
              "    <tr>\n",
              "      <th>49736</th>\n",
              "      <td>SE</td>\n",
              "      <td>GASOLINA ADITIVADA</td>\n",
              "      <td>5,67</td>\n",
              "    </tr>\n",
              "  </tbody>\n",
              "</table>\n",
              "<p>49737 rows × 3 columns</p>\n",
              "</div>\n",
              "      <button class=\"colab-df-convert\" onclick=\"convertToInteractive('df-be8eb58f-284e-4c3b-8781-a7b4021c654d')\"\n",
              "              title=\"Convert this dataframe to an interactive table.\"\n",
              "              style=\"display:none;\">\n",
              "        \n",
              "  <svg xmlns=\"http://www.w3.org/2000/svg\" height=\"24px\"viewBox=\"0 0 24 24\"\n",
              "       width=\"24px\">\n",
              "    <path d=\"M0 0h24v24H0V0z\" fill=\"none\"/>\n",
              "    <path d=\"M18.56 5.44l.94 2.06.94-2.06 2.06-.94-2.06-.94-.94-2.06-.94 2.06-2.06.94zm-11 1L8.5 8.5l.94-2.06 2.06-.94-2.06-.94L8.5 2.5l-.94 2.06-2.06.94zm10 10l.94 2.06.94-2.06 2.06-.94-2.06-.94-.94-2.06-.94 2.06-2.06.94z\"/><path d=\"M17.41 7.96l-1.37-1.37c-.4-.4-.92-.59-1.43-.59-.52 0-1.04.2-1.43.59L10.3 9.45l-7.72 7.72c-.78.78-.78 2.05 0 2.83L4 21.41c.39.39.9.59 1.41.59.51 0 1.02-.2 1.41-.59l7.78-7.78 2.81-2.81c.8-.78.8-2.07 0-2.86zM5.41 20L4 18.59l7.72-7.72 1.47 1.35L5.41 20z\"/>\n",
              "  </svg>\n",
              "      </button>\n",
              "      \n",
              "  <style>\n",
              "    .colab-df-container {\n",
              "      display:flex;\n",
              "      flex-wrap:wrap;\n",
              "      gap: 12px;\n",
              "    }\n",
              "\n",
              "    .colab-df-convert {\n",
              "      background-color: #E8F0FE;\n",
              "      border: none;\n",
              "      border-radius: 50%;\n",
              "      cursor: pointer;\n",
              "      display: none;\n",
              "      fill: #1967D2;\n",
              "      height: 32px;\n",
              "      padding: 0 0 0 0;\n",
              "      width: 32px;\n",
              "    }\n",
              "\n",
              "    .colab-df-convert:hover {\n",
              "      background-color: #E2EBFA;\n",
              "      box-shadow: 0px 1px 2px rgba(60, 64, 67, 0.3), 0px 1px 3px 1px rgba(60, 64, 67, 0.15);\n",
              "      fill: #174EA6;\n",
              "    }\n",
              "\n",
              "    [theme=dark] .colab-df-convert {\n",
              "      background-color: #3B4455;\n",
              "      fill: #D2E3FC;\n",
              "    }\n",
              "\n",
              "    [theme=dark] .colab-df-convert:hover {\n",
              "      background-color: #434B5C;\n",
              "      box-shadow: 0px 1px 3px 1px rgba(0, 0, 0, 0.15);\n",
              "      filter: drop-shadow(0px 1px 2px rgba(0, 0, 0, 0.3));\n",
              "      fill: #FFFFFF;\n",
              "    }\n",
              "  </style>\n",
              "\n",
              "      <script>\n",
              "        const buttonEl =\n",
              "          document.querySelector('#df-be8eb58f-284e-4c3b-8781-a7b4021c654d button.colab-df-convert');\n",
              "        buttonEl.style.display =\n",
              "          google.colab.kernel.accessAllowed ? 'block' : 'none';\n",
              "\n",
              "        async function convertToInteractive(key) {\n",
              "          const element = document.querySelector('#df-be8eb58f-284e-4c3b-8781-a7b4021c654d');\n",
              "          const dataTable =\n",
              "            await google.colab.kernel.invokeFunction('convertToInteractive',\n",
              "                                                     [key], {});\n",
              "          if (!dataTable) return;\n",
              "\n",
              "          const docLinkHtml = 'Like what you see? Visit the ' +\n",
              "            '<a target=\"_blank\" href=https://colab.research.google.com/notebooks/data_table.ipynb>data table notebook</a>'\n",
              "            + ' to learn more about interactive tables.';\n",
              "          element.innerHTML = '';\n",
              "          dataTable['output_type'] = 'display_data';\n",
              "          await google.colab.output.renderOutput(dataTable, element);\n",
              "          const docLink = document.createElement('div');\n",
              "          docLink.innerHTML = docLinkHtml;\n",
              "          element.appendChild(docLink);\n",
              "        }\n",
              "      </script>\n",
              "    </div>\n",
              "  </div>\n",
              "  "
            ],
            "text/plain": [
              "      Região - Sigla             Produto Valor de Venda\n",
              "0                  N            GASOLINA           6,89\n",
              "1                  N  GASOLINA ADITIVADA           6,89\n",
              "2                  N              ETANOL            6,1\n",
              "3                  N            GASOLINA           6,89\n",
              "4                  N            GASOLINA           6,89\n",
              "...              ...                 ...            ...\n",
              "49732             NE            GASOLINA           5,59\n",
              "49733             NE              ETANOL           4,72\n",
              "49734             SE            GASOLINA           5,67\n",
              "49735             SE              ETANOL           4,79\n",
              "49736             SE  GASOLINA ADITIVADA           5,67\n",
              "\n",
              "[49737 rows x 3 columns]"
            ]
          },
          "execution_count": null,
          "metadata": {},
          "output_type": "execute_result"
        }
      ],
      "source": [
        "regiao_06 = gasol_06.filter(['Região - Sigla','Produto', 'Valor de Venda'], axis=1)\n",
        "regiao_06"
      ]
    },
    {
      "cell_type": "markdown",
      "source": [
        "Separação de tipo de produto - mês 06\n",
        "\n"
      ],
      "metadata": {
        "id": "XC_ELPCiTjZV"
      }
    },
    {
      "cell_type": "code",
      "execution_count": null,
      "metadata": {
        "colab": {
          "background_save": true
        },
        "id": "sO1a7cKF3LFJ",
        "outputId": "ff222b47-0092-4c24-d476-cd322e220fa1"
      },
      "outputs": [
        {
          "data": {
            "text/html": [
              "\n",
              "  <div id=\"df-e2bbb39d-e772-4037-8e41-615de9d53d30\">\n",
              "    <div class=\"colab-df-container\">\n",
              "      <div>\n",
              "<style scoped>\n",
              "    .dataframe tbody tr th:only-of-type {\n",
              "        vertical-align: middle;\n",
              "    }\n",
              "\n",
              "    .dataframe tbody tr th {\n",
              "        vertical-align: top;\n",
              "    }\n",
              "\n",
              "    .dataframe thead th {\n",
              "        text-align: right;\n",
              "    }\n",
              "</style>\n",
              "<table border=\"1\" class=\"dataframe\">\n",
              "  <thead>\n",
              "    <tr style=\"text-align: right;\">\n",
              "      <th></th>\n",
              "      <th>Região - Sigla</th>\n",
              "      <th>Produto</th>\n",
              "      <th>Valor de Venda</th>\n",
              "    </tr>\n",
              "  </thead>\n",
              "  <tbody>\n",
              "    <tr>\n",
              "      <th>0</th>\n",
              "      <td>N</td>\n",
              "      <td>GASOLINA</td>\n",
              "      <td>6,89</td>\n",
              "    </tr>\n",
              "    <tr>\n",
              "      <th>1</th>\n",
              "      <td>N</td>\n",
              "      <td>GASOLINA ADITIVADA</td>\n",
              "      <td>6,89</td>\n",
              "    </tr>\n",
              "    <tr>\n",
              "      <th>3</th>\n",
              "      <td>N</td>\n",
              "      <td>GASOLINA</td>\n",
              "      <td>6,89</td>\n",
              "    </tr>\n",
              "    <tr>\n",
              "      <th>4</th>\n",
              "      <td>N</td>\n",
              "      <td>GASOLINA</td>\n",
              "      <td>6,89</td>\n",
              "    </tr>\n",
              "    <tr>\n",
              "      <th>5</th>\n",
              "      <td>N</td>\n",
              "      <td>GASOLINA ADITIVADA</td>\n",
              "      <td>6,34</td>\n",
              "    </tr>\n",
              "    <tr>\n",
              "      <th>...</th>\n",
              "      <td>...</td>\n",
              "      <td>...</td>\n",
              "      <td>...</td>\n",
              "    </tr>\n",
              "    <tr>\n",
              "      <th>49730</th>\n",
              "      <td>S</td>\n",
              "      <td>GASOLINA</td>\n",
              "      <td>5,459</td>\n",
              "    </tr>\n",
              "    <tr>\n",
              "      <th>49731</th>\n",
              "      <td>S</td>\n",
              "      <td>GASOLINA ADITIVADA</td>\n",
              "      <td>5,559</td>\n",
              "    </tr>\n",
              "    <tr>\n",
              "      <th>49732</th>\n",
              "      <td>NE</td>\n",
              "      <td>GASOLINA</td>\n",
              "      <td>5,59</td>\n",
              "    </tr>\n",
              "    <tr>\n",
              "      <th>49734</th>\n",
              "      <td>SE</td>\n",
              "      <td>GASOLINA</td>\n",
              "      <td>5,67</td>\n",
              "    </tr>\n",
              "    <tr>\n",
              "      <th>49736</th>\n",
              "      <td>SE</td>\n",
              "      <td>GASOLINA ADITIVADA</td>\n",
              "      <td>5,67</td>\n",
              "    </tr>\n",
              "  </tbody>\n",
              "</table>\n",
              "<p>32761 rows × 3 columns</p>\n",
              "</div>\n",
              "      <button class=\"colab-df-convert\" onclick=\"convertToInteractive('df-e2bbb39d-e772-4037-8e41-615de9d53d30')\"\n",
              "              title=\"Convert this dataframe to an interactive table.\"\n",
              "              style=\"display:none;\">\n",
              "        \n",
              "  <svg xmlns=\"http://www.w3.org/2000/svg\" height=\"24px\"viewBox=\"0 0 24 24\"\n",
              "       width=\"24px\">\n",
              "    <path d=\"M0 0h24v24H0V0z\" fill=\"none\"/>\n",
              "    <path d=\"M18.56 5.44l.94 2.06.94-2.06 2.06-.94-2.06-.94-.94-2.06-.94 2.06-2.06.94zm-11 1L8.5 8.5l.94-2.06 2.06-.94-2.06-.94L8.5 2.5l-.94 2.06-2.06.94zm10 10l.94 2.06.94-2.06 2.06-.94-2.06-.94-.94-2.06-.94 2.06-2.06.94z\"/><path d=\"M17.41 7.96l-1.37-1.37c-.4-.4-.92-.59-1.43-.59-.52 0-1.04.2-1.43.59L10.3 9.45l-7.72 7.72c-.78.78-.78 2.05 0 2.83L4 21.41c.39.39.9.59 1.41.59.51 0 1.02-.2 1.41-.59l7.78-7.78 2.81-2.81c.8-.78.8-2.07 0-2.86zM5.41 20L4 18.59l7.72-7.72 1.47 1.35L5.41 20z\"/>\n",
              "  </svg>\n",
              "      </button>\n",
              "      \n",
              "  <style>\n",
              "    .colab-df-container {\n",
              "      display:flex;\n",
              "      flex-wrap:wrap;\n",
              "      gap: 12px;\n",
              "    }\n",
              "\n",
              "    .colab-df-convert {\n",
              "      background-color: #E8F0FE;\n",
              "      border: none;\n",
              "      border-radius: 50%;\n",
              "      cursor: pointer;\n",
              "      display: none;\n",
              "      fill: #1967D2;\n",
              "      height: 32px;\n",
              "      padding: 0 0 0 0;\n",
              "      width: 32px;\n",
              "    }\n",
              "\n",
              "    .colab-df-convert:hover {\n",
              "      background-color: #E2EBFA;\n",
              "      box-shadow: 0px 1px 2px rgba(60, 64, 67, 0.3), 0px 1px 3px 1px rgba(60, 64, 67, 0.15);\n",
              "      fill: #174EA6;\n",
              "    }\n",
              "\n",
              "    [theme=dark] .colab-df-convert {\n",
              "      background-color: #3B4455;\n",
              "      fill: #D2E3FC;\n",
              "    }\n",
              "\n",
              "    [theme=dark] .colab-df-convert:hover {\n",
              "      background-color: #434B5C;\n",
              "      box-shadow: 0px 1px 3px 1px rgba(0, 0, 0, 0.15);\n",
              "      filter: drop-shadow(0px 1px 2px rgba(0, 0, 0, 0.3));\n",
              "      fill: #FFFFFF;\n",
              "    }\n",
              "  </style>\n",
              "\n",
              "      <script>\n",
              "        const buttonEl =\n",
              "          document.querySelector('#df-e2bbb39d-e772-4037-8e41-615de9d53d30 button.colab-df-convert');\n",
              "        buttonEl.style.display =\n",
              "          google.colab.kernel.accessAllowed ? 'block' : 'none';\n",
              "\n",
              "        async function convertToInteractive(key) {\n",
              "          const element = document.querySelector('#df-e2bbb39d-e772-4037-8e41-615de9d53d30');\n",
              "          const dataTable =\n",
              "            await google.colab.kernel.invokeFunction('convertToInteractive',\n",
              "                                                     [key], {});\n",
              "          if (!dataTable) return;\n",
              "\n",
              "          const docLinkHtml = 'Like what you see? Visit the ' +\n",
              "            '<a target=\"_blank\" href=https://colab.research.google.com/notebooks/data_table.ipynb>data table notebook</a>'\n",
              "            + ' to learn more about interactive tables.';\n",
              "          element.innerHTML = '';\n",
              "          dataTable['output_type'] = 'display_data';\n",
              "          await google.colab.output.renderOutput(dataTable, element);\n",
              "          const docLink = document.createElement('div');\n",
              "          docLink.innerHTML = docLinkHtml;\n",
              "          element.appendChild(docLink);\n",
              "        }\n",
              "      </script>\n",
              "    </div>\n",
              "  </div>\n",
              "  "
            ],
            "text/plain": [
              "      Região - Sigla             Produto Valor de Venda\n",
              "0                  N            GASOLINA           6,89\n",
              "1                  N  GASOLINA ADITIVADA           6,89\n",
              "3                  N            GASOLINA           6,89\n",
              "4                  N            GASOLINA           6,89\n",
              "5                  N  GASOLINA ADITIVADA           6,34\n",
              "...              ...                 ...            ...\n",
              "49730              S            GASOLINA          5,459\n",
              "49731              S  GASOLINA ADITIVADA          5,559\n",
              "49732             NE            GASOLINA           5,59\n",
              "49734             SE            GASOLINA           5,67\n",
              "49736             SE  GASOLINA ADITIVADA           5,67\n",
              "\n",
              "[32761 rows x 3 columns]"
            ]
          },
          "execution_count": null,
          "metadata": {},
          "output_type": "execute_result"
        }
      ],
      "source": [
        "regiao_gasolMes6 = regiao_06[regiao_06['Produto'].isin(['GASOLINA','GASOLINA ADITIVADA'])]\n",
        "regiao_gasolMes6"
      ]
    },
    {
      "cell_type": "markdown",
      "source": [
        "Seleção de dados importantes do DataFrame - mês 07"
      ],
      "metadata": {
        "id": "Kw4z1E6JTxGd"
      }
    },
    {
      "cell_type": "code",
      "execution_count": null,
      "metadata": {
        "colab": {
          "background_save": true
        },
        "id": "oI3y6_XP3RPR",
        "outputId": "419063db-12be-4d6b-cbab-71867b3be6b7"
      },
      "outputs": [
        {
          "data": {
            "text/html": [
              "\n",
              "  <div id=\"df-c2461739-88a2-47fb-b3f7-b53aff08f176\">\n",
              "    <div class=\"colab-df-container\">\n",
              "      <div>\n",
              "<style scoped>\n",
              "    .dataframe tbody tr th:only-of-type {\n",
              "        vertical-align: middle;\n",
              "    }\n",
              "\n",
              "    .dataframe tbody tr th {\n",
              "        vertical-align: top;\n",
              "    }\n",
              "\n",
              "    .dataframe thead th {\n",
              "        text-align: right;\n",
              "    }\n",
              "</style>\n",
              "<table border=\"1\" class=\"dataframe\">\n",
              "  <thead>\n",
              "    <tr style=\"text-align: right;\">\n",
              "      <th></th>\n",
              "      <th>Região - Sigla</th>\n",
              "      <th>Produto</th>\n",
              "      <th>Valor de Venda</th>\n",
              "    </tr>\n",
              "  </thead>\n",
              "  <tbody>\n",
              "    <tr>\n",
              "      <th>0</th>\n",
              "      <td>NE</td>\n",
              "      <td>GASOLINA</td>\n",
              "      <td>5,499</td>\n",
              "    </tr>\n",
              "    <tr>\n",
              "      <th>1</th>\n",
              "      <td>NE</td>\n",
              "      <td>ETANOL</td>\n",
              "      <td>5,2</td>\n",
              "    </tr>\n",
              "    <tr>\n",
              "      <th>2</th>\n",
              "      <td>NE</td>\n",
              "      <td>GASOLINA ADITIVADA</td>\n",
              "      <td>5,699</td>\n",
              "    </tr>\n",
              "    <tr>\n",
              "      <th>3</th>\n",
              "      <td>NE</td>\n",
              "      <td>GASOLINA</td>\n",
              "      <td>5,49</td>\n",
              "    </tr>\n",
              "    <tr>\n",
              "      <th>4</th>\n",
              "      <td>NE</td>\n",
              "      <td>ETANOL</td>\n",
              "      <td>4,99</td>\n",
              "    </tr>\n",
              "    <tr>\n",
              "      <th>...</th>\n",
              "      <td>...</td>\n",
              "      <td>...</td>\n",
              "      <td>...</td>\n",
              "    </tr>\n",
              "    <tr>\n",
              "      <th>47844</th>\n",
              "      <td>SE</td>\n",
              "      <td>GASOLINA ADITIVADA</td>\n",
              "      <td>5,87</td>\n",
              "    </tr>\n",
              "    <tr>\n",
              "      <th>47845</th>\n",
              "      <td>SE</td>\n",
              "      <td>ETANOL</td>\n",
              "      <td>4,99</td>\n",
              "    </tr>\n",
              "    <tr>\n",
              "      <th>47846</th>\n",
              "      <td>SE</td>\n",
              "      <td>GASOLINA</td>\n",
              "      <td>5,87</td>\n",
              "    </tr>\n",
              "    <tr>\n",
              "      <th>47847</th>\n",
              "      <td>SE</td>\n",
              "      <td>ETANOL</td>\n",
              "      <td>4,599</td>\n",
              "    </tr>\n",
              "    <tr>\n",
              "      <th>47848</th>\n",
              "      <td>SE</td>\n",
              "      <td>GASOLINA</td>\n",
              "      <td>6,199</td>\n",
              "    </tr>\n",
              "  </tbody>\n",
              "</table>\n",
              "<p>47849 rows × 3 columns</p>\n",
              "</div>\n",
              "      <button class=\"colab-df-convert\" onclick=\"convertToInteractive('df-c2461739-88a2-47fb-b3f7-b53aff08f176')\"\n",
              "              title=\"Convert this dataframe to an interactive table.\"\n",
              "              style=\"display:none;\">\n",
              "        \n",
              "  <svg xmlns=\"http://www.w3.org/2000/svg\" height=\"24px\"viewBox=\"0 0 24 24\"\n",
              "       width=\"24px\">\n",
              "    <path d=\"M0 0h24v24H0V0z\" fill=\"none\"/>\n",
              "    <path d=\"M18.56 5.44l.94 2.06.94-2.06 2.06-.94-2.06-.94-.94-2.06-.94 2.06-2.06.94zm-11 1L8.5 8.5l.94-2.06 2.06-.94-2.06-.94L8.5 2.5l-.94 2.06-2.06.94zm10 10l.94 2.06.94-2.06 2.06-.94-2.06-.94-.94-2.06-.94 2.06-2.06.94z\"/><path d=\"M17.41 7.96l-1.37-1.37c-.4-.4-.92-.59-1.43-.59-.52 0-1.04.2-1.43.59L10.3 9.45l-7.72 7.72c-.78.78-.78 2.05 0 2.83L4 21.41c.39.39.9.59 1.41.59.51 0 1.02-.2 1.41-.59l7.78-7.78 2.81-2.81c.8-.78.8-2.07 0-2.86zM5.41 20L4 18.59l7.72-7.72 1.47 1.35L5.41 20z\"/>\n",
              "  </svg>\n",
              "      </button>\n",
              "      \n",
              "  <style>\n",
              "    .colab-df-container {\n",
              "      display:flex;\n",
              "      flex-wrap:wrap;\n",
              "      gap: 12px;\n",
              "    }\n",
              "\n",
              "    .colab-df-convert {\n",
              "      background-color: #E8F0FE;\n",
              "      border: none;\n",
              "      border-radius: 50%;\n",
              "      cursor: pointer;\n",
              "      display: none;\n",
              "      fill: #1967D2;\n",
              "      height: 32px;\n",
              "      padding: 0 0 0 0;\n",
              "      width: 32px;\n",
              "    }\n",
              "\n",
              "    .colab-df-convert:hover {\n",
              "      background-color: #E2EBFA;\n",
              "      box-shadow: 0px 1px 2px rgba(60, 64, 67, 0.3), 0px 1px 3px 1px rgba(60, 64, 67, 0.15);\n",
              "      fill: #174EA6;\n",
              "    }\n",
              "\n",
              "    [theme=dark] .colab-df-convert {\n",
              "      background-color: #3B4455;\n",
              "      fill: #D2E3FC;\n",
              "    }\n",
              "\n",
              "    [theme=dark] .colab-df-convert:hover {\n",
              "      background-color: #434B5C;\n",
              "      box-shadow: 0px 1px 3px 1px rgba(0, 0, 0, 0.15);\n",
              "      filter: drop-shadow(0px 1px 2px rgba(0, 0, 0, 0.3));\n",
              "      fill: #FFFFFF;\n",
              "    }\n",
              "  </style>\n",
              "\n",
              "      <script>\n",
              "        const buttonEl =\n",
              "          document.querySelector('#df-c2461739-88a2-47fb-b3f7-b53aff08f176 button.colab-df-convert');\n",
              "        buttonEl.style.display =\n",
              "          google.colab.kernel.accessAllowed ? 'block' : 'none';\n",
              "\n",
              "        async function convertToInteractive(key) {\n",
              "          const element = document.querySelector('#df-c2461739-88a2-47fb-b3f7-b53aff08f176');\n",
              "          const dataTable =\n",
              "            await google.colab.kernel.invokeFunction('convertToInteractive',\n",
              "                                                     [key], {});\n",
              "          if (!dataTable) return;\n",
              "\n",
              "          const docLinkHtml = 'Like what you see? Visit the ' +\n",
              "            '<a target=\"_blank\" href=https://colab.research.google.com/notebooks/data_table.ipynb>data table notebook</a>'\n",
              "            + ' to learn more about interactive tables.';\n",
              "          element.innerHTML = '';\n",
              "          dataTable['output_type'] = 'display_data';\n",
              "          await google.colab.output.renderOutput(dataTable, element);\n",
              "          const docLink = document.createElement('div');\n",
              "          docLink.innerHTML = docLinkHtml;\n",
              "          element.appendChild(docLink);\n",
              "        }\n",
              "      </script>\n",
              "    </div>\n",
              "  </div>\n",
              "  "
            ],
            "text/plain": [
              "      Região - Sigla             Produto Valor de Venda\n",
              "0                 NE            GASOLINA          5,499\n",
              "1                 NE              ETANOL            5,2\n",
              "2                 NE  GASOLINA ADITIVADA          5,699\n",
              "3                 NE            GASOLINA           5,49\n",
              "4                 NE              ETANOL           4,99\n",
              "...              ...                 ...            ...\n",
              "47844             SE  GASOLINA ADITIVADA           5,87\n",
              "47845             SE              ETANOL           4,99\n",
              "47846             SE            GASOLINA           5,87\n",
              "47847             SE              ETANOL          4,599\n",
              "47848             SE            GASOLINA          6,199\n",
              "\n",
              "[47849 rows x 3 columns]"
            ]
          },
          "execution_count": null,
          "metadata": {},
          "output_type": "execute_result"
        }
      ],
      "source": [
        "regiao_07 = gasol_07.filter(['Região - Sigla','Produto', 'Valor de Venda'], axis=1)\n",
        "regiao_07"
      ]
    },
    {
      "cell_type": "markdown",
      "source": [
        "Separação de tipo de produto - mês 07"
      ],
      "metadata": {
        "id": "qcEAnSyCT2jp"
      }
    },
    {
      "cell_type": "code",
      "execution_count": null,
      "metadata": {
        "colab": {
          "background_save": true
        },
        "id": "-ar7BSQc3UCd",
        "outputId": "a359b6c9-8fed-4e75-f3c8-6bbf5c5c0175"
      },
      "outputs": [
        {
          "data": {
            "text/html": [
              "\n",
              "  <div id=\"df-98a56b8f-805f-429f-9336-152e55135277\">\n",
              "    <div class=\"colab-df-container\">\n",
              "      <div>\n",
              "<style scoped>\n",
              "    .dataframe tbody tr th:only-of-type {\n",
              "        vertical-align: middle;\n",
              "    }\n",
              "\n",
              "    .dataframe tbody tr th {\n",
              "        vertical-align: top;\n",
              "    }\n",
              "\n",
              "    .dataframe thead th {\n",
              "        text-align: right;\n",
              "    }\n",
              "</style>\n",
              "<table border=\"1\" class=\"dataframe\">\n",
              "  <thead>\n",
              "    <tr style=\"text-align: right;\">\n",
              "      <th></th>\n",
              "      <th>Região - Sigla</th>\n",
              "      <th>Produto</th>\n",
              "      <th>Valor de Venda</th>\n",
              "    </tr>\n",
              "  </thead>\n",
              "  <tbody>\n",
              "    <tr>\n",
              "      <th>0</th>\n",
              "      <td>NE</td>\n",
              "      <td>GASOLINA</td>\n",
              "      <td>5,499</td>\n",
              "    </tr>\n",
              "    <tr>\n",
              "      <th>2</th>\n",
              "      <td>NE</td>\n",
              "      <td>GASOLINA ADITIVADA</td>\n",
              "      <td>5,699</td>\n",
              "    </tr>\n",
              "    <tr>\n",
              "      <th>3</th>\n",
              "      <td>NE</td>\n",
              "      <td>GASOLINA</td>\n",
              "      <td>5,49</td>\n",
              "    </tr>\n",
              "    <tr>\n",
              "      <th>5</th>\n",
              "      <td>NE</td>\n",
              "      <td>GASOLINA</td>\n",
              "      <td>5,499</td>\n",
              "    </tr>\n",
              "    <tr>\n",
              "      <th>7</th>\n",
              "      <td>NE</td>\n",
              "      <td>GASOLINA ADITIVADA</td>\n",
              "      <td>5,499</td>\n",
              "    </tr>\n",
              "    <tr>\n",
              "      <th>...</th>\n",
              "      <td>...</td>\n",
              "      <td>...</td>\n",
              "      <td>...</td>\n",
              "    </tr>\n",
              "    <tr>\n",
              "      <th>47841</th>\n",
              "      <td>S</td>\n",
              "      <td>GASOLINA</td>\n",
              "      <td>5,559</td>\n",
              "    </tr>\n",
              "    <tr>\n",
              "      <th>47842</th>\n",
              "      <td>NE</td>\n",
              "      <td>GASOLINA</td>\n",
              "      <td>5,75</td>\n",
              "    </tr>\n",
              "    <tr>\n",
              "      <th>47844</th>\n",
              "      <td>SE</td>\n",
              "      <td>GASOLINA ADITIVADA</td>\n",
              "      <td>5,87</td>\n",
              "    </tr>\n",
              "    <tr>\n",
              "      <th>47846</th>\n",
              "      <td>SE</td>\n",
              "      <td>GASOLINA</td>\n",
              "      <td>5,87</td>\n",
              "    </tr>\n",
              "    <tr>\n",
              "      <th>47848</th>\n",
              "      <td>SE</td>\n",
              "      <td>GASOLINA</td>\n",
              "      <td>6,199</td>\n",
              "    </tr>\n",
              "  </tbody>\n",
              "</table>\n",
              "<p>31729 rows × 3 columns</p>\n",
              "</div>\n",
              "      <button class=\"colab-df-convert\" onclick=\"convertToInteractive('df-98a56b8f-805f-429f-9336-152e55135277')\"\n",
              "              title=\"Convert this dataframe to an interactive table.\"\n",
              "              style=\"display:none;\">\n",
              "        \n",
              "  <svg xmlns=\"http://www.w3.org/2000/svg\" height=\"24px\"viewBox=\"0 0 24 24\"\n",
              "       width=\"24px\">\n",
              "    <path d=\"M0 0h24v24H0V0z\" fill=\"none\"/>\n",
              "    <path d=\"M18.56 5.44l.94 2.06.94-2.06 2.06-.94-2.06-.94-.94-2.06-.94 2.06-2.06.94zm-11 1L8.5 8.5l.94-2.06 2.06-.94-2.06-.94L8.5 2.5l-.94 2.06-2.06.94zm10 10l.94 2.06.94-2.06 2.06-.94-2.06-.94-.94-2.06-.94 2.06-2.06.94z\"/><path d=\"M17.41 7.96l-1.37-1.37c-.4-.4-.92-.59-1.43-.59-.52 0-1.04.2-1.43.59L10.3 9.45l-7.72 7.72c-.78.78-.78 2.05 0 2.83L4 21.41c.39.39.9.59 1.41.59.51 0 1.02-.2 1.41-.59l7.78-7.78 2.81-2.81c.8-.78.8-2.07 0-2.86zM5.41 20L4 18.59l7.72-7.72 1.47 1.35L5.41 20z\"/>\n",
              "  </svg>\n",
              "      </button>\n",
              "      \n",
              "  <style>\n",
              "    .colab-df-container {\n",
              "      display:flex;\n",
              "      flex-wrap:wrap;\n",
              "      gap: 12px;\n",
              "    }\n",
              "\n",
              "    .colab-df-convert {\n",
              "      background-color: #E8F0FE;\n",
              "      border: none;\n",
              "      border-radius: 50%;\n",
              "      cursor: pointer;\n",
              "      display: none;\n",
              "      fill: #1967D2;\n",
              "      height: 32px;\n",
              "      padding: 0 0 0 0;\n",
              "      width: 32px;\n",
              "    }\n",
              "\n",
              "    .colab-df-convert:hover {\n",
              "      background-color: #E2EBFA;\n",
              "      box-shadow: 0px 1px 2px rgba(60, 64, 67, 0.3), 0px 1px 3px 1px rgba(60, 64, 67, 0.15);\n",
              "      fill: #174EA6;\n",
              "    }\n",
              "\n",
              "    [theme=dark] .colab-df-convert {\n",
              "      background-color: #3B4455;\n",
              "      fill: #D2E3FC;\n",
              "    }\n",
              "\n",
              "    [theme=dark] .colab-df-convert:hover {\n",
              "      background-color: #434B5C;\n",
              "      box-shadow: 0px 1px 3px 1px rgba(0, 0, 0, 0.15);\n",
              "      filter: drop-shadow(0px 1px 2px rgba(0, 0, 0, 0.3));\n",
              "      fill: #FFFFFF;\n",
              "    }\n",
              "  </style>\n",
              "\n",
              "      <script>\n",
              "        const buttonEl =\n",
              "          document.querySelector('#df-98a56b8f-805f-429f-9336-152e55135277 button.colab-df-convert');\n",
              "        buttonEl.style.display =\n",
              "          google.colab.kernel.accessAllowed ? 'block' : 'none';\n",
              "\n",
              "        async function convertToInteractive(key) {\n",
              "          const element = document.querySelector('#df-98a56b8f-805f-429f-9336-152e55135277');\n",
              "          const dataTable =\n",
              "            await google.colab.kernel.invokeFunction('convertToInteractive',\n",
              "                                                     [key], {});\n",
              "          if (!dataTable) return;\n",
              "\n",
              "          const docLinkHtml = 'Like what you see? Visit the ' +\n",
              "            '<a target=\"_blank\" href=https://colab.research.google.com/notebooks/data_table.ipynb>data table notebook</a>'\n",
              "            + ' to learn more about interactive tables.';\n",
              "          element.innerHTML = '';\n",
              "          dataTable['output_type'] = 'display_data';\n",
              "          await google.colab.output.renderOutput(dataTable, element);\n",
              "          const docLink = document.createElement('div');\n",
              "          docLink.innerHTML = docLinkHtml;\n",
              "          element.appendChild(docLink);\n",
              "        }\n",
              "      </script>\n",
              "    </div>\n",
              "  </div>\n",
              "  "
            ],
            "text/plain": [
              "      Região - Sigla             Produto Valor de Venda\n",
              "0                 NE            GASOLINA          5,499\n",
              "2                 NE  GASOLINA ADITIVADA          5,699\n",
              "3                 NE            GASOLINA           5,49\n",
              "5                 NE            GASOLINA          5,499\n",
              "7                 NE  GASOLINA ADITIVADA          5,499\n",
              "...              ...                 ...            ...\n",
              "47841              S            GASOLINA          5,559\n",
              "47842             NE            GASOLINA           5,75\n",
              "47844             SE  GASOLINA ADITIVADA           5,87\n",
              "47846             SE            GASOLINA           5,87\n",
              "47848             SE            GASOLINA          6,199\n",
              "\n",
              "[31729 rows x 3 columns]"
            ]
          },
          "execution_count": null,
          "metadata": {},
          "output_type": "execute_result"
        }
      ],
      "source": [
        "regiao_gasolMes7 = regiao_07[regiao_07['Produto'].isin(['GASOLINA','GASOLINA ADITIVADA'])]\n",
        "regiao_gasolMes7"
      ]
    },
    {
      "cell_type": "markdown",
      "source": [
        "Concatenação de tabelas"
      ],
      "metadata": {
        "id": "cSZlqIkCT-9G"
      }
    },
    {
      "cell_type": "code",
      "execution_count": null,
      "metadata": {
        "colab": {
          "background_save": true
        },
        "id": "_k1ffI__3XPA",
        "outputId": "d6c9a82b-f998-4013-deeb-cde43b7b5695"
      },
      "outputs": [
        {
          "data": {
            "text/html": [
              "\n",
              "  <div id=\"df-a1ebd744-4421-4d54-aa27-1bcfe16221c1\">\n",
              "    <div class=\"colab-df-container\">\n",
              "      <div>\n",
              "<style scoped>\n",
              "    .dataframe tbody tr th:only-of-type {\n",
              "        vertical-align: middle;\n",
              "    }\n",
              "\n",
              "    .dataframe tbody tr th {\n",
              "        vertical-align: top;\n",
              "    }\n",
              "\n",
              "    .dataframe thead th {\n",
              "        text-align: right;\n",
              "    }\n",
              "</style>\n",
              "<table border=\"1\" class=\"dataframe\">\n",
              "  <thead>\n",
              "    <tr style=\"text-align: right;\">\n",
              "      <th></th>\n",
              "      <th>Região - Sigla</th>\n",
              "      <th>Produto</th>\n",
              "      <th>Valor de Venda</th>\n",
              "    </tr>\n",
              "  </thead>\n",
              "  <tbody>\n",
              "    <tr>\n",
              "      <th>0</th>\n",
              "      <td>N</td>\n",
              "      <td>GASOLINA</td>\n",
              "      <td>6,89</td>\n",
              "    </tr>\n",
              "    <tr>\n",
              "      <th>1</th>\n",
              "      <td>N</td>\n",
              "      <td>GASOLINA ADITIVADA</td>\n",
              "      <td>6,89</td>\n",
              "    </tr>\n",
              "    <tr>\n",
              "      <th>3</th>\n",
              "      <td>N</td>\n",
              "      <td>GASOLINA</td>\n",
              "      <td>6,89</td>\n",
              "    </tr>\n",
              "    <tr>\n",
              "      <th>4</th>\n",
              "      <td>N</td>\n",
              "      <td>GASOLINA</td>\n",
              "      <td>6,89</td>\n",
              "    </tr>\n",
              "    <tr>\n",
              "      <th>5</th>\n",
              "      <td>N</td>\n",
              "      <td>GASOLINA ADITIVADA</td>\n",
              "      <td>6,34</td>\n",
              "    </tr>\n",
              "    <tr>\n",
              "      <th>...</th>\n",
              "      <td>...</td>\n",
              "      <td>...</td>\n",
              "      <td>...</td>\n",
              "    </tr>\n",
              "    <tr>\n",
              "      <th>47841</th>\n",
              "      <td>S</td>\n",
              "      <td>GASOLINA</td>\n",
              "      <td>5,559</td>\n",
              "    </tr>\n",
              "    <tr>\n",
              "      <th>47842</th>\n",
              "      <td>NE</td>\n",
              "      <td>GASOLINA</td>\n",
              "      <td>5,75</td>\n",
              "    </tr>\n",
              "    <tr>\n",
              "      <th>47844</th>\n",
              "      <td>SE</td>\n",
              "      <td>GASOLINA ADITIVADA</td>\n",
              "      <td>5,87</td>\n",
              "    </tr>\n",
              "    <tr>\n",
              "      <th>47846</th>\n",
              "      <td>SE</td>\n",
              "      <td>GASOLINA</td>\n",
              "      <td>5,87</td>\n",
              "    </tr>\n",
              "    <tr>\n",
              "      <th>47848</th>\n",
              "      <td>SE</td>\n",
              "      <td>GASOLINA</td>\n",
              "      <td>6,199</td>\n",
              "    </tr>\n",
              "  </tbody>\n",
              "</table>\n",
              "<p>64490 rows × 3 columns</p>\n",
              "</div>\n",
              "      <button class=\"colab-df-convert\" onclick=\"convertToInteractive('df-a1ebd744-4421-4d54-aa27-1bcfe16221c1')\"\n",
              "              title=\"Convert this dataframe to an interactive table.\"\n",
              "              style=\"display:none;\">\n",
              "        \n",
              "  <svg xmlns=\"http://www.w3.org/2000/svg\" height=\"24px\"viewBox=\"0 0 24 24\"\n",
              "       width=\"24px\">\n",
              "    <path d=\"M0 0h24v24H0V0z\" fill=\"none\"/>\n",
              "    <path d=\"M18.56 5.44l.94 2.06.94-2.06 2.06-.94-2.06-.94-.94-2.06-.94 2.06-2.06.94zm-11 1L8.5 8.5l.94-2.06 2.06-.94-2.06-.94L8.5 2.5l-.94 2.06-2.06.94zm10 10l.94 2.06.94-2.06 2.06-.94-2.06-.94-.94-2.06-.94 2.06-2.06.94z\"/><path d=\"M17.41 7.96l-1.37-1.37c-.4-.4-.92-.59-1.43-.59-.52 0-1.04.2-1.43.59L10.3 9.45l-7.72 7.72c-.78.78-.78 2.05 0 2.83L4 21.41c.39.39.9.59 1.41.59.51 0 1.02-.2 1.41-.59l7.78-7.78 2.81-2.81c.8-.78.8-2.07 0-2.86zM5.41 20L4 18.59l7.72-7.72 1.47 1.35L5.41 20z\"/>\n",
              "  </svg>\n",
              "      </button>\n",
              "      \n",
              "  <style>\n",
              "    .colab-df-container {\n",
              "      display:flex;\n",
              "      flex-wrap:wrap;\n",
              "      gap: 12px;\n",
              "    }\n",
              "\n",
              "    .colab-df-convert {\n",
              "      background-color: #E8F0FE;\n",
              "      border: none;\n",
              "      border-radius: 50%;\n",
              "      cursor: pointer;\n",
              "      display: none;\n",
              "      fill: #1967D2;\n",
              "      height: 32px;\n",
              "      padding: 0 0 0 0;\n",
              "      width: 32px;\n",
              "    }\n",
              "\n",
              "    .colab-df-convert:hover {\n",
              "      background-color: #E2EBFA;\n",
              "      box-shadow: 0px 1px 2px rgba(60, 64, 67, 0.3), 0px 1px 3px 1px rgba(60, 64, 67, 0.15);\n",
              "      fill: #174EA6;\n",
              "    }\n",
              "\n",
              "    [theme=dark] .colab-df-convert {\n",
              "      background-color: #3B4455;\n",
              "      fill: #D2E3FC;\n",
              "    }\n",
              "\n",
              "    [theme=dark] .colab-df-convert:hover {\n",
              "      background-color: #434B5C;\n",
              "      box-shadow: 0px 1px 3px 1px rgba(0, 0, 0, 0.15);\n",
              "      filter: drop-shadow(0px 1px 2px rgba(0, 0, 0, 0.3));\n",
              "      fill: #FFFFFF;\n",
              "    }\n",
              "  </style>\n",
              "\n",
              "      <script>\n",
              "        const buttonEl =\n",
              "          document.querySelector('#df-a1ebd744-4421-4d54-aa27-1bcfe16221c1 button.colab-df-convert');\n",
              "        buttonEl.style.display =\n",
              "          google.colab.kernel.accessAllowed ? 'block' : 'none';\n",
              "\n",
              "        async function convertToInteractive(key) {\n",
              "          const element = document.querySelector('#df-a1ebd744-4421-4d54-aa27-1bcfe16221c1');\n",
              "          const dataTable =\n",
              "            await google.colab.kernel.invokeFunction('convertToInteractive',\n",
              "                                                     [key], {});\n",
              "          if (!dataTable) return;\n",
              "\n",
              "          const docLinkHtml = 'Like what you see? Visit the ' +\n",
              "            '<a target=\"_blank\" href=https://colab.research.google.com/notebooks/data_table.ipynb>data table notebook</a>'\n",
              "            + ' to learn more about interactive tables.';\n",
              "          element.innerHTML = '';\n",
              "          dataTable['output_type'] = 'display_data';\n",
              "          await google.colab.output.renderOutput(dataTable, element);\n",
              "          const docLink = document.createElement('div');\n",
              "          docLink.innerHTML = docLinkHtml;\n",
              "          element.appendChild(docLink);\n",
              "        }\n",
              "      </script>\n",
              "    </div>\n",
              "  </div>\n",
              "  "
            ],
            "text/plain": [
              "      Região - Sigla             Produto Valor de Venda\n",
              "0                  N            GASOLINA           6,89\n",
              "1                  N  GASOLINA ADITIVADA           6,89\n",
              "3                  N            GASOLINA           6,89\n",
              "4                  N            GASOLINA           6,89\n",
              "5                  N  GASOLINA ADITIVADA           6,34\n",
              "...              ...                 ...            ...\n",
              "47841              S            GASOLINA          5,559\n",
              "47842             NE            GASOLINA           5,75\n",
              "47844             SE  GASOLINA ADITIVADA           5,87\n",
              "47846             SE            GASOLINA           5,87\n",
              "47848             SE            GASOLINA          6,199\n",
              "\n",
              "[64490 rows x 3 columns]"
            ]
          },
          "execution_count": null,
          "metadata": {},
          "output_type": "execute_result"
        }
      ],
      "source": [
        "concat_regiaogasol = pd.concat([regiao_gasolMes6, regiao_gasolMes7])\n",
        "concat_regiaogasol"
      ]
    },
    {
      "cell_type": "markdown",
      "source": [
        "Média por região"
      ],
      "metadata": {
        "id": "BRzxr4t2UJiH"
      }
    },
    {
      "cell_type": "code",
      "execution_count": null,
      "metadata": {
        "colab": {
          "background_save": true
        },
        "id": "G5_4gxCy3cIt",
        "outputId": "cf5b980e-b0fb-42e8-9642-a50448141b7d"
      },
      "outputs": [
        {
          "name": "stderr",
          "output_type": "stream",
          "text": [
            "/usr/local/lib/python3.7/dist-packages/IPython/core/interactiveshell.py:2882: FutureWarning: Dropping invalid columns in DataFrameGroupBy.mean is deprecated. In a future version, a TypeError will be raised. Before calling .mean, select only columns which should be valid for the function.\n",
            "  exec(code_obj, self.user_global_ns, self.user_ns)\n"
          ]
        },
        {
          "data": {
            "text/html": [
              "\n",
              "  <div id=\"df-2d38d4d0-4929-4b21-b6ce-13ff6ed96003\">\n",
              "    <div class=\"colab-df-container\">\n",
              "      <div>\n",
              "<style scoped>\n",
              "    .dataframe tbody tr th:only-of-type {\n",
              "        vertical-align: middle;\n",
              "    }\n",
              "\n",
              "    .dataframe tbody tr th {\n",
              "        vertical-align: top;\n",
              "    }\n",
              "\n",
              "    .dataframe thead th {\n",
              "        text-align: right;\n",
              "    }\n",
              "</style>\n",
              "<table border=\"1\" class=\"dataframe\">\n",
              "  <thead>\n",
              "    <tr style=\"text-align: right;\">\n",
              "      <th></th>\n",
              "    </tr>\n",
              "    <tr>\n",
              "      <th>Região - Sigla</th>\n",
              "    </tr>\n",
              "  </thead>\n",
              "  <tbody>\n",
              "    <tr>\n",
              "      <th>CO</th>\n",
              "    </tr>\n",
              "    <tr>\n",
              "      <th>N</th>\n",
              "    </tr>\n",
              "    <tr>\n",
              "      <th>NE</th>\n",
              "    </tr>\n",
              "    <tr>\n",
              "      <th>S</th>\n",
              "    </tr>\n",
              "    <tr>\n",
              "      <th>SE</th>\n",
              "    </tr>\n",
              "  </tbody>\n",
              "</table>\n",
              "</div>\n",
              "      <button class=\"colab-df-convert\" onclick=\"convertToInteractive('df-2d38d4d0-4929-4b21-b6ce-13ff6ed96003')\"\n",
              "              title=\"Convert this dataframe to an interactive table.\"\n",
              "              style=\"display:none;\">\n",
              "        \n",
              "  <svg xmlns=\"http://www.w3.org/2000/svg\" height=\"24px\"viewBox=\"0 0 24 24\"\n",
              "       width=\"24px\">\n",
              "    <path d=\"M0 0h24v24H0V0z\" fill=\"none\"/>\n",
              "    <path d=\"M18.56 5.44l.94 2.06.94-2.06 2.06-.94-2.06-.94-.94-2.06-.94 2.06-2.06.94zm-11 1L8.5 8.5l.94-2.06 2.06-.94-2.06-.94L8.5 2.5l-.94 2.06-2.06.94zm10 10l.94 2.06.94-2.06 2.06-.94-2.06-.94-.94-2.06-.94 2.06-2.06.94z\"/><path d=\"M17.41 7.96l-1.37-1.37c-.4-.4-.92-.59-1.43-.59-.52 0-1.04.2-1.43.59L10.3 9.45l-7.72 7.72c-.78.78-.78 2.05 0 2.83L4 21.41c.39.39.9.59 1.41.59.51 0 1.02-.2 1.41-.59l7.78-7.78 2.81-2.81c.8-.78.8-2.07 0-2.86zM5.41 20L4 18.59l7.72-7.72 1.47 1.35L5.41 20z\"/>\n",
              "  </svg>\n",
              "      </button>\n",
              "      \n",
              "  <style>\n",
              "    .colab-df-container {\n",
              "      display:flex;\n",
              "      flex-wrap:wrap;\n",
              "      gap: 12px;\n",
              "    }\n",
              "\n",
              "    .colab-df-convert {\n",
              "      background-color: #E8F0FE;\n",
              "      border: none;\n",
              "      border-radius: 50%;\n",
              "      cursor: pointer;\n",
              "      display: none;\n",
              "      fill: #1967D2;\n",
              "      height: 32px;\n",
              "      padding: 0 0 0 0;\n",
              "      width: 32px;\n",
              "    }\n",
              "\n",
              "    .colab-df-convert:hover {\n",
              "      background-color: #E2EBFA;\n",
              "      box-shadow: 0px 1px 2px rgba(60, 64, 67, 0.3), 0px 1px 3px 1px rgba(60, 64, 67, 0.15);\n",
              "      fill: #174EA6;\n",
              "    }\n",
              "\n",
              "    [theme=dark] .colab-df-convert {\n",
              "      background-color: #3B4455;\n",
              "      fill: #D2E3FC;\n",
              "    }\n",
              "\n",
              "    [theme=dark] .colab-df-convert:hover {\n",
              "      background-color: #434B5C;\n",
              "      box-shadow: 0px 1px 3px 1px rgba(0, 0, 0, 0.15);\n",
              "      filter: drop-shadow(0px 1px 2px rgba(0, 0, 0, 0.3));\n",
              "      fill: #FFFFFF;\n",
              "    }\n",
              "  </style>\n",
              "\n",
              "      <script>\n",
              "        const buttonEl =\n",
              "          document.querySelector('#df-2d38d4d0-4929-4b21-b6ce-13ff6ed96003 button.colab-df-convert');\n",
              "        buttonEl.style.display =\n",
              "          google.colab.kernel.accessAllowed ? 'block' : 'none';\n",
              "\n",
              "        async function convertToInteractive(key) {\n",
              "          const element = document.querySelector('#df-2d38d4d0-4929-4b21-b6ce-13ff6ed96003');\n",
              "          const dataTable =\n",
              "            await google.colab.kernel.invokeFunction('convertToInteractive',\n",
              "                                                     [key], {});\n",
              "          if (!dataTable) return;\n",
              "\n",
              "          const docLinkHtml = 'Like what you see? Visit the ' +\n",
              "            '<a target=\"_blank\" href=https://colab.research.google.com/notebooks/data_table.ipynb>data table notebook</a>'\n",
              "            + ' to learn more about interactive tables.';\n",
              "          element.innerHTML = '';\n",
              "          dataTable['output_type'] = 'display_data';\n",
              "          await google.colab.output.renderOutput(dataTable, element);\n",
              "          const docLink = document.createElement('div');\n",
              "          docLink.innerHTML = docLinkHtml;\n",
              "          element.appendChild(docLink);\n",
              "        }\n",
              "      </script>\n",
              "    </div>\n",
              "  </div>\n",
              "  "
            ],
            "text/plain": [
              "Empty DataFrame\n",
              "Columns: []\n",
              "Index: [CO, N, NE, S, SE]"
            ]
          },
          "execution_count": null,
          "metadata": {},
          "output_type": "execute_result"
        }
      ],
      "source": [
        "regiao_mediagasol = concat_regiaogasol.groupby('Região - Sigla').mean()\n",
        "regiao_mediagasol"
      ]
    },
    {
      "cell_type": "markdown",
      "metadata": {
        "id": "q3xFXFsI3jYH"
      },
      "source": [
        "A região que possui o maior valor médio da gasolina é a Centro Oeste.\n",
        "\n"
      ]
    },
    {
      "cell_type": "markdown",
      "metadata": {
        "id": "CmdjI0EKWSCk"
      },
      "source": [
        "## **Questão 8 (Laio)**\n",
        "\n",
        "> Qual a região que possui o menor valor médio do etanol?\n",
        "\n"
      ]
    },
    {
      "cell_type": "markdown",
      "source": [
        "- Busquei nos dataframes o menor Valor de Venda para o ETANOL usando o LOC() e retornei o Produto, juntamente com o Valor de Venda e a Região - Sigla para responder a questão 8"
      ],
      "metadata": {
        "id": "qmigskkx1QGq"
      }
    },
    {
      "cell_type": "code",
      "execution_count": null,
      "metadata": {
        "colab": {
          "base_uri": "https://localhost:8080/"
        },
        "id": "PvIl2hloWWyc",
        "outputId": "1e3ec337-c03c-44d4-b955-73edcc858975"
      },
      "outputs": [
        {
          "output_type": "execute_result",
          "data": {
            "text/plain": [
              "Região - Sigla       CO\n",
              "Valor de Venda    3,097\n",
              "dtype: object"
            ]
          },
          "metadata": {},
          "execution_count": 24
        }
      ],
      "source": [
        "gasol_06.loc[gasol_06['Produto'] == 'ETANOL', [\"Região - Sigla\", \"Valor de Venda\"]].min()"
      ]
    },
    {
      "cell_type": "code",
      "execution_count": null,
      "metadata": {
        "colab": {
          "base_uri": "https://localhost:8080/"
        },
        "id": "T-zyO86dglgu",
        "outputId": "a5646b3a-be11-4d47-9b02-81392cf0c420"
      },
      "outputs": [
        {
          "output_type": "execute_result",
          "data": {
            "text/plain": [
              "Região - Sigla       CO\n",
              "Valor de Venda    3,189\n",
              "dtype: object"
            ]
          },
          "metadata": {},
          "execution_count": 30
        }
      ],
      "source": [
        "gasol_07.loc[gasol_07['Produto'] == 'ETANOL', [\"Região - Sigla\", \"Valor de Venda\"]].min()"
      ]
    },
    {
      "cell_type": "code",
      "execution_count": null,
      "metadata": {
        "colab": {
          "base_uri": "https://localhost:8080/"
        },
        "id": "PvVX6msMg5eB",
        "outputId": "30bea15c-0532-428f-befa-97db7ded94c3"
      },
      "outputs": [
        {
          "output_type": "execute_result",
          "data": {
            "text/plain": [
              "Região - Sigla       CO\n",
              "Valor de Venda    3,097\n",
              "dtype: object"
            ]
          },
          "metadata": {},
          "execution_count": 32
        }
      ],
      "source": [
        "df6e7.loc[df6e7['Produto'] == 'ETANOL', [\"Região - Sigla\", \"Valor de Venda\"]].min()"
      ]
    },
    {
      "cell_type": "markdown",
      "metadata": {
        "id": "8VEaceBYWXPP"
      },
      "source": [
        "##**Questões 9 e 10 (Jonathas)**"
      ]
    },
    {
      "cell_type": "markdown",
      "metadata": {
        "id": "lWVeJLUjUZGa"
      },
      "source": [
        "9) Há alguma relação entre o valor do combustível (gasolina e etanol) e a região onde ele é vendido?"
      ]
    },
    {
      "cell_type": "code",
      "execution_count": null,
      "metadata": {
        "colab": {
          "background_save": true
        },
        "id": "jHdR5RE-TRa2"
      },
      "outputs": [],
      "source": [
        "c06 = gasol_06\n",
        "c06 = c06.drop(['Estado - Sigla', 'Município', 'Revenda', 'CNPJ da Revenda', 'Nome da Rua', 'Número Rua', 'Complemento', 'Bairro',\n",
        "       'Cep', 'Data da Coleta', 'Valor de Compra', 'Unidade de Medida'], axis = 1)"
      ]
    },
    {
      "cell_type": "code",
      "execution_count": null,
      "metadata": {
        "colab": {
          "background_save": true
        },
        "id": "UMOzwFDYUwWn",
        "outputId": "05049dad-243f-48c2-f85f-37562f332930"
      },
      "outputs": [
        {
          "data": {
            "text/html": [
              "\n",
              "  <div id=\"df-0fa92804-f7bf-4944-a0f1-f64f3527c7f9\">\n",
              "    <div class=\"colab-df-container\">\n",
              "      <div>\n",
              "<style scoped>\n",
              "    .dataframe tbody tr th:only-of-type {\n",
              "        vertical-align: middle;\n",
              "    }\n",
              "\n",
              "    .dataframe tbody tr th {\n",
              "        vertical-align: top;\n",
              "    }\n",
              "\n",
              "    .dataframe thead th {\n",
              "        text-align: right;\n",
              "    }\n",
              "</style>\n",
              "<table border=\"1\" class=\"dataframe\">\n",
              "  <thead>\n",
              "    <tr style=\"text-align: right;\">\n",
              "      <th></th>\n",
              "      <th>Região - Sigla</th>\n",
              "      <th>Produto</th>\n",
              "      <th>Valor de Venda</th>\n",
              "      <th>Bandeira</th>\n",
              "    </tr>\n",
              "  </thead>\n",
              "  <tbody>\n",
              "    <tr>\n",
              "      <th>0</th>\n",
              "      <td>N</td>\n",
              "      <td>GASOLINA</td>\n",
              "      <td>6,89</td>\n",
              "      <td>PETROBRAS DISTRIBUIDORA S.A.</td>\n",
              "    </tr>\n",
              "    <tr>\n",
              "      <th>1</th>\n",
              "      <td>N</td>\n",
              "      <td>GASOLINA ADITIVADA</td>\n",
              "      <td>6,89</td>\n",
              "      <td>PETROBRAS DISTRIBUIDORA S.A.</td>\n",
              "    </tr>\n",
              "  </tbody>\n",
              "</table>\n",
              "</div>\n",
              "      <button class=\"colab-df-convert\" onclick=\"convertToInteractive('df-0fa92804-f7bf-4944-a0f1-f64f3527c7f9')\"\n",
              "              title=\"Convert this dataframe to an interactive table.\"\n",
              "              style=\"display:none;\">\n",
              "        \n",
              "  <svg xmlns=\"http://www.w3.org/2000/svg\" height=\"24px\"viewBox=\"0 0 24 24\"\n",
              "       width=\"24px\">\n",
              "    <path d=\"M0 0h24v24H0V0z\" fill=\"none\"/>\n",
              "    <path d=\"M18.56 5.44l.94 2.06.94-2.06 2.06-.94-2.06-.94-.94-2.06-.94 2.06-2.06.94zm-11 1L8.5 8.5l.94-2.06 2.06-.94-2.06-.94L8.5 2.5l-.94 2.06-2.06.94zm10 10l.94 2.06.94-2.06 2.06-.94-2.06-.94-.94-2.06-.94 2.06-2.06.94z\"/><path d=\"M17.41 7.96l-1.37-1.37c-.4-.4-.92-.59-1.43-.59-.52 0-1.04.2-1.43.59L10.3 9.45l-7.72 7.72c-.78.78-.78 2.05 0 2.83L4 21.41c.39.39.9.59 1.41.59.51 0 1.02-.2 1.41-.59l7.78-7.78 2.81-2.81c.8-.78.8-2.07 0-2.86zM5.41 20L4 18.59l7.72-7.72 1.47 1.35L5.41 20z\"/>\n",
              "  </svg>\n",
              "      </button>\n",
              "      \n",
              "  <style>\n",
              "    .colab-df-container {\n",
              "      display:flex;\n",
              "      flex-wrap:wrap;\n",
              "      gap: 12px;\n",
              "    }\n",
              "\n",
              "    .colab-df-convert {\n",
              "      background-color: #E8F0FE;\n",
              "      border: none;\n",
              "      border-radius: 50%;\n",
              "      cursor: pointer;\n",
              "      display: none;\n",
              "      fill: #1967D2;\n",
              "      height: 32px;\n",
              "      padding: 0 0 0 0;\n",
              "      width: 32px;\n",
              "    }\n",
              "\n",
              "    .colab-df-convert:hover {\n",
              "      background-color: #E2EBFA;\n",
              "      box-shadow: 0px 1px 2px rgba(60, 64, 67, 0.3), 0px 1px 3px 1px rgba(60, 64, 67, 0.15);\n",
              "      fill: #174EA6;\n",
              "    }\n",
              "\n",
              "    [theme=dark] .colab-df-convert {\n",
              "      background-color: #3B4455;\n",
              "      fill: #D2E3FC;\n",
              "    }\n",
              "\n",
              "    [theme=dark] .colab-df-convert:hover {\n",
              "      background-color: #434B5C;\n",
              "      box-shadow: 0px 1px 3px 1px rgba(0, 0, 0, 0.15);\n",
              "      filter: drop-shadow(0px 1px 2px rgba(0, 0, 0, 0.3));\n",
              "      fill: #FFFFFF;\n",
              "    }\n",
              "  </style>\n",
              "\n",
              "      <script>\n",
              "        const buttonEl =\n",
              "          document.querySelector('#df-0fa92804-f7bf-4944-a0f1-f64f3527c7f9 button.colab-df-convert');\n",
              "        buttonEl.style.display =\n",
              "          google.colab.kernel.accessAllowed ? 'block' : 'none';\n",
              "\n",
              "        async function convertToInteractive(key) {\n",
              "          const element = document.querySelector('#df-0fa92804-f7bf-4944-a0f1-f64f3527c7f9');\n",
              "          const dataTable =\n",
              "            await google.colab.kernel.invokeFunction('convertToInteractive',\n",
              "                                                     [key], {});\n",
              "          if (!dataTable) return;\n",
              "\n",
              "          const docLinkHtml = 'Like what you see? Visit the ' +\n",
              "            '<a target=\"_blank\" href=https://colab.research.google.com/notebooks/data_table.ipynb>data table notebook</a>'\n",
              "            + ' to learn more about interactive tables.';\n",
              "          element.innerHTML = '';\n",
              "          dataTable['output_type'] = 'display_data';\n",
              "          await google.colab.output.renderOutput(dataTable, element);\n",
              "          const docLink = document.createElement('div');\n",
              "          docLink.innerHTML = docLinkHtml;\n",
              "          element.appendChild(docLink);\n",
              "        }\n",
              "      </script>\n",
              "    </div>\n",
              "  </div>\n",
              "  "
            ],
            "text/plain": [
              "  Região - Sigla  ...                      Bandeira\n",
              "0              N  ...  PETROBRAS DISTRIBUIDORA S.A.\n",
              "1              N  ...  PETROBRAS DISTRIBUIDORA S.A.\n",
              "\n",
              "[2 rows x 4 columns]"
            ]
          },
          "execution_count": null,
          "metadata": {},
          "output_type": "execute_result"
        }
      ],
      "source": [
        "c06.head(2)"
      ]
    },
    {
      "cell_type": "code",
      "execution_count": null,
      "metadata": {
        "colab": {
          "background_save": true
        },
        "id": "R3WhfrlyVcHX",
        "outputId": "a6923d41-ef03-4d3f-b569-b713305d334d"
      },
      "outputs": [
        {
          "data": {
            "text/plain": [
              "array(['N', 'NE', 'CO', 'SE', 'S'], dtype=object)"
            ]
          },
          "execution_count": null,
          "metadata": {},
          "output_type": "execute_result"
        }
      ],
      "source": [
        "c06['Região - Sigla'].unique()"
      ]
    },
    {
      "cell_type": "code",
      "execution_count": null,
      "metadata": {
        "colab": {
          "background_save": true
        },
        "id": "SgwC63KIXmLW"
      },
      "outputs": [],
      "source": [
        "norte = c06.loc[(c06['Região - Sigla'] == 'N')]\n",
        "nordeste = c06.loc[(c06['Região - Sigla'] == 'NE')]\n",
        "centro_oeste = c06.loc[(c06['Região - Sigla'] == 'CO')]\n",
        "sudeste = c06.loc[(c06['Região - Sigla'] == 'SE')]\n",
        "sul = c06.loc[(c06['Região - Sigla'] == 'S')]"
      ]
    },
    {
      "cell_type": "code",
      "execution_count": null,
      "metadata": {
        "colab": {
          "background_save": true
        },
        "id": "i5TgKEtG5iF6"
      },
      "outputs": [],
      "source": [
        "#sudeste.describe()\n",
        "c06['Valor de Venda'] = c06['Valor de Venda'].apply(lambda x: float(x.replace(',', '.')))"
      ]
    },
    {
      "cell_type": "code",
      "execution_count": null,
      "metadata": {
        "colab": {
          "background_save": true
        },
        "id": "_nWl7b1uYyZy",
        "outputId": "ea9e44a2-465d-4083-a308-ddc4d2111b99"
      },
      "outputs": [
        {
          "data": {
            "text/html": [
              "\n",
              "  <div id=\"df-a0dd854b-4bd0-4b8a-8672-01a6805fa3bd\">\n",
              "    <div class=\"colab-df-container\">\n",
              "      <div>\n",
              "<style scoped>\n",
              "    .dataframe tbody tr th:only-of-type {\n",
              "        vertical-align: middle;\n",
              "    }\n",
              "\n",
              "    .dataframe tbody tr th {\n",
              "        vertical-align: top;\n",
              "    }\n",
              "\n",
              "    .dataframe thead th {\n",
              "        text-align: right;\n",
              "    }\n",
              "</style>\n",
              "<table border=\"1\" class=\"dataframe\">\n",
              "  <thead>\n",
              "    <tr style=\"text-align: right;\">\n",
              "      <th></th>\n",
              "      <th>count</th>\n",
              "      <th>mean</th>\n",
              "      <th>std</th>\n",
              "      <th>min</th>\n",
              "      <th>25%</th>\n",
              "      <th>50%</th>\n",
              "      <th>75%</th>\n",
              "      <th>max</th>\n",
              "    </tr>\n",
              "    <tr>\n",
              "      <th>Região - Sigla</th>\n",
              "      <th></th>\n",
              "      <th></th>\n",
              "      <th></th>\n",
              "      <th></th>\n",
              "      <th></th>\n",
              "      <th></th>\n",
              "      <th></th>\n",
              "      <th></th>\n",
              "    </tr>\n",
              "  </thead>\n",
              "  <tbody>\n",
              "    <tr>\n",
              "      <th>CO</th>\n",
              "      <td>1626.0</td>\n",
              "      <td>5.811425</td>\n",
              "      <td>0.194018</td>\n",
              "      <td>4.398</td>\n",
              "      <td>5.679</td>\n",
              "      <td>5.799</td>\n",
              "      <td>5.959</td>\n",
              "      <td>6.510</td>\n",
              "    </tr>\n",
              "    <tr>\n",
              "      <th>N</th>\n",
              "      <td>1113.0</td>\n",
              "      <td>5.727049</td>\n",
              "      <td>0.460618</td>\n",
              "      <td>4.850</td>\n",
              "      <td>5.350</td>\n",
              "      <td>5.750</td>\n",
              "      <td>5.990</td>\n",
              "      <td>6.890</td>\n",
              "    </tr>\n",
              "    <tr>\n",
              "      <th>NE</th>\n",
              "      <td>3335.0</td>\n",
              "      <td>5.782487</td>\n",
              "      <td>0.216908</td>\n",
              "      <td>4.590</td>\n",
              "      <td>5.599</td>\n",
              "      <td>5.799</td>\n",
              "      <td>5.950</td>\n",
              "      <td>6.399</td>\n",
              "    </tr>\n",
              "    <tr>\n",
              "      <th>S</th>\n",
              "      <td>3065.0</td>\n",
              "      <td>5.646653</td>\n",
              "      <td>0.294777</td>\n",
              "      <td>5.099</td>\n",
              "      <td>5.399</td>\n",
              "      <td>5.590</td>\n",
              "      <td>5.899</td>\n",
              "      <td>6.839</td>\n",
              "    </tr>\n",
              "    <tr>\n",
              "      <th>SE</th>\n",
              "      <td>9665.0</td>\n",
              "      <td>5.611156</td>\n",
              "      <td>0.356219</td>\n",
              "      <td>4.699</td>\n",
              "      <td>5.340</td>\n",
              "      <td>5.499</td>\n",
              "      <td>5.799</td>\n",
              "      <td>6.799</td>\n",
              "    </tr>\n",
              "  </tbody>\n",
              "</table>\n",
              "</div>\n",
              "      <button class=\"colab-df-convert\" onclick=\"convertToInteractive('df-a0dd854b-4bd0-4b8a-8672-01a6805fa3bd')\"\n",
              "              title=\"Convert this dataframe to an interactive table.\"\n",
              "              style=\"display:none;\">\n",
              "        \n",
              "  <svg xmlns=\"http://www.w3.org/2000/svg\" height=\"24px\"viewBox=\"0 0 24 24\"\n",
              "       width=\"24px\">\n",
              "    <path d=\"M0 0h24v24H0V0z\" fill=\"none\"/>\n",
              "    <path d=\"M18.56 5.44l.94 2.06.94-2.06 2.06-.94-2.06-.94-.94-2.06-.94 2.06-2.06.94zm-11 1L8.5 8.5l.94-2.06 2.06-.94-2.06-.94L8.5 2.5l-.94 2.06-2.06.94zm10 10l.94 2.06.94-2.06 2.06-.94-2.06-.94-.94-2.06-.94 2.06-2.06.94z\"/><path d=\"M17.41 7.96l-1.37-1.37c-.4-.4-.92-.59-1.43-.59-.52 0-1.04.2-1.43.59L10.3 9.45l-7.72 7.72c-.78.78-.78 2.05 0 2.83L4 21.41c.39.39.9.59 1.41.59.51 0 1.02-.2 1.41-.59l7.78-7.78 2.81-2.81c.8-.78.8-2.07 0-2.86zM5.41 20L4 18.59l7.72-7.72 1.47 1.35L5.41 20z\"/>\n",
              "  </svg>\n",
              "      </button>\n",
              "      \n",
              "  <style>\n",
              "    .colab-df-container {\n",
              "      display:flex;\n",
              "      flex-wrap:wrap;\n",
              "      gap: 12px;\n",
              "    }\n",
              "\n",
              "    .colab-df-convert {\n",
              "      background-color: #E8F0FE;\n",
              "      border: none;\n",
              "      border-radius: 50%;\n",
              "      cursor: pointer;\n",
              "      display: none;\n",
              "      fill: #1967D2;\n",
              "      height: 32px;\n",
              "      padding: 0 0 0 0;\n",
              "      width: 32px;\n",
              "    }\n",
              "\n",
              "    .colab-df-convert:hover {\n",
              "      background-color: #E2EBFA;\n",
              "      box-shadow: 0px 1px 2px rgba(60, 64, 67, 0.3), 0px 1px 3px 1px rgba(60, 64, 67, 0.15);\n",
              "      fill: #174EA6;\n",
              "    }\n",
              "\n",
              "    [theme=dark] .colab-df-convert {\n",
              "      background-color: #3B4455;\n",
              "      fill: #D2E3FC;\n",
              "    }\n",
              "\n",
              "    [theme=dark] .colab-df-convert:hover {\n",
              "      background-color: #434B5C;\n",
              "      box-shadow: 0px 1px 3px 1px rgba(0, 0, 0, 0.15);\n",
              "      filter: drop-shadow(0px 1px 2px rgba(0, 0, 0, 0.3));\n",
              "      fill: #FFFFFF;\n",
              "    }\n",
              "  </style>\n",
              "\n",
              "      <script>\n",
              "        const buttonEl =\n",
              "          document.querySelector('#df-a0dd854b-4bd0-4b8a-8672-01a6805fa3bd button.colab-df-convert');\n",
              "        buttonEl.style.display =\n",
              "          google.colab.kernel.accessAllowed ? 'block' : 'none';\n",
              "\n",
              "        async function convertToInteractive(key) {\n",
              "          const element = document.querySelector('#df-a0dd854b-4bd0-4b8a-8672-01a6805fa3bd');\n",
              "          const dataTable =\n",
              "            await google.colab.kernel.invokeFunction('convertToInteractive',\n",
              "                                                     [key], {});\n",
              "          if (!dataTable) return;\n",
              "\n",
              "          const docLinkHtml = 'Like what you see? Visit the ' +\n",
              "            '<a target=\"_blank\" href=https://colab.research.google.com/notebooks/data_table.ipynb>data table notebook</a>'\n",
              "            + ' to learn more about interactive tables.';\n",
              "          element.innerHTML = '';\n",
              "          dataTable['output_type'] = 'display_data';\n",
              "          await google.colab.output.renderOutput(dataTable, element);\n",
              "          const docLink = document.createElement('div');\n",
              "          docLink.innerHTML = docLinkHtml;\n",
              "          element.appendChild(docLink);\n",
              "        }\n",
              "      </script>\n",
              "    </div>\n",
              "  </div>\n",
              "  "
            ],
            "text/plain": [
              "                 count      mean       std    min    25%    50%    75%    max\n",
              "Região - Sigla                                                               \n",
              "CO              1626.0  5.811425  0.194018  4.398  5.679  5.799  5.959  6.510\n",
              "N               1113.0  5.727049  0.460618  4.850  5.350  5.750  5.990  6.890\n",
              "NE              3335.0  5.782487  0.216908  4.590  5.599  5.799  5.950  6.399\n",
              "S               3065.0  5.646653  0.294777  5.099  5.399  5.590  5.899  6.839\n",
              "SE              9665.0  5.611156  0.356219  4.699  5.340  5.499  5.799  6.799"
            ]
          },
          "execution_count": null,
          "metadata": {},
          "output_type": "execute_result"
        }
      ],
      "source": [
        "#Infere-se que as regiões mais afastadas dos grandes centros urbanos brasileiros (capitais dos estados de \n",
        "#São Paulo, Rio de Janeiro e Minas Gerais (https://brasilescola.uol.com.br/geografia/cinco-maiores-metropoles-brasileiras.htm), \n",
        "#são as detentoras do maior preço média de Valor de Venda do combustível.\n",
        "\n",
        "#Gasolina\n",
        "combustivel_gasol_filt = c06.loc[(c06['Produto'] == 'GASOLINA')]\n",
        "combustivel_gasol_filt.groupby('Região - Sigla')['Valor de Venda'].describe()"
      ]
    },
    {
      "cell_type": "code",
      "execution_count": null,
      "metadata": {
        "colab": {
          "background_save": true
        },
        "id": "KEuJqjLaqcyu",
        "outputId": "4984e8b2-7b78-44ff-af37-14b710417cd8"
      },
      "outputs": [
        {
          "data": {
            "text/html": [
              "\n",
              "  <div id=\"df-c25ca649-8e81-4185-b2fa-87a76b81a429\">\n",
              "    <div class=\"colab-df-container\">\n",
              "      <div>\n",
              "<style scoped>\n",
              "    .dataframe tbody tr th:only-of-type {\n",
              "        vertical-align: middle;\n",
              "    }\n",
              "\n",
              "    .dataframe tbody tr th {\n",
              "        vertical-align: top;\n",
              "    }\n",
              "\n",
              "    .dataframe thead th {\n",
              "        text-align: right;\n",
              "    }\n",
              "</style>\n",
              "<table border=\"1\" class=\"dataframe\">\n",
              "  <thead>\n",
              "    <tr style=\"text-align: right;\">\n",
              "      <th></th>\n",
              "      <th>count</th>\n",
              "      <th>mean</th>\n",
              "      <th>std</th>\n",
              "      <th>min</th>\n",
              "      <th>25%</th>\n",
              "      <th>50%</th>\n",
              "      <th>75%</th>\n",
              "      <th>max</th>\n",
              "    </tr>\n",
              "    <tr>\n",
              "      <th>Região - Sigla</th>\n",
              "      <th></th>\n",
              "      <th></th>\n",
              "      <th></th>\n",
              "      <th></th>\n",
              "      <th></th>\n",
              "      <th></th>\n",
              "      <th></th>\n",
              "      <th></th>\n",
              "    </tr>\n",
              "  </thead>\n",
              "  <tbody>\n",
              "    <tr>\n",
              "      <th>CO</th>\n",
              "      <td>954.0</td>\n",
              "      <td>5.901720</td>\n",
              "      <td>0.201874</td>\n",
              "      <td>5.399</td>\n",
              "      <td>5.779</td>\n",
              "      <td>5.899</td>\n",
              "      <td>5.999</td>\n",
              "      <td>6.590</td>\n",
              "    </tr>\n",
              "    <tr>\n",
              "      <th>N</th>\n",
              "      <td>777.0</td>\n",
              "      <td>5.852199</td>\n",
              "      <td>0.394933</td>\n",
              "      <td>4.890</td>\n",
              "      <td>5.540</td>\n",
              "      <td>5.889</td>\n",
              "      <td>6.100</td>\n",
              "      <td>6.890</td>\n",
              "    </tr>\n",
              "    <tr>\n",
              "      <th>NE</th>\n",
              "      <td>2687.0</td>\n",
              "      <td>5.918287</td>\n",
              "      <td>0.226946</td>\n",
              "      <td>5.299</td>\n",
              "      <td>5.780</td>\n",
              "      <td>5.899</td>\n",
              "      <td>6.080</td>\n",
              "      <td>6.830</td>\n",
              "    </tr>\n",
              "    <tr>\n",
              "      <th>S</th>\n",
              "      <td>2736.0</td>\n",
              "      <td>5.789129</td>\n",
              "      <td>0.311252</td>\n",
              "      <td>4.299</td>\n",
              "      <td>5.549</td>\n",
              "      <td>5.737</td>\n",
              "      <td>5.999</td>\n",
              "      <td>6.936</td>\n",
              "    </tr>\n",
              "    <tr>\n",
              "      <th>SE</th>\n",
              "      <td>6803.0</td>\n",
              "      <td>5.777115</td>\n",
              "      <td>0.374414</td>\n",
              "      <td>4.199</td>\n",
              "      <td>5.499</td>\n",
              "      <td>5.699</td>\n",
              "      <td>5.999</td>\n",
              "      <td>6.999</td>\n",
              "    </tr>\n",
              "  </tbody>\n",
              "</table>\n",
              "</div>\n",
              "      <button class=\"colab-df-convert\" onclick=\"convertToInteractive('df-c25ca649-8e81-4185-b2fa-87a76b81a429')\"\n",
              "              title=\"Convert this dataframe to an interactive table.\"\n",
              "              style=\"display:none;\">\n",
              "        \n",
              "  <svg xmlns=\"http://www.w3.org/2000/svg\" height=\"24px\"viewBox=\"0 0 24 24\"\n",
              "       width=\"24px\">\n",
              "    <path d=\"M0 0h24v24H0V0z\" fill=\"none\"/>\n",
              "    <path d=\"M18.56 5.44l.94 2.06.94-2.06 2.06-.94-2.06-.94-.94-2.06-.94 2.06-2.06.94zm-11 1L8.5 8.5l.94-2.06 2.06-.94-2.06-.94L8.5 2.5l-.94 2.06-2.06.94zm10 10l.94 2.06.94-2.06 2.06-.94-2.06-.94-.94-2.06-.94 2.06-2.06.94z\"/><path d=\"M17.41 7.96l-1.37-1.37c-.4-.4-.92-.59-1.43-.59-.52 0-1.04.2-1.43.59L10.3 9.45l-7.72 7.72c-.78.78-.78 2.05 0 2.83L4 21.41c.39.39.9.59 1.41.59.51 0 1.02-.2 1.41-.59l7.78-7.78 2.81-2.81c.8-.78.8-2.07 0-2.86zM5.41 20L4 18.59l7.72-7.72 1.47 1.35L5.41 20z\"/>\n",
              "  </svg>\n",
              "      </button>\n",
              "      \n",
              "  <style>\n",
              "    .colab-df-container {\n",
              "      display:flex;\n",
              "      flex-wrap:wrap;\n",
              "      gap: 12px;\n",
              "    }\n",
              "\n",
              "    .colab-df-convert {\n",
              "      background-color: #E8F0FE;\n",
              "      border: none;\n",
              "      border-radius: 50%;\n",
              "      cursor: pointer;\n",
              "      display: none;\n",
              "      fill: #1967D2;\n",
              "      height: 32px;\n",
              "      padding: 0 0 0 0;\n",
              "      width: 32px;\n",
              "    }\n",
              "\n",
              "    .colab-df-convert:hover {\n",
              "      background-color: #E2EBFA;\n",
              "      box-shadow: 0px 1px 2px rgba(60, 64, 67, 0.3), 0px 1px 3px 1px rgba(60, 64, 67, 0.15);\n",
              "      fill: #174EA6;\n",
              "    }\n",
              "\n",
              "    [theme=dark] .colab-df-convert {\n",
              "      background-color: #3B4455;\n",
              "      fill: #D2E3FC;\n",
              "    }\n",
              "\n",
              "    [theme=dark] .colab-df-convert:hover {\n",
              "      background-color: #434B5C;\n",
              "      box-shadow: 0px 1px 3px 1px rgba(0, 0, 0, 0.15);\n",
              "      filter: drop-shadow(0px 1px 2px rgba(0, 0, 0, 0.3));\n",
              "      fill: #FFFFFF;\n",
              "    }\n",
              "  </style>\n",
              "\n",
              "      <script>\n",
              "        const buttonEl =\n",
              "          document.querySelector('#df-c25ca649-8e81-4185-b2fa-87a76b81a429 button.colab-df-convert');\n",
              "        buttonEl.style.display =\n",
              "          google.colab.kernel.accessAllowed ? 'block' : 'none';\n",
              "\n",
              "        async function convertToInteractive(key) {\n",
              "          const element = document.querySelector('#df-c25ca649-8e81-4185-b2fa-87a76b81a429');\n",
              "          const dataTable =\n",
              "            await google.colab.kernel.invokeFunction('convertToInteractive',\n",
              "                                                     [key], {});\n",
              "          if (!dataTable) return;\n",
              "\n",
              "          const docLinkHtml = 'Like what you see? Visit the ' +\n",
              "            '<a target=\"_blank\" href=https://colab.research.google.com/notebooks/data_table.ipynb>data table notebook</a>'\n",
              "            + ' to learn more about interactive tables.';\n",
              "          element.innerHTML = '';\n",
              "          dataTable['output_type'] = 'display_data';\n",
              "          await google.colab.output.renderOutput(dataTable, element);\n",
              "          const docLink = document.createElement('div');\n",
              "          docLink.innerHTML = docLinkHtml;\n",
              "          element.appendChild(docLink);\n",
              "        }\n",
              "      </script>\n",
              "    </div>\n",
              "  </div>\n",
              "  "
            ],
            "text/plain": [
              "                 count      mean       std    min    25%    50%    75%    max\n",
              "Região - Sigla                                                               \n",
              "CO               954.0  5.901720  0.201874  5.399  5.779  5.899  5.999  6.590\n",
              "N                777.0  5.852199  0.394933  4.890  5.540  5.889  6.100  6.890\n",
              "NE              2687.0  5.918287  0.226946  5.299  5.780  5.899  6.080  6.830\n",
              "S               2736.0  5.789129  0.311252  4.299  5.549  5.737  5.999  6.936\n",
              "SE              6803.0  5.777115  0.374414  4.199  5.499  5.699  5.999  6.999"
            ]
          },
          "execution_count": null,
          "metadata": {},
          "output_type": "execute_result"
        }
      ],
      "source": [
        "#Gasolina Aditivada\n",
        "combustivel_gasola_filt = c06.loc[(c06['Produto'] == 'GASOLINA ADITIVADA')]\n",
        "combustivel_gasola_filt.groupby('Região - Sigla')['Valor de Venda'].describe()"
      ]
    },
    {
      "cell_type": "code",
      "execution_count": null,
      "metadata": {
        "colab": {
          "background_save": true
        },
        "id": "z9r1gvURmy2y",
        "outputId": "6829dfcd-9877-44ef-d81e-7c6bd0a7ead9"
      },
      "outputs": [
        {
          "data": {
            "text/html": [
              "\n",
              "  <div id=\"df-688469a7-4c05-4336-8dd6-32a701269d46\">\n",
              "    <div class=\"colab-df-container\">\n",
              "      <div>\n",
              "<style scoped>\n",
              "    .dataframe tbody tr th:only-of-type {\n",
              "        vertical-align: middle;\n",
              "    }\n",
              "\n",
              "    .dataframe tbody tr th {\n",
              "        vertical-align: top;\n",
              "    }\n",
              "\n",
              "    .dataframe thead th {\n",
              "        text-align: right;\n",
              "    }\n",
              "</style>\n",
              "<table border=\"1\" class=\"dataframe\">\n",
              "  <thead>\n",
              "    <tr style=\"text-align: right;\">\n",
              "      <th></th>\n",
              "      <th>count</th>\n",
              "      <th>mean</th>\n",
              "      <th>std</th>\n",
              "      <th>min</th>\n",
              "      <th>25%</th>\n",
              "      <th>50%</th>\n",
              "      <th>75%</th>\n",
              "      <th>max</th>\n",
              "    </tr>\n",
              "    <tr>\n",
              "      <th>Região - Sigla</th>\n",
              "      <th></th>\n",
              "      <th></th>\n",
              "      <th></th>\n",
              "      <th></th>\n",
              "      <th></th>\n",
              "      <th></th>\n",
              "      <th></th>\n",
              "      <th></th>\n",
              "    </tr>\n",
              "  </thead>\n",
              "  <tbody>\n",
              "    <tr>\n",
              "      <th>CO</th>\n",
              "      <td>1604.0</td>\n",
              "      <td>4.396461</td>\n",
              "      <td>0.332996</td>\n",
              "      <td>3.739</td>\n",
              "      <td>4.180</td>\n",
              "      <td>4.3900</td>\n",
              "      <td>4.599</td>\n",
              "      <td>5.799</td>\n",
              "    </tr>\n",
              "    <tr>\n",
              "      <th>N</th>\n",
              "      <td>575.0</td>\n",
              "      <td>4.968873</td>\n",
              "      <td>0.496132</td>\n",
              "      <td>4.090</td>\n",
              "      <td>4.490</td>\n",
              "      <td>4.9990</td>\n",
              "      <td>5.349</td>\n",
              "      <td>6.180</td>\n",
              "    </tr>\n",
              "    <tr>\n",
              "      <th>NE</th>\n",
              "      <td>3129.0</td>\n",
              "      <td>5.049229</td>\n",
              "      <td>0.223667</td>\n",
              "      <td>4.090</td>\n",
              "      <td>4.890</td>\n",
              "      <td>4.9990</td>\n",
              "      <td>5.190</td>\n",
              "      <td>5.999</td>\n",
              "    </tr>\n",
              "    <tr>\n",
              "      <th>S</th>\n",
              "      <td>2068.0</td>\n",
              "      <td>4.819334</td>\n",
              "      <td>0.593997</td>\n",
              "      <td>3.980</td>\n",
              "      <td>4.299</td>\n",
              "      <td>4.6095</td>\n",
              "      <td>5.169</td>\n",
              "      <td>6.999</td>\n",
              "    </tr>\n",
              "    <tr>\n",
              "      <th>SE</th>\n",
              "      <td>9600.0</td>\n",
              "      <td>4.376493</td>\n",
              "      <td>0.448237</td>\n",
              "      <td>3.097</td>\n",
              "      <td>4.099</td>\n",
              "      <td>4.2600</td>\n",
              "      <td>4.499</td>\n",
              "      <td>6.289</td>\n",
              "    </tr>\n",
              "  </tbody>\n",
              "</table>\n",
              "</div>\n",
              "      <button class=\"colab-df-convert\" onclick=\"convertToInteractive('df-688469a7-4c05-4336-8dd6-32a701269d46')\"\n",
              "              title=\"Convert this dataframe to an interactive table.\"\n",
              "              style=\"display:none;\">\n",
              "        \n",
              "  <svg xmlns=\"http://www.w3.org/2000/svg\" height=\"24px\"viewBox=\"0 0 24 24\"\n",
              "       width=\"24px\">\n",
              "    <path d=\"M0 0h24v24H0V0z\" fill=\"none\"/>\n",
              "    <path d=\"M18.56 5.44l.94 2.06.94-2.06 2.06-.94-2.06-.94-.94-2.06-.94 2.06-2.06.94zm-11 1L8.5 8.5l.94-2.06 2.06-.94-2.06-.94L8.5 2.5l-.94 2.06-2.06.94zm10 10l.94 2.06.94-2.06 2.06-.94-2.06-.94-.94-2.06-.94 2.06-2.06.94z\"/><path d=\"M17.41 7.96l-1.37-1.37c-.4-.4-.92-.59-1.43-.59-.52 0-1.04.2-1.43.59L10.3 9.45l-7.72 7.72c-.78.78-.78 2.05 0 2.83L4 21.41c.39.39.9.59 1.41.59.51 0 1.02-.2 1.41-.59l7.78-7.78 2.81-2.81c.8-.78.8-2.07 0-2.86zM5.41 20L4 18.59l7.72-7.72 1.47 1.35L5.41 20z\"/>\n",
              "  </svg>\n",
              "      </button>\n",
              "      \n",
              "  <style>\n",
              "    .colab-df-container {\n",
              "      display:flex;\n",
              "      flex-wrap:wrap;\n",
              "      gap: 12px;\n",
              "    }\n",
              "\n",
              "    .colab-df-convert {\n",
              "      background-color: #E8F0FE;\n",
              "      border: none;\n",
              "      border-radius: 50%;\n",
              "      cursor: pointer;\n",
              "      display: none;\n",
              "      fill: #1967D2;\n",
              "      height: 32px;\n",
              "      padding: 0 0 0 0;\n",
              "      width: 32px;\n",
              "    }\n",
              "\n",
              "    .colab-df-convert:hover {\n",
              "      background-color: #E2EBFA;\n",
              "      box-shadow: 0px 1px 2px rgba(60, 64, 67, 0.3), 0px 1px 3px 1px rgba(60, 64, 67, 0.15);\n",
              "      fill: #174EA6;\n",
              "    }\n",
              "\n",
              "    [theme=dark] .colab-df-convert {\n",
              "      background-color: #3B4455;\n",
              "      fill: #D2E3FC;\n",
              "    }\n",
              "\n",
              "    [theme=dark] .colab-df-convert:hover {\n",
              "      background-color: #434B5C;\n",
              "      box-shadow: 0px 1px 3px 1px rgba(0, 0, 0, 0.15);\n",
              "      filter: drop-shadow(0px 1px 2px rgba(0, 0, 0, 0.3));\n",
              "      fill: #FFFFFF;\n",
              "    }\n",
              "  </style>\n",
              "\n",
              "      <script>\n",
              "        const buttonEl =\n",
              "          document.querySelector('#df-688469a7-4c05-4336-8dd6-32a701269d46 button.colab-df-convert');\n",
              "        buttonEl.style.display =\n",
              "          google.colab.kernel.accessAllowed ? 'block' : 'none';\n",
              "\n",
              "        async function convertToInteractive(key) {\n",
              "          const element = document.querySelector('#df-688469a7-4c05-4336-8dd6-32a701269d46');\n",
              "          const dataTable =\n",
              "            await google.colab.kernel.invokeFunction('convertToInteractive',\n",
              "                                                     [key], {});\n",
              "          if (!dataTable) return;\n",
              "\n",
              "          const docLinkHtml = 'Like what you see? Visit the ' +\n",
              "            '<a target=\"_blank\" href=https://colab.research.google.com/notebooks/data_table.ipynb>data table notebook</a>'\n",
              "            + ' to learn more about interactive tables.';\n",
              "          element.innerHTML = '';\n",
              "          dataTable['output_type'] = 'display_data';\n",
              "          await google.colab.output.renderOutput(dataTable, element);\n",
              "          const docLink = document.createElement('div');\n",
              "          docLink.innerHTML = docLinkHtml;\n",
              "          element.appendChild(docLink);\n",
              "        }\n",
              "      </script>\n",
              "    </div>\n",
              "  </div>\n",
              "  "
            ],
            "text/plain": [
              "                 count      mean       std    min    25%     50%    75%    max\n",
              "Região - Sigla                                                                \n",
              "CO              1604.0  4.396461  0.332996  3.739  4.180  4.3900  4.599  5.799\n",
              "N                575.0  4.968873  0.496132  4.090  4.490  4.9990  5.349  6.180\n",
              "NE              3129.0  5.049229  0.223667  4.090  4.890  4.9990  5.190  5.999\n",
              "S               2068.0  4.819334  0.593997  3.980  4.299  4.6095  5.169  6.999\n",
              "SE              9600.0  4.376493  0.448237  3.097  4.099  4.2600  4.499  6.289"
            ]
          },
          "execution_count": null,
          "metadata": {},
          "output_type": "execute_result"
        }
      ],
      "source": [
        "#Etanol\n",
        "combustivel_etanol_filt = c06.loc[(c06['Produto']=='ETANOL')]\n",
        "combustivel_etanol_filt.groupby('Região - Sigla')['Valor de Venda'].describe()"
      ]
    },
    {
      "cell_type": "code",
      "execution_count": null,
      "metadata": {
        "colab": {
          "background_save": true
        },
        "id": "jWUZwKuEjHbb"
      },
      "outputs": [],
      "source": [
        "#c06.groupby('Região - Sigla')['Valor de Venda'].describe()\n",
        "#a = combustivel_etanol_filt.groupby('Região - Sigla')['Valor de Venda'].describe()\n",
        "#a['mean'].plot()\n",
        "#plt.imshow(a[['count']], cmap =\"RdYlBu\")"
      ]
    },
    {
      "cell_type": "markdown",
      "metadata": {
        "id": "OxwaiIrOUSIh"
      },
      "source": [
        "10) Há alguma correlação entre o valor do combustível (gasolina e etanol) e a bandeira que vende ele?"
      ]
    },
    {
      "cell_type": "code",
      "execution_count": null,
      "metadata": {
        "colab": {
          "background_save": true
        },
        "id": "BvtMOLl7URRn",
        "outputId": "8e02d287-7291-4e34-8405-f241c3763e9e"
      },
      "outputs": [
        {
          "data": {
            "text/plain": [
              "array(['PETROBRAS DISTRIBUIDORA S.A.', 'BRANCA', 'SABBÁ', 'RAIZEN',\n",
              "       'IPIRANGA', 'LARCO', 'TOTAL BRASIL', 'RIO BRANCO', 'ALESAT',\n",
              "       'TAURUS', 'SIMARELLI', 'IDAZA', 'EQUADOR', 'TEMAPE',\n",
              "       'TDC DISTRIBUIDORA', 'STANG', 'RAIZEN MIME',\n",
              "       'PETROX DISTRIBUIDORA', 'TORRAO', 'PETROSERRA', 'RODOIL', 'TOBRAS',\n",
              "       'CHARRUA', 'POTENCIAL', \"ATEM' S\", 'PETROBAHIA',\n",
              "       'SETTA DISTRIBUIDORA', 'AMERICANOIL', 'SP', 'DISLUB', 'ATLÂNTICA',\n",
              "       'ROYAL FIC', 'FEDERAL ENERGIA', 'UNI', 'CIAPETRO', 'REJAILE',\n",
              "       'D`MAIS', 'MASUT DISTRIBUIDORA', 'FAN', 'DIBRAPE', 'WALENDOWSKY',\n",
              "       'SMALL', 'MAXSUL', 'RUFF C.J.', 'RZD DISTRIBUIDORA', 'ACOL',\n",
              "       'SUL COMBUSTÍVEIS', 'WATT'], dtype=object)"
            ]
          },
          "execution_count": null,
          "metadata": {},
          "output_type": "execute_result"
        }
      ],
      "source": [
        "c06['Bandeira'].unique()"
      ]
    },
    {
      "cell_type": "code",
      "execution_count": null,
      "metadata": {
        "colab": {
          "background_save": true
        },
        "id": "iaEGZUYQ6MZz"
      },
      "outputs": [],
      "source": [
        "combustivel_gasol_band_filt = c06.loc[(c06['Produto']=='GASOLINA')]\n",
        "combustivel_gasola_band_filt = c06.loc[(c06['Produto']=='GASOLINA ADITIVADA')]\n",
        "combustivel_etanol_band_filt = c06.loc[(c06['Produto']=='ETANOL')]"
      ]
    },
    {
      "cell_type": "code",
      "execution_count": null,
      "metadata": {
        "colab": {
          "background_save": true
        },
        "id": "AX0QTazR5FJa",
        "outputId": "075e371a-c663-4cec-beb8-a12c985359a1"
      },
      "outputs": [
        {
          "data": {
            "text/html": [
              "\n",
              "  <div id=\"df-05d7a7eb-4c2c-49e1-8b11-6526a95f6e02\">\n",
              "    <div class=\"colab-df-container\">\n",
              "      <div>\n",
              "<style scoped>\n",
              "    .dataframe tbody tr th:only-of-type {\n",
              "        vertical-align: middle;\n",
              "    }\n",
              "\n",
              "    .dataframe tbody tr th {\n",
              "        vertical-align: top;\n",
              "    }\n",
              "\n",
              "    .dataframe thead th {\n",
              "        text-align: right;\n",
              "    }\n",
              "</style>\n",
              "<table border=\"1\" class=\"dataframe\">\n",
              "  <thead>\n",
              "    <tr style=\"text-align: right;\">\n",
              "      <th></th>\n",
              "      <th>count</th>\n",
              "      <th>mean</th>\n",
              "      <th>std</th>\n",
              "      <th>min</th>\n",
              "      <th>25%</th>\n",
              "      <th>50%</th>\n",
              "      <th>75%</th>\n",
              "      <th>max</th>\n",
              "    </tr>\n",
              "    <tr>\n",
              "      <th>Bandeira</th>\n",
              "      <th></th>\n",
              "      <th></th>\n",
              "      <th></th>\n",
              "      <th></th>\n",
              "      <th></th>\n",
              "      <th></th>\n",
              "      <th></th>\n",
              "      <th></th>\n",
              "    </tr>\n",
              "  </thead>\n",
              "  <tbody>\n",
              "    <tr>\n",
              "      <th>ACOL</th>\n",
              "      <td>2.0</td>\n",
              "      <td>6.098000</td>\n",
              "      <td>0.000000e+00</td>\n",
              "      <td>6.098</td>\n",
              "      <td>6.09800</td>\n",
              "      <td>6.0980</td>\n",
              "      <td>6.09800</td>\n",
              "      <td>6.098</td>\n",
              "    </tr>\n",
              "    <tr>\n",
              "      <th>ALESAT</th>\n",
              "      <td>404.0</td>\n",
              "      <td>5.767626</td>\n",
              "      <td>3.268045e-01</td>\n",
              "      <td>5.099</td>\n",
              "      <td>5.49900</td>\n",
              "      <td>5.7800</td>\n",
              "      <td>5.99000</td>\n",
              "      <td>6.499</td>\n",
              "    </tr>\n",
              "    <tr>\n",
              "      <th>AMERICANOIL</th>\n",
              "      <td>17.0</td>\n",
              "      <td>5.499000</td>\n",
              "      <td>7.984360e-02</td>\n",
              "      <td>5.379</td>\n",
              "      <td>5.37900</td>\n",
              "      <td>5.5490</td>\n",
              "      <td>5.54900</td>\n",
              "      <td>5.549</td>\n",
              "    </tr>\n",
              "    <tr>\n",
              "      <th>ATEM' S</th>\n",
              "      <td>110.0</td>\n",
              "      <td>5.510664</td>\n",
              "      <td>3.573647e-01</td>\n",
              "      <td>4.890</td>\n",
              "      <td>5.29000</td>\n",
              "      <td>5.5400</td>\n",
              "      <td>5.54900</td>\n",
              "      <td>6.860</td>\n",
              "    </tr>\n",
              "    <tr>\n",
              "      <th>ATLÂNTICA</th>\n",
              "      <td>15.0</td>\n",
              "      <td>5.748600</td>\n",
              "      <td>9.171836e-02</td>\n",
              "      <td>5.570</td>\n",
              "      <td>5.66950</td>\n",
              "      <td>5.7900</td>\n",
              "      <td>5.79000</td>\n",
              "      <td>5.870</td>\n",
              "    </tr>\n",
              "    <tr>\n",
              "      <th>BRANCA</th>\n",
              "      <td>7214.0</td>\n",
              "      <td>5.593306</td>\n",
              "      <td>3.292916e-01</td>\n",
              "      <td>4.690</td>\n",
              "      <td>5.29900</td>\n",
              "      <td>5.5515</td>\n",
              "      <td>5.85000</td>\n",
              "      <td>6.890</td>\n",
              "    </tr>\n",
              "    <tr>\n",
              "      <th>CHARRUA</th>\n",
              "      <td>22.0</td>\n",
              "      <td>5.967136</td>\n",
              "      <td>1.451778e-01</td>\n",
              "      <td>5.689</td>\n",
              "      <td>5.82400</td>\n",
              "      <td>5.9790</td>\n",
              "      <td>6.08900</td>\n",
              "      <td>6.199</td>\n",
              "    </tr>\n",
              "    <tr>\n",
              "      <th>CIAPETRO</th>\n",
              "      <td>24.0</td>\n",
              "      <td>5.640958</td>\n",
              "      <td>1.634286e-01</td>\n",
              "      <td>5.299</td>\n",
              "      <td>5.49900</td>\n",
              "      <td>5.6800</td>\n",
              "      <td>5.69000</td>\n",
              "      <td>6.099</td>\n",
              "    </tr>\n",
              "    <tr>\n",
              "      <th>DIBRAPE</th>\n",
              "      <td>3.0</td>\n",
              "      <td>5.365667</td>\n",
              "      <td>1.154701e-01</td>\n",
              "      <td>5.299</td>\n",
              "      <td>5.29900</td>\n",
              "      <td>5.2990</td>\n",
              "      <td>5.39900</td>\n",
              "      <td>5.499</td>\n",
              "    </tr>\n",
              "    <tr>\n",
              "      <th>DISLUB</th>\n",
              "      <td>34.0</td>\n",
              "      <td>5.836147</td>\n",
              "      <td>2.226529e-01</td>\n",
              "      <td>5.490</td>\n",
              "      <td>5.68400</td>\n",
              "      <td>5.7940</td>\n",
              "      <td>5.98000</td>\n",
              "      <td>6.280</td>\n",
              "    </tr>\n",
              "    <tr>\n",
              "      <th>D`MAIS</th>\n",
              "      <td>2.0</td>\n",
              "      <td>5.398000</td>\n",
              "      <td>0.000000e+00</td>\n",
              "      <td>5.398</td>\n",
              "      <td>5.39800</td>\n",
              "      <td>5.3980</td>\n",
              "      <td>5.39800</td>\n",
              "      <td>5.398</td>\n",
              "    </tr>\n",
              "    <tr>\n",
              "      <th>EQUADOR</th>\n",
              "      <td>73.0</td>\n",
              "      <td>5.870247</td>\n",
              "      <td>4.073888e-01</td>\n",
              "      <td>4.890</td>\n",
              "      <td>5.54900</td>\n",
              "      <td>5.8200</td>\n",
              "      <td>6.32000</td>\n",
              "      <td>6.350</td>\n",
              "    </tr>\n",
              "    <tr>\n",
              "      <th>FAN</th>\n",
              "      <td>12.0</td>\n",
              "      <td>5.949833</td>\n",
              "      <td>6.868351e-02</td>\n",
              "      <td>5.799</td>\n",
              "      <td>5.94150</td>\n",
              "      <td>5.9890</td>\n",
              "      <td>5.98900</td>\n",
              "      <td>5.989</td>\n",
              "    </tr>\n",
              "    <tr>\n",
              "      <th>FEDERAL ENERGIA</th>\n",
              "      <td>11.0</td>\n",
              "      <td>5.661545</td>\n",
              "      <td>2.305161e-01</td>\n",
              "      <td>5.379</td>\n",
              "      <td>5.46000</td>\n",
              "      <td>5.5900</td>\n",
              "      <td>5.87000</td>\n",
              "      <td>5.980</td>\n",
              "    </tr>\n",
              "    <tr>\n",
              "      <th>IDAZA</th>\n",
              "      <td>49.0</td>\n",
              "      <td>5.744102</td>\n",
              "      <td>1.577926e-01</td>\n",
              "      <td>5.370</td>\n",
              "      <td>5.69900</td>\n",
              "      <td>5.7990</td>\n",
              "      <td>5.79900</td>\n",
              "      <td>5.968</td>\n",
              "    </tr>\n",
              "    <tr>\n",
              "      <th>IPIRANGA</th>\n",
              "      <td>3225.0</td>\n",
              "      <td>5.690088</td>\n",
              "      <td>3.153831e-01</td>\n",
              "      <td>4.799</td>\n",
              "      <td>5.46900</td>\n",
              "      <td>5.6500</td>\n",
              "      <td>5.89700</td>\n",
              "      <td>6.860</td>\n",
              "    </tr>\n",
              "    <tr>\n",
              "      <th>LARCO</th>\n",
              "      <td>4.0</td>\n",
              "      <td>5.850000</td>\n",
              "      <td>0.000000e+00</td>\n",
              "      <td>5.850</td>\n",
              "      <td>5.85000</td>\n",
              "      <td>5.8500</td>\n",
              "      <td>5.85000</td>\n",
              "      <td>5.850</td>\n",
              "    </tr>\n",
              "    <tr>\n",
              "      <th>MASUT DISTRIBUIDORA</th>\n",
              "      <td>13.0</td>\n",
              "      <td>6.003846</td>\n",
              "      <td>7.676137e-02</td>\n",
              "      <td>5.750</td>\n",
              "      <td>6.02000</td>\n",
              "      <td>6.0200</td>\n",
              "      <td>6.02000</td>\n",
              "      <td>6.040</td>\n",
              "    </tr>\n",
              "    <tr>\n",
              "      <th>MAXSUL</th>\n",
              "      <td>8.0</td>\n",
              "      <td>5.503000</td>\n",
              "      <td>1.428266e-01</td>\n",
              "      <td>5.370</td>\n",
              "      <td>5.37000</td>\n",
              "      <td>5.5290</td>\n",
              "      <td>5.52900</td>\n",
              "      <td>5.798</td>\n",
              "    </tr>\n",
              "    <tr>\n",
              "      <th>PETROBAHIA</th>\n",
              "      <td>12.0</td>\n",
              "      <td>6.061333</td>\n",
              "      <td>2.198269e-01</td>\n",
              "      <td>5.590</td>\n",
              "      <td>5.89675</td>\n",
              "      <td>6.0970</td>\n",
              "      <td>6.24900</td>\n",
              "      <td>6.295</td>\n",
              "    </tr>\n",
              "    <tr>\n",
              "      <th>PETROBRAS DISTRIBUIDORA S.A.</th>\n",
              "      <td>3830.0</td>\n",
              "      <td>5.778756</td>\n",
              "      <td>3.276244e-01</td>\n",
              "      <td>4.850</td>\n",
              "      <td>5.54900</td>\n",
              "      <td>5.7900</td>\n",
              "      <td>5.99000</td>\n",
              "      <td>6.890</td>\n",
              "    </tr>\n",
              "    <tr>\n",
              "      <th>PETROSERRA</th>\n",
              "      <td>4.0</td>\n",
              "      <td>5.600000</td>\n",
              "      <td>1.536229e-01</td>\n",
              "      <td>5.510</td>\n",
              "      <td>5.52500</td>\n",
              "      <td>5.5300</td>\n",
              "      <td>5.60500</td>\n",
              "      <td>5.830</td>\n",
              "    </tr>\n",
              "    <tr>\n",
              "      <th>PETROX DISTRIBUIDORA</th>\n",
              "      <td>31.0</td>\n",
              "      <td>5.605032</td>\n",
              "      <td>5.671536e-02</td>\n",
              "      <td>5.480</td>\n",
              "      <td>5.58000</td>\n",
              "      <td>5.5800</td>\n",
              "      <td>5.68000</td>\n",
              "      <td>5.689</td>\n",
              "    </tr>\n",
              "    <tr>\n",
              "      <th>POTENCIAL</th>\n",
              "      <td>7.0</td>\n",
              "      <td>5.273286</td>\n",
              "      <td>3.207135e-02</td>\n",
              "      <td>5.239</td>\n",
              "      <td>5.23900</td>\n",
              "      <td>5.2990</td>\n",
              "      <td>5.29900</td>\n",
              "      <td>5.299</td>\n",
              "    </tr>\n",
              "    <tr>\n",
              "      <th>RAIZEN</th>\n",
              "      <td>2978.0</td>\n",
              "      <td>5.689036</td>\n",
              "      <td>3.183803e-01</td>\n",
              "      <td>4.398</td>\n",
              "      <td>5.39900</td>\n",
              "      <td>5.6890</td>\n",
              "      <td>5.89900</td>\n",
              "      <td>6.699</td>\n",
              "    </tr>\n",
              "    <tr>\n",
              "      <th>RAIZEN MIME</th>\n",
              "      <td>102.0</td>\n",
              "      <td>5.448784</td>\n",
              "      <td>1.352083e-01</td>\n",
              "      <td>5.159</td>\n",
              "      <td>5.38900</td>\n",
              "      <td>5.4980</td>\n",
              "      <td>5.57425</td>\n",
              "      <td>5.599</td>\n",
              "    </tr>\n",
              "    <tr>\n",
              "      <th>REJAILE</th>\n",
              "      <td>4.0</td>\n",
              "      <td>5.481500</td>\n",
              "      <td>2.150000e-01</td>\n",
              "      <td>5.159</td>\n",
              "      <td>5.48150</td>\n",
              "      <td>5.5890</td>\n",
              "      <td>5.58900</td>\n",
              "      <td>5.589</td>\n",
              "    </tr>\n",
              "    <tr>\n",
              "      <th>RIO BRANCO</th>\n",
              "      <td>22.0</td>\n",
              "      <td>5.986636</td>\n",
              "      <td>1.362279e-01</td>\n",
              "      <td>5.699</td>\n",
              "      <td>5.91375</td>\n",
              "      <td>5.9940</td>\n",
              "      <td>6.06725</td>\n",
              "      <td>6.249</td>\n",
              "    </tr>\n",
              "    <tr>\n",
              "      <th>RODOIL</th>\n",
              "      <td>72.0</td>\n",
              "      <td>5.763778</td>\n",
              "      <td>3.017234e-01</td>\n",
              "      <td>5.099</td>\n",
              "      <td>5.52900</td>\n",
              "      <td>5.8980</td>\n",
              "      <td>5.98900</td>\n",
              "      <td>6.596</td>\n",
              "    </tr>\n",
              "    <tr>\n",
              "      <th>ROYAL FIC</th>\n",
              "      <td>5.0</td>\n",
              "      <td>5.715400</td>\n",
              "      <td>1.063217e-01</td>\n",
              "      <td>5.599</td>\n",
              "      <td>5.59900</td>\n",
              "      <td>5.7900</td>\n",
              "      <td>5.79000</td>\n",
              "      <td>5.799</td>\n",
              "    </tr>\n",
              "    <tr>\n",
              "      <th>RUFF C.J.</th>\n",
              "      <td>2.0</td>\n",
              "      <td>5.399000</td>\n",
              "      <td>0.000000e+00</td>\n",
              "      <td>5.399</td>\n",
              "      <td>5.39900</td>\n",
              "      <td>5.3990</td>\n",
              "      <td>5.39900</td>\n",
              "      <td>5.399</td>\n",
              "    </tr>\n",
              "    <tr>\n",
              "      <th>RZD DISTRIBUIDORA</th>\n",
              "      <td>5.0</td>\n",
              "      <td>5.202000</td>\n",
              "      <td>1.752712e-01</td>\n",
              "      <td>4.890</td>\n",
              "      <td>5.25000</td>\n",
              "      <td>5.2900</td>\n",
              "      <td>5.29000</td>\n",
              "      <td>5.290</td>\n",
              "    </tr>\n",
              "    <tr>\n",
              "      <th>SABBÁ</th>\n",
              "      <td>231.0</td>\n",
              "      <td>5.664961</td>\n",
              "      <td>3.328543e-01</td>\n",
              "      <td>4.850</td>\n",
              "      <td>5.42900</td>\n",
              "      <td>5.5600</td>\n",
              "      <td>5.97000</td>\n",
              "      <td>6.330</td>\n",
              "    </tr>\n",
              "    <tr>\n",
              "      <th>SETTA DISTRIBUIDORA</th>\n",
              "      <td>23.0</td>\n",
              "      <td>5.619391</td>\n",
              "      <td>1.037601e-01</td>\n",
              "      <td>5.450</td>\n",
              "      <td>5.54000</td>\n",
              "      <td>5.5900</td>\n",
              "      <td>5.68000</td>\n",
              "      <td>5.790</td>\n",
              "    </tr>\n",
              "    <tr>\n",
              "      <th>SIMARELLI</th>\n",
              "      <td>20.0</td>\n",
              "      <td>5.768300</td>\n",
              "      <td>1.662209e-01</td>\n",
              "      <td>5.569</td>\n",
              "      <td>5.59900</td>\n",
              "      <td>5.6990</td>\n",
              "      <td>5.95900</td>\n",
              "      <td>5.999</td>\n",
              "    </tr>\n",
              "    <tr>\n",
              "      <th>SMALL</th>\n",
              "      <td>3.0</td>\n",
              "      <td>5.699000</td>\n",
              "      <td>1.087792e-15</td>\n",
              "      <td>5.699</td>\n",
              "      <td>5.69900</td>\n",
              "      <td>5.6990</td>\n",
              "      <td>5.69900</td>\n",
              "      <td>5.699</td>\n",
              "    </tr>\n",
              "    <tr>\n",
              "      <th>SP</th>\n",
              "      <td>60.0</td>\n",
              "      <td>5.816283</td>\n",
              "      <td>1.563702e-01</td>\n",
              "      <td>5.599</td>\n",
              "      <td>5.69900</td>\n",
              "      <td>5.7900</td>\n",
              "      <td>5.95000</td>\n",
              "      <td>6.190</td>\n",
              "    </tr>\n",
              "    <tr>\n",
              "      <th>STANG</th>\n",
              "      <td>25.0</td>\n",
              "      <td>5.332400</td>\n",
              "      <td>1.184880e-01</td>\n",
              "      <td>5.129</td>\n",
              "      <td>5.29000</td>\n",
              "      <td>5.2990</td>\n",
              "      <td>5.43000</td>\n",
              "      <td>5.570</td>\n",
              "    </tr>\n",
              "    <tr>\n",
              "      <th>SUL COMBUSTÍVEIS</th>\n",
              "      <td>5.0</td>\n",
              "      <td>5.948800</td>\n",
              "      <td>5.000200e-02</td>\n",
              "      <td>5.899</td>\n",
              "      <td>5.89900</td>\n",
              "      <td>5.9480</td>\n",
              "      <td>5.99900</td>\n",
              "      <td>5.999</td>\n",
              "    </tr>\n",
              "    <tr>\n",
              "      <th>TAURUS</th>\n",
              "      <td>35.0</td>\n",
              "      <td>5.668943</td>\n",
              "      <td>2.227544e-01</td>\n",
              "      <td>5.299</td>\n",
              "      <td>5.55800</td>\n",
              "      <td>5.5990</td>\n",
              "      <td>5.75950</td>\n",
              "      <td>6.170</td>\n",
              "    </tr>\n",
              "    <tr>\n",
              "      <th>TDC DISTRIBUIDORA</th>\n",
              "      <td>18.0</td>\n",
              "      <td>5.703222</td>\n",
              "      <td>2.428077e-01</td>\n",
              "      <td>5.479</td>\n",
              "      <td>5.49900</td>\n",
              "      <td>5.5745</td>\n",
              "      <td>5.83725</td>\n",
              "      <td>6.230</td>\n",
              "    </tr>\n",
              "    <tr>\n",
              "      <th>TEMAPE</th>\n",
              "      <td>14.0</td>\n",
              "      <td>5.648786</td>\n",
              "      <td>1.265775e-01</td>\n",
              "      <td>5.498</td>\n",
              "      <td>5.52325</td>\n",
              "      <td>5.5990</td>\n",
              "      <td>5.77900</td>\n",
              "      <td>5.790</td>\n",
              "    </tr>\n",
              "    <tr>\n",
              "      <th>TOBRAS</th>\n",
              "      <td>4.0</td>\n",
              "      <td>5.971500</td>\n",
              "      <td>4.856267e-02</td>\n",
              "      <td>5.899</td>\n",
              "      <td>5.96650</td>\n",
              "      <td>5.9940</td>\n",
              "      <td>5.99900</td>\n",
              "      <td>5.999</td>\n",
              "    </tr>\n",
              "    <tr>\n",
              "      <th>TORRAO</th>\n",
              "      <td>15.0</td>\n",
              "      <td>5.295667</td>\n",
              "      <td>1.420094e-01</td>\n",
              "      <td>5.199</td>\n",
              "      <td>5.19900</td>\n",
              "      <td>5.1990</td>\n",
              "      <td>5.47400</td>\n",
              "      <td>5.499</td>\n",
              "    </tr>\n",
              "    <tr>\n",
              "      <th>TOTAL BRASIL</th>\n",
              "      <td>25.0</td>\n",
              "      <td>5.855120</td>\n",
              "      <td>2.169910e-01</td>\n",
              "      <td>5.399</td>\n",
              "      <td>5.77500</td>\n",
              "      <td>5.8890</td>\n",
              "      <td>5.99900</td>\n",
              "      <td>6.199</td>\n",
              "    </tr>\n",
              "    <tr>\n",
              "      <th>UNI</th>\n",
              "      <td>3.0</td>\n",
              "      <td>5.250000</td>\n",
              "      <td>1.732051e-02</td>\n",
              "      <td>5.240</td>\n",
              "      <td>5.24000</td>\n",
              "      <td>5.2400</td>\n",
              "      <td>5.25500</td>\n",
              "      <td>5.270</td>\n",
              "    </tr>\n",
              "    <tr>\n",
              "      <th>WALENDOWSKY</th>\n",
              "      <td>5.0</td>\n",
              "      <td>5.398200</td>\n",
              "      <td>1.788854e-03</td>\n",
              "      <td>5.395</td>\n",
              "      <td>5.39900</td>\n",
              "      <td>5.3990</td>\n",
              "      <td>5.39900</td>\n",
              "      <td>5.399</td>\n",
              "    </tr>\n",
              "    <tr>\n",
              "      <th>WATT</th>\n",
              "      <td>2.0</td>\n",
              "      <td>5.957000</td>\n",
              "      <td>8.202439e-02</td>\n",
              "      <td>5.899</td>\n",
              "      <td>5.92800</td>\n",
              "      <td>5.9570</td>\n",
              "      <td>5.98600</td>\n",
              "      <td>6.015</td>\n",
              "    </tr>\n",
              "  </tbody>\n",
              "</table>\n",
              "</div>\n",
              "      <button class=\"colab-df-convert\" onclick=\"convertToInteractive('df-05d7a7eb-4c2c-49e1-8b11-6526a95f6e02')\"\n",
              "              title=\"Convert this dataframe to an interactive table.\"\n",
              "              style=\"display:none;\">\n",
              "        \n",
              "  <svg xmlns=\"http://www.w3.org/2000/svg\" height=\"24px\"viewBox=\"0 0 24 24\"\n",
              "       width=\"24px\">\n",
              "    <path d=\"M0 0h24v24H0V0z\" fill=\"none\"/>\n",
              "    <path d=\"M18.56 5.44l.94 2.06.94-2.06 2.06-.94-2.06-.94-.94-2.06-.94 2.06-2.06.94zm-11 1L8.5 8.5l.94-2.06 2.06-.94-2.06-.94L8.5 2.5l-.94 2.06-2.06.94zm10 10l.94 2.06.94-2.06 2.06-.94-2.06-.94-.94-2.06-.94 2.06-2.06.94z\"/><path d=\"M17.41 7.96l-1.37-1.37c-.4-.4-.92-.59-1.43-.59-.52 0-1.04.2-1.43.59L10.3 9.45l-7.72 7.72c-.78.78-.78 2.05 0 2.83L4 21.41c.39.39.9.59 1.41.59.51 0 1.02-.2 1.41-.59l7.78-7.78 2.81-2.81c.8-.78.8-2.07 0-2.86zM5.41 20L4 18.59l7.72-7.72 1.47 1.35L5.41 20z\"/>\n",
              "  </svg>\n",
              "      </button>\n",
              "      \n",
              "  <style>\n",
              "    .colab-df-container {\n",
              "      display:flex;\n",
              "      flex-wrap:wrap;\n",
              "      gap: 12px;\n",
              "    }\n",
              "\n",
              "    .colab-df-convert {\n",
              "      background-color: #E8F0FE;\n",
              "      border: none;\n",
              "      border-radius: 50%;\n",
              "      cursor: pointer;\n",
              "      display: none;\n",
              "      fill: #1967D2;\n",
              "      height: 32px;\n",
              "      padding: 0 0 0 0;\n",
              "      width: 32px;\n",
              "    }\n",
              "\n",
              "    .colab-df-convert:hover {\n",
              "      background-color: #E2EBFA;\n",
              "      box-shadow: 0px 1px 2px rgba(60, 64, 67, 0.3), 0px 1px 3px 1px rgba(60, 64, 67, 0.15);\n",
              "      fill: #174EA6;\n",
              "    }\n",
              "\n",
              "    [theme=dark] .colab-df-convert {\n",
              "      background-color: #3B4455;\n",
              "      fill: #D2E3FC;\n",
              "    }\n",
              "\n",
              "    [theme=dark] .colab-df-convert:hover {\n",
              "      background-color: #434B5C;\n",
              "      box-shadow: 0px 1px 3px 1px rgba(0, 0, 0, 0.15);\n",
              "      filter: drop-shadow(0px 1px 2px rgba(0, 0, 0, 0.3));\n",
              "      fill: #FFFFFF;\n",
              "    }\n",
              "  </style>\n",
              "\n",
              "      <script>\n",
              "        const buttonEl =\n",
              "          document.querySelector('#df-05d7a7eb-4c2c-49e1-8b11-6526a95f6e02 button.colab-df-convert');\n",
              "        buttonEl.style.display =\n",
              "          google.colab.kernel.accessAllowed ? 'block' : 'none';\n",
              "\n",
              "        async function convertToInteractive(key) {\n",
              "          const element = document.querySelector('#df-05d7a7eb-4c2c-49e1-8b11-6526a95f6e02');\n",
              "          const dataTable =\n",
              "            await google.colab.kernel.invokeFunction('convertToInteractive',\n",
              "                                                     [key], {});\n",
              "          if (!dataTable) return;\n",
              "\n",
              "          const docLinkHtml = 'Like what you see? Visit the ' +\n",
              "            '<a target=\"_blank\" href=https://colab.research.google.com/notebooks/data_table.ipynb>data table notebook</a>'\n",
              "            + ' to learn more about interactive tables.';\n",
              "          element.innerHTML = '';\n",
              "          dataTable['output_type'] = 'display_data';\n",
              "          await google.colab.output.renderOutput(dataTable, element);\n",
              "          const docLink = document.createElement('div');\n",
              "          docLink.innerHTML = docLinkHtml;\n",
              "          element.appendChild(docLink);\n",
              "        }\n",
              "      </script>\n",
              "    </div>\n",
              "  </div>\n",
              "  "
            ],
            "text/plain": [
              "                               count      mean  ...      75%    max\n",
              "Bandeira                                        ...                \n",
              "ACOL                             2.0  6.098000  ...  6.09800  6.098\n",
              "ALESAT                         404.0  5.767626  ...  5.99000  6.499\n",
              "AMERICANOIL                     17.0  5.499000  ...  5.54900  5.549\n",
              "ATEM' S                        110.0  5.510664  ...  5.54900  6.860\n",
              "ATLÂNTICA                       15.0  5.748600  ...  5.79000  5.870\n",
              "BRANCA                        7214.0  5.593306  ...  5.85000  6.890\n",
              "CHARRUA                         22.0  5.967136  ...  6.08900  6.199\n",
              "CIAPETRO                        24.0  5.640958  ...  5.69000  6.099\n",
              "DIBRAPE                          3.0  5.365667  ...  5.39900  5.499\n",
              "DISLUB                          34.0  5.836147  ...  5.98000  6.280\n",
              "D`MAIS                           2.0  5.398000  ...  5.39800  5.398\n",
              "EQUADOR                         73.0  5.870247  ...  6.32000  6.350\n",
              "FAN                             12.0  5.949833  ...  5.98900  5.989\n",
              "FEDERAL ENERGIA                 11.0  5.661545  ...  5.87000  5.980\n",
              "IDAZA                           49.0  5.744102  ...  5.79900  5.968\n",
              "IPIRANGA                      3225.0  5.690088  ...  5.89700  6.860\n",
              "LARCO                            4.0  5.850000  ...  5.85000  5.850\n",
              "MASUT DISTRIBUIDORA             13.0  6.003846  ...  6.02000  6.040\n",
              "MAXSUL                           8.0  5.503000  ...  5.52900  5.798\n",
              "PETROBAHIA                      12.0  6.061333  ...  6.24900  6.295\n",
              "PETROBRAS DISTRIBUIDORA S.A.  3830.0  5.778756  ...  5.99000  6.890\n",
              "PETROSERRA                       4.0  5.600000  ...  5.60500  5.830\n",
              "PETROX DISTRIBUIDORA            31.0  5.605032  ...  5.68000  5.689\n",
              "POTENCIAL                        7.0  5.273286  ...  5.29900  5.299\n",
              "RAIZEN                        2978.0  5.689036  ...  5.89900  6.699\n",
              "RAIZEN MIME                    102.0  5.448784  ...  5.57425  5.599\n",
              "REJAILE                          4.0  5.481500  ...  5.58900  5.589\n",
              "RIO BRANCO                      22.0  5.986636  ...  6.06725  6.249\n",
              "RODOIL                          72.0  5.763778  ...  5.98900  6.596\n",
              "ROYAL FIC                        5.0  5.715400  ...  5.79000  5.799\n",
              "RUFF C.J.                        2.0  5.399000  ...  5.39900  5.399\n",
              "RZD DISTRIBUIDORA                5.0  5.202000  ...  5.29000  5.290\n",
              "SABBÁ                          231.0  5.664961  ...  5.97000  6.330\n",
              "SETTA DISTRIBUIDORA             23.0  5.619391  ...  5.68000  5.790\n",
              "SIMARELLI                       20.0  5.768300  ...  5.95900  5.999\n",
              "SMALL                            3.0  5.699000  ...  5.69900  5.699\n",
              "SP                              60.0  5.816283  ...  5.95000  6.190\n",
              "STANG                           25.0  5.332400  ...  5.43000  5.570\n",
              "SUL COMBUSTÍVEIS                 5.0  5.948800  ...  5.99900  5.999\n",
              "TAURUS                          35.0  5.668943  ...  5.75950  6.170\n",
              "TDC DISTRIBUIDORA               18.0  5.703222  ...  5.83725  6.230\n",
              "TEMAPE                          14.0  5.648786  ...  5.77900  5.790\n",
              "TOBRAS                           4.0  5.971500  ...  5.99900  5.999\n",
              "TORRAO                          15.0  5.295667  ...  5.47400  5.499\n",
              "TOTAL BRASIL                    25.0  5.855120  ...  5.99900  6.199\n",
              "UNI                              3.0  5.250000  ...  5.25500  5.270\n",
              "WALENDOWSKY                      5.0  5.398200  ...  5.39900  5.399\n",
              "WATT                             2.0  5.957000  ...  5.98600  6.015\n",
              "\n",
              "[48 rows x 8 columns]"
            ]
          },
          "execution_count": null,
          "metadata": {},
          "output_type": "execute_result"
        }
      ],
      "source": [
        "#Observado que a Branca, Petrobras Distribuidora, Ipiranga e a Raizen são, respectivamente nessa ordem decrescente, \n",
        "#as detentoras de maior pontos comercializado\n",
        "cgbf = combustivel_gasol_band_filt.groupby('Bandeira')['Valor de Venda'].describe()\n",
        "cgbf"
      ]
    },
    {
      "cell_type": "code",
      "execution_count": null,
      "metadata": {
        "colab": {
          "background_save": true
        },
        "id": "jVykxVED93R7",
        "outputId": "7fe35e8e-7144-489f-a737-4a13b514a6fb"
      },
      "outputs": [
        {
          "data": {
            "text/html": [
              "\n",
              "  <div id=\"df-262051e0-2696-4363-99c5-07c1b589a0bd\">\n",
              "    <div class=\"colab-df-container\">\n",
              "      <div>\n",
              "<style scoped>\n",
              "    .dataframe tbody tr th:only-of-type {\n",
              "        vertical-align: middle;\n",
              "    }\n",
              "\n",
              "    .dataframe tbody tr th {\n",
              "        vertical-align: top;\n",
              "    }\n",
              "\n",
              "    .dataframe thead th {\n",
              "        text-align: right;\n",
              "    }\n",
              "</style>\n",
              "<table border=\"1\" class=\"dataframe\">\n",
              "  <thead>\n",
              "    <tr style=\"text-align: right;\">\n",
              "      <th></th>\n",
              "      <th>count</th>\n",
              "      <th>mean</th>\n",
              "      <th>std</th>\n",
              "      <th>min</th>\n",
              "      <th>25%</th>\n",
              "      <th>50%</th>\n",
              "      <th>75%</th>\n",
              "      <th>max</th>\n",
              "    </tr>\n",
              "    <tr>\n",
              "      <th>Bandeira</th>\n",
              "      <th></th>\n",
              "      <th></th>\n",
              "      <th></th>\n",
              "      <th></th>\n",
              "      <th></th>\n",
              "      <th></th>\n",
              "      <th></th>\n",
              "      <th></th>\n",
              "    </tr>\n",
              "  </thead>\n",
              "  <tbody>\n",
              "    <tr>\n",
              "      <th>ACOL</th>\n",
              "      <td>2.0</td>\n",
              "      <td>6.098000</td>\n",
              "      <td>0.000000</td>\n",
              "      <td>6.098</td>\n",
              "      <td>6.09800</td>\n",
              "      <td>6.0980</td>\n",
              "      <td>6.09800</td>\n",
              "      <td>6.098</td>\n",
              "    </tr>\n",
              "    <tr>\n",
              "      <th>ALESAT</th>\n",
              "      <td>259.0</td>\n",
              "      <td>5.844853</td>\n",
              "      <td>0.341711</td>\n",
              "      <td>5.199</td>\n",
              "      <td>5.57900</td>\n",
              "      <td>5.7990</td>\n",
              "      <td>6.09900</td>\n",
              "      <td>6.559</td>\n",
              "    </tr>\n",
              "    <tr>\n",
              "      <th>AMERICANOIL</th>\n",
              "      <td>17.0</td>\n",
              "      <td>5.599000</td>\n",
              "      <td>0.079844</td>\n",
              "      <td>5.479</td>\n",
              "      <td>5.47900</td>\n",
              "      <td>5.6490</td>\n",
              "      <td>5.64900</td>\n",
              "      <td>5.649</td>\n",
              "    </tr>\n",
              "    <tr>\n",
              "      <th>ATEM' S</th>\n",
              "      <td>96.0</td>\n",
              "      <td>5.428677</td>\n",
              "      <td>0.186550</td>\n",
              "      <td>4.890</td>\n",
              "      <td>5.29000</td>\n",
              "      <td>5.4000</td>\n",
              "      <td>5.54900</td>\n",
              "      <td>5.800</td>\n",
              "    </tr>\n",
              "    <tr>\n",
              "      <th>ATLÂNTICA</th>\n",
              "      <td>15.0</td>\n",
              "      <td>5.816600</td>\n",
              "      <td>0.122844</td>\n",
              "      <td>5.640</td>\n",
              "      <td>5.69500</td>\n",
              "      <td>5.8900</td>\n",
              "      <td>5.89000</td>\n",
              "      <td>5.970</td>\n",
              "    </tr>\n",
              "    <tr>\n",
              "      <th>BRANCA</th>\n",
              "      <td>4271.0</td>\n",
              "      <td>5.683192</td>\n",
              "      <td>0.323714</td>\n",
              "      <td>4.199</td>\n",
              "      <td>5.39900</td>\n",
              "      <td>5.6490</td>\n",
              "      <td>5.92900</td>\n",
              "      <td>6.599</td>\n",
              "    </tr>\n",
              "    <tr>\n",
              "      <th>CHARRUA</th>\n",
              "      <td>22.0</td>\n",
              "      <td>6.065364</td>\n",
              "      <td>0.146089</td>\n",
              "      <td>5.799</td>\n",
              "      <td>5.97900</td>\n",
              "      <td>6.0980</td>\n",
              "      <td>6.18900</td>\n",
              "      <td>6.299</td>\n",
              "    </tr>\n",
              "    <tr>\n",
              "      <th>CIAPETRO</th>\n",
              "      <td>17.0</td>\n",
              "      <td>5.693059</td>\n",
              "      <td>0.127301</td>\n",
              "      <td>5.399</td>\n",
              "      <td>5.69000</td>\n",
              "      <td>5.6990</td>\n",
              "      <td>5.75000</td>\n",
              "      <td>5.999</td>\n",
              "    </tr>\n",
              "    <tr>\n",
              "      <th>DIBRAPE</th>\n",
              "      <td>3.0</td>\n",
              "      <td>5.429000</td>\n",
              "      <td>0.153948</td>\n",
              "      <td>5.299</td>\n",
              "      <td>5.34400</td>\n",
              "      <td>5.3890</td>\n",
              "      <td>5.49400</td>\n",
              "      <td>5.599</td>\n",
              "    </tr>\n",
              "    <tr>\n",
              "      <th>DISLUB</th>\n",
              "      <td>31.0</td>\n",
              "      <td>5.963613</td>\n",
              "      <td>0.187217</td>\n",
              "      <td>5.689</td>\n",
              "      <td>5.82300</td>\n",
              "      <td>5.9890</td>\n",
              "      <td>6.07450</td>\n",
              "      <td>6.360</td>\n",
              "    </tr>\n",
              "    <tr>\n",
              "      <th>D`MAIS</th>\n",
              "      <td>2.0</td>\n",
              "      <td>5.448000</td>\n",
              "      <td>0.000000</td>\n",
              "      <td>5.448</td>\n",
              "      <td>5.44800</td>\n",
              "      <td>5.4480</td>\n",
              "      <td>5.44800</td>\n",
              "      <td>5.448</td>\n",
              "    </tr>\n",
              "    <tr>\n",
              "      <th>EQUADOR</th>\n",
              "      <td>63.0</td>\n",
              "      <td>5.857429</td>\n",
              "      <td>0.371789</td>\n",
              "      <td>4.990</td>\n",
              "      <td>5.69900</td>\n",
              "      <td>5.7990</td>\n",
              "      <td>6.33000</td>\n",
              "      <td>6.360</td>\n",
              "    </tr>\n",
              "    <tr>\n",
              "      <th>FAN</th>\n",
              "      <td>7.0</td>\n",
              "      <td>5.970429</td>\n",
              "      <td>0.075593</td>\n",
              "      <td>5.799</td>\n",
              "      <td>5.99900</td>\n",
              "      <td>5.9990</td>\n",
              "      <td>5.99900</td>\n",
              "      <td>5.999</td>\n",
              "    </tr>\n",
              "    <tr>\n",
              "      <th>FEDERAL ENERGIA</th>\n",
              "      <td>5.0</td>\n",
              "      <td>5.545600</td>\n",
              "      <td>0.192526</td>\n",
              "      <td>5.459</td>\n",
              "      <td>5.45900</td>\n",
              "      <td>5.4600</td>\n",
              "      <td>5.46000</td>\n",
              "      <td>5.890</td>\n",
              "    </tr>\n",
              "    <tr>\n",
              "      <th>IDAZA</th>\n",
              "      <td>38.0</td>\n",
              "      <td>5.839211</td>\n",
              "      <td>0.139334</td>\n",
              "      <td>5.490</td>\n",
              "      <td>5.86600</td>\n",
              "      <td>5.8990</td>\n",
              "      <td>5.89900</td>\n",
              "      <td>5.968</td>\n",
              "    </tr>\n",
              "    <tr>\n",
              "      <th>IPIRANGA</th>\n",
              "      <td>2719.0</td>\n",
              "      <td>5.863282</td>\n",
              "      <td>0.307114</td>\n",
              "      <td>5.149</td>\n",
              "      <td>5.60900</td>\n",
              "      <td>5.7990</td>\n",
              "      <td>5.99900</td>\n",
              "      <td>6.955</td>\n",
              "    </tr>\n",
              "    <tr>\n",
              "      <th>LARCO</th>\n",
              "      <td>4.0</td>\n",
              "      <td>5.850000</td>\n",
              "      <td>0.000000</td>\n",
              "      <td>5.850</td>\n",
              "      <td>5.85000</td>\n",
              "      <td>5.8500</td>\n",
              "      <td>5.85000</td>\n",
              "      <td>5.850</td>\n",
              "    </tr>\n",
              "    <tr>\n",
              "      <th>MASUT DISTRIBUIDORA</th>\n",
              "      <td>10.0</td>\n",
              "      <td>5.999000</td>\n",
              "      <td>0.087996</td>\n",
              "      <td>5.750</td>\n",
              "      <td>6.02000</td>\n",
              "      <td>6.0200</td>\n",
              "      <td>6.03500</td>\n",
              "      <td>6.040</td>\n",
              "    </tr>\n",
              "    <tr>\n",
              "      <th>MAXSUL</th>\n",
              "      <td>5.0</td>\n",
              "      <td>5.602800</td>\n",
              "      <td>0.165022</td>\n",
              "      <td>5.529</td>\n",
              "      <td>5.52900</td>\n",
              "      <td>5.5290</td>\n",
              "      <td>5.52900</td>\n",
              "      <td>5.898</td>\n",
              "    </tr>\n",
              "    <tr>\n",
              "      <th>PETROBAHIA</th>\n",
              "      <td>9.0</td>\n",
              "      <td>6.075000</td>\n",
              "      <td>0.169588</td>\n",
              "      <td>5.899</td>\n",
              "      <td>5.89900</td>\n",
              "      <td>5.9990</td>\n",
              "      <td>6.19500</td>\n",
              "      <td>6.295</td>\n",
              "    </tr>\n",
              "    <tr>\n",
              "      <th>PETROBRAS DISTRIBUIDORA S.A.</th>\n",
              "      <td>3173.0</td>\n",
              "      <td>5.921873</td>\n",
              "      <td>0.332326</td>\n",
              "      <td>4.299</td>\n",
              "      <td>5.69800</td>\n",
              "      <td>5.8990</td>\n",
              "      <td>6.09900</td>\n",
              "      <td>6.999</td>\n",
              "    </tr>\n",
              "    <tr>\n",
              "      <th>PETROSERRA</th>\n",
              "      <td>4.0</td>\n",
              "      <td>5.600000</td>\n",
              "      <td>0.153623</td>\n",
              "      <td>5.510</td>\n",
              "      <td>5.52500</td>\n",
              "      <td>5.5300</td>\n",
              "      <td>5.60500</td>\n",
              "      <td>5.830</td>\n",
              "    </tr>\n",
              "    <tr>\n",
              "      <th>PETROX DISTRIBUIDORA</th>\n",
              "      <td>27.0</td>\n",
              "      <td>5.606889</td>\n",
              "      <td>0.057946</td>\n",
              "      <td>5.480</td>\n",
              "      <td>5.58000</td>\n",
              "      <td>5.5800</td>\n",
              "      <td>5.68000</td>\n",
              "      <td>5.689</td>\n",
              "    </tr>\n",
              "    <tr>\n",
              "      <th>POTENCIAL</th>\n",
              "      <td>7.0</td>\n",
              "      <td>5.296143</td>\n",
              "      <td>0.049570</td>\n",
              "      <td>5.259</td>\n",
              "      <td>5.25900</td>\n",
              "      <td>5.2990</td>\n",
              "      <td>5.29900</td>\n",
              "      <td>5.399</td>\n",
              "    </tr>\n",
              "    <tr>\n",
              "      <th>RAIZEN</th>\n",
              "      <td>2606.0</td>\n",
              "      <td>5.891910</td>\n",
              "      <td>0.311865</td>\n",
              "      <td>5.099</td>\n",
              "      <td>5.60900</td>\n",
              "      <td>5.8900</td>\n",
              "      <td>6.09900</td>\n",
              "      <td>6.899</td>\n",
              "    </tr>\n",
              "    <tr>\n",
              "      <th>RAIZEN MIME</th>\n",
              "      <td>84.0</td>\n",
              "      <td>5.599536</td>\n",
              "      <td>0.116697</td>\n",
              "      <td>5.359</td>\n",
              "      <td>5.53575</td>\n",
              "      <td>5.5990</td>\n",
              "      <td>5.69675</td>\n",
              "      <td>5.779</td>\n",
              "    </tr>\n",
              "    <tr>\n",
              "      <th>REJAILE</th>\n",
              "      <td>4.0</td>\n",
              "      <td>5.534000</td>\n",
              "      <td>0.250000</td>\n",
              "      <td>5.159</td>\n",
              "      <td>5.53400</td>\n",
              "      <td>5.6590</td>\n",
              "      <td>5.65900</td>\n",
              "      <td>5.659</td>\n",
              "    </tr>\n",
              "    <tr>\n",
              "      <th>RIO BRANCO</th>\n",
              "      <td>16.0</td>\n",
              "      <td>6.052687</td>\n",
              "      <td>0.203221</td>\n",
              "      <td>5.699</td>\n",
              "      <td>5.97450</td>\n",
              "      <td>6.0435</td>\n",
              "      <td>6.15000</td>\n",
              "      <td>6.499</td>\n",
              "    </tr>\n",
              "    <tr>\n",
              "      <th>RODOIL</th>\n",
              "      <td>72.0</td>\n",
              "      <td>5.872903</td>\n",
              "      <td>0.312232</td>\n",
              "      <td>5.099</td>\n",
              "      <td>5.58725</td>\n",
              "      <td>5.9980</td>\n",
              "      <td>6.09900</td>\n",
              "      <td>6.689</td>\n",
              "    </tr>\n",
              "    <tr>\n",
              "      <th>ROYAL FIC</th>\n",
              "      <td>5.0</td>\n",
              "      <td>5.715400</td>\n",
              "      <td>0.106322</td>\n",
              "      <td>5.599</td>\n",
              "      <td>5.59900</td>\n",
              "      <td>5.7900</td>\n",
              "      <td>5.79000</td>\n",
              "      <td>5.799</td>\n",
              "    </tr>\n",
              "    <tr>\n",
              "      <th>RZD DISTRIBUIDORA</th>\n",
              "      <td>5.0</td>\n",
              "      <td>5.202000</td>\n",
              "      <td>0.175271</td>\n",
              "      <td>4.890</td>\n",
              "      <td>5.25000</td>\n",
              "      <td>5.2900</td>\n",
              "      <td>5.29000</td>\n",
              "      <td>5.290</td>\n",
              "    </tr>\n",
              "    <tr>\n",
              "      <th>SABBÁ</th>\n",
              "      <td>196.0</td>\n",
              "      <td>5.901684</td>\n",
              "      <td>0.352478</td>\n",
              "      <td>5.090</td>\n",
              "      <td>5.66475</td>\n",
              "      <td>5.8990</td>\n",
              "      <td>6.19000</td>\n",
              "      <td>6.499</td>\n",
              "    </tr>\n",
              "    <tr>\n",
              "      <th>SETTA DISTRIBUIDORA</th>\n",
              "      <td>13.0</td>\n",
              "      <td>5.677385</td>\n",
              "      <td>0.034946</td>\n",
              "      <td>5.599</td>\n",
              "      <td>5.69000</td>\n",
              "      <td>5.6900</td>\n",
              "      <td>5.69000</td>\n",
              "      <td>5.699</td>\n",
              "    </tr>\n",
              "    <tr>\n",
              "      <th>SIMARELLI</th>\n",
              "      <td>19.0</td>\n",
              "      <td>5.837211</td>\n",
              "      <td>0.125632</td>\n",
              "      <td>5.698</td>\n",
              "      <td>5.73900</td>\n",
              "      <td>5.7990</td>\n",
              "      <td>5.95400</td>\n",
              "      <td>6.069</td>\n",
              "    </tr>\n",
              "    <tr>\n",
              "      <th>SMALL</th>\n",
              "      <td>3.0</td>\n",
              "      <td>5.799000</td>\n",
              "      <td>0.000000</td>\n",
              "      <td>5.799</td>\n",
              "      <td>5.79900</td>\n",
              "      <td>5.7990</td>\n",
              "      <td>5.79900</td>\n",
              "      <td>5.799</td>\n",
              "    </tr>\n",
              "    <tr>\n",
              "      <th>SP</th>\n",
              "      <td>43.0</td>\n",
              "      <td>5.854558</td>\n",
              "      <td>0.162249</td>\n",
              "      <td>5.639</td>\n",
              "      <td>5.70000</td>\n",
              "      <td>5.8290</td>\n",
              "      <td>5.97950</td>\n",
              "      <td>6.190</td>\n",
              "    </tr>\n",
              "    <tr>\n",
              "      <th>STANG</th>\n",
              "      <td>21.0</td>\n",
              "      <td>5.304762</td>\n",
              "      <td>0.105739</td>\n",
              "      <td>5.129</td>\n",
              "      <td>5.26000</td>\n",
              "      <td>5.2990</td>\n",
              "      <td>5.38000</td>\n",
              "      <td>5.549</td>\n",
              "    </tr>\n",
              "    <tr>\n",
              "      <th>SUL COMBUSTÍVEIS</th>\n",
              "      <td>5.0</td>\n",
              "      <td>6.057000</td>\n",
              "      <td>0.040193</td>\n",
              "      <td>5.998</td>\n",
              "      <td>6.04900</td>\n",
              "      <td>6.0490</td>\n",
              "      <td>6.09000</td>\n",
              "      <td>6.099</td>\n",
              "    </tr>\n",
              "    <tr>\n",
              "      <th>TAURUS</th>\n",
              "      <td>7.0</td>\n",
              "      <td>6.031143</td>\n",
              "      <td>0.246412</td>\n",
              "      <td>5.649</td>\n",
              "      <td>5.84450</td>\n",
              "      <td>6.2200</td>\n",
              "      <td>6.22000</td>\n",
              "      <td>6.220</td>\n",
              "    </tr>\n",
              "    <tr>\n",
              "      <th>TDC DISTRIBUIDORA</th>\n",
              "      <td>16.0</td>\n",
              "      <td>5.710000</td>\n",
              "      <td>0.242695</td>\n",
              "      <td>5.479</td>\n",
              "      <td>5.56000</td>\n",
              "      <td>5.5790</td>\n",
              "      <td>5.81175</td>\n",
              "      <td>6.270</td>\n",
              "    </tr>\n",
              "    <tr>\n",
              "      <th>TEMAPE</th>\n",
              "      <td>9.0</td>\n",
              "      <td>5.577222</td>\n",
              "      <td>0.097298</td>\n",
              "      <td>5.499</td>\n",
              "      <td>5.49900</td>\n",
              "      <td>5.6000</td>\n",
              "      <td>5.60000</td>\n",
              "      <td>5.799</td>\n",
              "    </tr>\n",
              "    <tr>\n",
              "      <th>TOBRAS</th>\n",
              "      <td>1.0</td>\n",
              "      <td>6.099000</td>\n",
              "      <td>NaN</td>\n",
              "      <td>6.099</td>\n",
              "      <td>6.09900</td>\n",
              "      <td>6.0990</td>\n",
              "      <td>6.09900</td>\n",
              "      <td>6.099</td>\n",
              "    </tr>\n",
              "    <tr>\n",
              "      <th>TORRAO</th>\n",
              "      <td>10.0</td>\n",
              "      <td>5.344000</td>\n",
              "      <td>0.153569</td>\n",
              "      <td>5.199</td>\n",
              "      <td>5.19900</td>\n",
              "      <td>5.3240</td>\n",
              "      <td>5.49900</td>\n",
              "      <td>5.499</td>\n",
              "    </tr>\n",
              "    <tr>\n",
              "      <th>TOTAL BRASIL</th>\n",
              "      <td>7.0</td>\n",
              "      <td>5.747571</td>\n",
              "      <td>0.197183</td>\n",
              "      <td>5.499</td>\n",
              "      <td>5.61900</td>\n",
              "      <td>5.6390</td>\n",
              "      <td>5.94900</td>\n",
              "      <td>5.959</td>\n",
              "    </tr>\n",
              "    <tr>\n",
              "      <th>UNI</th>\n",
              "      <td>3.0</td>\n",
              "      <td>5.356667</td>\n",
              "      <td>0.030551</td>\n",
              "      <td>5.330</td>\n",
              "      <td>5.34000</td>\n",
              "      <td>5.3500</td>\n",
              "      <td>5.37000</td>\n",
              "      <td>5.390</td>\n",
              "    </tr>\n",
              "    <tr>\n",
              "      <th>WALENDOWSKY</th>\n",
              "      <td>5.0</td>\n",
              "      <td>5.418200</td>\n",
              "      <td>0.001789</td>\n",
              "      <td>5.415</td>\n",
              "      <td>5.41900</td>\n",
              "      <td>5.4190</td>\n",
              "      <td>5.41900</td>\n",
              "      <td>5.419</td>\n",
              "    </tr>\n",
              "    <tr>\n",
              "      <th>WATT</th>\n",
              "      <td>1.0</td>\n",
              "      <td>6.018000</td>\n",
              "      <td>NaN</td>\n",
              "      <td>6.018</td>\n",
              "      <td>6.01800</td>\n",
              "      <td>6.0180</td>\n",
              "      <td>6.01800</td>\n",
              "      <td>6.018</td>\n",
              "    </tr>\n",
              "  </tbody>\n",
              "</table>\n",
              "</div>\n",
              "      <button class=\"colab-df-convert\" onclick=\"convertToInteractive('df-262051e0-2696-4363-99c5-07c1b589a0bd')\"\n",
              "              title=\"Convert this dataframe to an interactive table.\"\n",
              "              style=\"display:none;\">\n",
              "        \n",
              "  <svg xmlns=\"http://www.w3.org/2000/svg\" height=\"24px\"viewBox=\"0 0 24 24\"\n",
              "       width=\"24px\">\n",
              "    <path d=\"M0 0h24v24H0V0z\" fill=\"none\"/>\n",
              "    <path d=\"M18.56 5.44l.94 2.06.94-2.06 2.06-.94-2.06-.94-.94-2.06-.94 2.06-2.06.94zm-11 1L8.5 8.5l.94-2.06 2.06-.94-2.06-.94L8.5 2.5l-.94 2.06-2.06.94zm10 10l.94 2.06.94-2.06 2.06-.94-2.06-.94-.94-2.06-.94 2.06-2.06.94z\"/><path d=\"M17.41 7.96l-1.37-1.37c-.4-.4-.92-.59-1.43-.59-.52 0-1.04.2-1.43.59L10.3 9.45l-7.72 7.72c-.78.78-.78 2.05 0 2.83L4 21.41c.39.39.9.59 1.41.59.51 0 1.02-.2 1.41-.59l7.78-7.78 2.81-2.81c.8-.78.8-2.07 0-2.86zM5.41 20L4 18.59l7.72-7.72 1.47 1.35L5.41 20z\"/>\n",
              "  </svg>\n",
              "      </button>\n",
              "      \n",
              "  <style>\n",
              "    .colab-df-container {\n",
              "      display:flex;\n",
              "      flex-wrap:wrap;\n",
              "      gap: 12px;\n",
              "    }\n",
              "\n",
              "    .colab-df-convert {\n",
              "      background-color: #E8F0FE;\n",
              "      border: none;\n",
              "      border-radius: 50%;\n",
              "      cursor: pointer;\n",
              "      display: none;\n",
              "      fill: #1967D2;\n",
              "      height: 32px;\n",
              "      padding: 0 0 0 0;\n",
              "      width: 32px;\n",
              "    }\n",
              "\n",
              "    .colab-df-convert:hover {\n",
              "      background-color: #E2EBFA;\n",
              "      box-shadow: 0px 1px 2px rgba(60, 64, 67, 0.3), 0px 1px 3px 1px rgba(60, 64, 67, 0.15);\n",
              "      fill: #174EA6;\n",
              "    }\n",
              "\n",
              "    [theme=dark] .colab-df-convert {\n",
              "      background-color: #3B4455;\n",
              "      fill: #D2E3FC;\n",
              "    }\n",
              "\n",
              "    [theme=dark] .colab-df-convert:hover {\n",
              "      background-color: #434B5C;\n",
              "      box-shadow: 0px 1px 3px 1px rgba(0, 0, 0, 0.15);\n",
              "      filter: drop-shadow(0px 1px 2px rgba(0, 0, 0, 0.3));\n",
              "      fill: #FFFFFF;\n",
              "    }\n",
              "  </style>\n",
              "\n",
              "      <script>\n",
              "        const buttonEl =\n",
              "          document.querySelector('#df-262051e0-2696-4363-99c5-07c1b589a0bd button.colab-df-convert');\n",
              "        buttonEl.style.display =\n",
              "          google.colab.kernel.accessAllowed ? 'block' : 'none';\n",
              "\n",
              "        async function convertToInteractive(key) {\n",
              "          const element = document.querySelector('#df-262051e0-2696-4363-99c5-07c1b589a0bd');\n",
              "          const dataTable =\n",
              "            await google.colab.kernel.invokeFunction('convertToInteractive',\n",
              "                                                     [key], {});\n",
              "          if (!dataTable) return;\n",
              "\n",
              "          const docLinkHtml = 'Like what you see? Visit the ' +\n",
              "            '<a target=\"_blank\" href=https://colab.research.google.com/notebooks/data_table.ipynb>data table notebook</a>'\n",
              "            + ' to learn more about interactive tables.';\n",
              "          element.innerHTML = '';\n",
              "          dataTable['output_type'] = 'display_data';\n",
              "          await google.colab.output.renderOutput(dataTable, element);\n",
              "          const docLink = document.createElement('div');\n",
              "          docLink.innerHTML = docLinkHtml;\n",
              "          element.appendChild(docLink);\n",
              "        }\n",
              "      </script>\n",
              "    </div>\n",
              "  </div>\n",
              "  "
            ],
            "text/plain": [
              "                               count      mean  ...      75%    max\n",
              "Bandeira                                        ...                \n",
              "ACOL                             2.0  6.098000  ...  6.09800  6.098\n",
              "ALESAT                         259.0  5.844853  ...  6.09900  6.559\n",
              "AMERICANOIL                     17.0  5.599000  ...  5.64900  5.649\n",
              "ATEM' S                         96.0  5.428677  ...  5.54900  5.800\n",
              "ATLÂNTICA                       15.0  5.816600  ...  5.89000  5.970\n",
              "BRANCA                        4271.0  5.683192  ...  5.92900  6.599\n",
              "CHARRUA                         22.0  6.065364  ...  6.18900  6.299\n",
              "CIAPETRO                        17.0  5.693059  ...  5.75000  5.999\n",
              "DIBRAPE                          3.0  5.429000  ...  5.49400  5.599\n",
              "DISLUB                          31.0  5.963613  ...  6.07450  6.360\n",
              "D`MAIS                           2.0  5.448000  ...  5.44800  5.448\n",
              "EQUADOR                         63.0  5.857429  ...  6.33000  6.360\n",
              "FAN                              7.0  5.970429  ...  5.99900  5.999\n",
              "FEDERAL ENERGIA                  5.0  5.545600  ...  5.46000  5.890\n",
              "IDAZA                           38.0  5.839211  ...  5.89900  5.968\n",
              "IPIRANGA                      2719.0  5.863282  ...  5.99900  6.955\n",
              "LARCO                            4.0  5.850000  ...  5.85000  5.850\n",
              "MASUT DISTRIBUIDORA             10.0  5.999000  ...  6.03500  6.040\n",
              "MAXSUL                           5.0  5.602800  ...  5.52900  5.898\n",
              "PETROBAHIA                       9.0  6.075000  ...  6.19500  6.295\n",
              "PETROBRAS DISTRIBUIDORA S.A.  3173.0  5.921873  ...  6.09900  6.999\n",
              "PETROSERRA                       4.0  5.600000  ...  5.60500  5.830\n",
              "PETROX DISTRIBUIDORA            27.0  5.606889  ...  5.68000  5.689\n",
              "POTENCIAL                        7.0  5.296143  ...  5.29900  5.399\n",
              "RAIZEN                        2606.0  5.891910  ...  6.09900  6.899\n",
              "RAIZEN MIME                     84.0  5.599536  ...  5.69675  5.779\n",
              "REJAILE                          4.0  5.534000  ...  5.65900  5.659\n",
              "RIO BRANCO                      16.0  6.052687  ...  6.15000  6.499\n",
              "RODOIL                          72.0  5.872903  ...  6.09900  6.689\n",
              "ROYAL FIC                        5.0  5.715400  ...  5.79000  5.799\n",
              "RZD DISTRIBUIDORA                5.0  5.202000  ...  5.29000  5.290\n",
              "SABBÁ                          196.0  5.901684  ...  6.19000  6.499\n",
              "SETTA DISTRIBUIDORA             13.0  5.677385  ...  5.69000  5.699\n",
              "SIMARELLI                       19.0  5.837211  ...  5.95400  6.069\n",
              "SMALL                            3.0  5.799000  ...  5.79900  5.799\n",
              "SP                              43.0  5.854558  ...  5.97950  6.190\n",
              "STANG                           21.0  5.304762  ...  5.38000  5.549\n",
              "SUL COMBUSTÍVEIS                 5.0  6.057000  ...  6.09000  6.099\n",
              "TAURUS                           7.0  6.031143  ...  6.22000  6.220\n",
              "TDC DISTRIBUIDORA               16.0  5.710000  ...  5.81175  6.270\n",
              "TEMAPE                           9.0  5.577222  ...  5.60000  5.799\n",
              "TOBRAS                           1.0  6.099000  ...  6.09900  6.099\n",
              "TORRAO                          10.0  5.344000  ...  5.49900  5.499\n",
              "TOTAL BRASIL                     7.0  5.747571  ...  5.94900  5.959\n",
              "UNI                              3.0  5.356667  ...  5.37000  5.390\n",
              "WALENDOWSKY                      5.0  5.418200  ...  5.41900  5.419\n",
              "WATT                             1.0  6.018000  ...  6.01800  6.018\n",
              "\n",
              "[47 rows x 8 columns]"
            ]
          },
          "execution_count": null,
          "metadata": {},
          "output_type": "execute_result"
        }
      ],
      "source": [
        "cgabf = combustivel_gasola_band_filt.groupby('Bandeira')['Valor de Venda'].describe()\n",
        "cgabf"
      ]
    },
    {
      "cell_type": "code",
      "execution_count": null,
      "metadata": {
        "colab": {
          "background_save": true
        },
        "id": "APJST-d0-deo",
        "outputId": "bc4b87b5-86dc-4c72-c5ec-a31b7530d78a"
      },
      "outputs": [
        {
          "data": {
            "text/html": [
              "\n",
              "  <div id=\"df-c1875948-fbf4-4647-b982-41df68942782\">\n",
              "    <div class=\"colab-df-container\">\n",
              "      <div>\n",
              "<style scoped>\n",
              "    .dataframe tbody tr th:only-of-type {\n",
              "        vertical-align: middle;\n",
              "    }\n",
              "\n",
              "    .dataframe tbody tr th {\n",
              "        vertical-align: top;\n",
              "    }\n",
              "\n",
              "    .dataframe thead th {\n",
              "        text-align: right;\n",
              "    }\n",
              "</style>\n",
              "<table border=\"1\" class=\"dataframe\">\n",
              "  <thead>\n",
              "    <tr style=\"text-align: right;\">\n",
              "      <th></th>\n",
              "      <th>count</th>\n",
              "      <th>mean</th>\n",
              "      <th>std</th>\n",
              "      <th>min</th>\n",
              "      <th>25%</th>\n",
              "      <th>50%</th>\n",
              "      <th>75%</th>\n",
              "      <th>max</th>\n",
              "    </tr>\n",
              "    <tr>\n",
              "      <th>Bandeira</th>\n",
              "      <th></th>\n",
              "      <th></th>\n",
              "      <th></th>\n",
              "      <th></th>\n",
              "      <th></th>\n",
              "      <th></th>\n",
              "      <th></th>\n",
              "      <th></th>\n",
              "    </tr>\n",
              "  </thead>\n",
              "  <tbody>\n",
              "    <tr>\n",
              "      <th>ACOL</th>\n",
              "      <td>2.0</td>\n",
              "      <td>4.598000</td>\n",
              "      <td>0.000000e+00</td>\n",
              "      <td>4.598</td>\n",
              "      <td>4.59800</td>\n",
              "      <td>4.5980</td>\n",
              "      <td>4.59800</td>\n",
              "      <td>4.598</td>\n",
              "    </tr>\n",
              "    <tr>\n",
              "      <th>ALESAT</th>\n",
              "      <td>363.0</td>\n",
              "      <td>4.757507</td>\n",
              "      <td>5.264617e-01</td>\n",
              "      <td>3.859</td>\n",
              "      <td>4.34250</td>\n",
              "      <td>4.6500</td>\n",
              "      <td>5.14200</td>\n",
              "      <td>5.999</td>\n",
              "    </tr>\n",
              "    <tr>\n",
              "      <th>AMERICANOIL</th>\n",
              "      <td>10.0</td>\n",
              "      <td>4.999000</td>\n",
              "      <td>9.362223e-16</td>\n",
              "      <td>4.999</td>\n",
              "      <td>4.99900</td>\n",
              "      <td>4.9990</td>\n",
              "      <td>4.99900</td>\n",
              "      <td>4.999</td>\n",
              "    </tr>\n",
              "    <tr>\n",
              "      <th>ATEM' S</th>\n",
              "      <td>80.0</td>\n",
              "      <td>4.512337</td>\n",
              "      <td>2.373876e-01</td>\n",
              "      <td>4.180</td>\n",
              "      <td>4.29000</td>\n",
              "      <td>4.3990</td>\n",
              "      <td>4.71500</td>\n",
              "      <td>4.929</td>\n",
              "    </tr>\n",
              "    <tr>\n",
              "      <th>ATLÂNTICA</th>\n",
              "      <td>9.0</td>\n",
              "      <td>4.972111</td>\n",
              "      <td>2.838355e-01</td>\n",
              "      <td>4.680</td>\n",
              "      <td>4.69000</td>\n",
              "      <td>4.9990</td>\n",
              "      <td>5.28000</td>\n",
              "      <td>5.280</td>\n",
              "    </tr>\n",
              "    <tr>\n",
              "      <th>BRANCA</th>\n",
              "      <td>6740.0</td>\n",
              "      <td>4.437824</td>\n",
              "      <td>4.688060e-01</td>\n",
              "      <td>3.097</td>\n",
              "      <td>4.07975</td>\n",
              "      <td>4.2790</td>\n",
              "      <td>4.85000</td>\n",
              "      <td>6.299</td>\n",
              "    </tr>\n",
              "    <tr>\n",
              "      <th>CHARRUA</th>\n",
              "      <td>10.0</td>\n",
              "      <td>5.813700</td>\n",
              "      <td>1.097523e-01</td>\n",
              "      <td>5.658</td>\n",
              "      <td>5.79900</td>\n",
              "      <td>5.7990</td>\n",
              "      <td>5.79900</td>\n",
              "      <td>5.999</td>\n",
              "    </tr>\n",
              "    <tr>\n",
              "      <th>CIAPETRO</th>\n",
              "      <td>25.0</td>\n",
              "      <td>4.421520</td>\n",
              "      <td>1.633522e-01</td>\n",
              "      <td>3.999</td>\n",
              "      <td>4.39000</td>\n",
              "      <td>4.4700</td>\n",
              "      <td>4.55900</td>\n",
              "      <td>4.599</td>\n",
              "    </tr>\n",
              "    <tr>\n",
              "      <th>DIBRAPE</th>\n",
              "      <td>2.0</td>\n",
              "      <td>4.754000</td>\n",
              "      <td>2.899138e-01</td>\n",
              "      <td>4.549</td>\n",
              "      <td>4.65150</td>\n",
              "      <td>4.7540</td>\n",
              "      <td>4.85650</td>\n",
              "      <td>4.959</td>\n",
              "    </tr>\n",
              "    <tr>\n",
              "      <th>DISLUB</th>\n",
              "      <td>31.0</td>\n",
              "      <td>5.146484</td>\n",
              "      <td>2.242191e-01</td>\n",
              "      <td>4.780</td>\n",
              "      <td>4.99900</td>\n",
              "      <td>5.0690</td>\n",
              "      <td>5.15400</td>\n",
              "      <td>5.680</td>\n",
              "    </tr>\n",
              "    <tr>\n",
              "      <th>D`MAIS</th>\n",
              "      <td>2.0</td>\n",
              "      <td>4.138000</td>\n",
              "      <td>8.485281e-02</td>\n",
              "      <td>4.078</td>\n",
              "      <td>4.10800</td>\n",
              "      <td>4.1380</td>\n",
              "      <td>4.16800</td>\n",
              "      <td>4.198</td>\n",
              "    </tr>\n",
              "    <tr>\n",
              "      <th>EQUADOR</th>\n",
              "      <td>29.0</td>\n",
              "      <td>4.920862</td>\n",
              "      <td>5.981126e-01</td>\n",
              "      <td>4.190</td>\n",
              "      <td>4.29000</td>\n",
              "      <td>4.9900</td>\n",
              "      <td>5.33000</td>\n",
              "      <td>5.850</td>\n",
              "    </tr>\n",
              "    <tr>\n",
              "      <th>FAN</th>\n",
              "      <td>10.0</td>\n",
              "      <td>5.260000</td>\n",
              "      <td>2.866841e-01</td>\n",
              "      <td>4.489</td>\n",
              "      <td>5.28900</td>\n",
              "      <td>5.2890</td>\n",
              "      <td>5.38900</td>\n",
              "      <td>5.489</td>\n",
              "    </tr>\n",
              "    <tr>\n",
              "      <th>FEDERAL ENERGIA</th>\n",
              "      <td>11.0</td>\n",
              "      <td>4.875818</td>\n",
              "      <td>2.202216e-01</td>\n",
              "      <td>4.490</td>\n",
              "      <td>4.79900</td>\n",
              "      <td>4.8900</td>\n",
              "      <td>5.04400</td>\n",
              "      <td>5.099</td>\n",
              "    </tr>\n",
              "    <tr>\n",
              "      <th>IDAZA</th>\n",
              "      <td>42.0</td>\n",
              "      <td>4.178381</td>\n",
              "      <td>2.998807e-01</td>\n",
              "      <td>3.899</td>\n",
              "      <td>3.98800</td>\n",
              "      <td>4.0345</td>\n",
              "      <td>4.39900</td>\n",
              "      <td>5.274</td>\n",
              "    </tr>\n",
              "    <tr>\n",
              "      <th>IPIRANGA</th>\n",
              "      <td>2777.0</td>\n",
              "      <td>4.597423</td>\n",
              "      <td>5.334005e-01</td>\n",
              "      <td>3.299</td>\n",
              "      <td>4.19900</td>\n",
              "      <td>4.3990</td>\n",
              "      <td>4.89900</td>\n",
              "      <td>6.999</td>\n",
              "    </tr>\n",
              "    <tr>\n",
              "      <th>LARCO</th>\n",
              "      <td>4.0</td>\n",
              "      <td>4.850000</td>\n",
              "      <td>0.000000e+00</td>\n",
              "      <td>4.850</td>\n",
              "      <td>4.85000</td>\n",
              "      <td>4.8500</td>\n",
              "      <td>4.85000</td>\n",
              "      <td>4.850</td>\n",
              "    </tr>\n",
              "    <tr>\n",
              "      <th>MASUT DISTRIBUIDORA</th>\n",
              "      <td>13.0</td>\n",
              "      <td>4.533846</td>\n",
              "      <td>6.551571e-02</td>\n",
              "      <td>4.360</td>\n",
              "      <td>4.52000</td>\n",
              "      <td>4.5800</td>\n",
              "      <td>4.58000</td>\n",
              "      <td>4.580</td>\n",
              "    </tr>\n",
              "    <tr>\n",
              "      <th>MAXSUL</th>\n",
              "      <td>3.0</td>\n",
              "      <td>4.210000</td>\n",
              "      <td>6.928203e-02</td>\n",
              "      <td>4.170</td>\n",
              "      <td>4.17000</td>\n",
              "      <td>4.1700</td>\n",
              "      <td>4.23000</td>\n",
              "      <td>4.290</td>\n",
              "    </tr>\n",
              "    <tr>\n",
              "      <th>PETROBAHIA</th>\n",
              "      <td>12.0</td>\n",
              "      <td>4.996917</td>\n",
              "      <td>1.534728e-01</td>\n",
              "      <td>4.590</td>\n",
              "      <td>4.99500</td>\n",
              "      <td>4.9990</td>\n",
              "      <td>5.04900</td>\n",
              "      <td>5.195</td>\n",
              "    </tr>\n",
              "    <tr>\n",
              "      <th>PETROBRAS DISTRIBUIDORA S.A.</th>\n",
              "      <td>3453.0</td>\n",
              "      <td>4.766299</td>\n",
              "      <td>5.376274e-01</td>\n",
              "      <td>3.799</td>\n",
              "      <td>4.29900</td>\n",
              "      <td>4.6990</td>\n",
              "      <td>5.09900</td>\n",
              "      <td>6.595</td>\n",
              "    </tr>\n",
              "    <tr>\n",
              "      <th>PETROSERRA</th>\n",
              "      <td>4.0</td>\n",
              "      <td>4.600000</td>\n",
              "      <td>1.536229e-01</td>\n",
              "      <td>4.510</td>\n",
              "      <td>4.52500</td>\n",
              "      <td>4.5300</td>\n",
              "      <td>4.60500</td>\n",
              "      <td>4.830</td>\n",
              "    </tr>\n",
              "    <tr>\n",
              "      <th>PETROX DISTRIBUIDORA</th>\n",
              "      <td>31.0</td>\n",
              "      <td>4.973419</td>\n",
              "      <td>8.646031e-02</td>\n",
              "      <td>4.760</td>\n",
              "      <td>4.90000</td>\n",
              "      <td>4.9880</td>\n",
              "      <td>4.99900</td>\n",
              "      <td>5.080</td>\n",
              "    </tr>\n",
              "    <tr>\n",
              "      <th>POTENCIAL</th>\n",
              "      <td>4.0</td>\n",
              "      <td>4.174000</td>\n",
              "      <td>5.000000e-02</td>\n",
              "      <td>4.099</td>\n",
              "      <td>4.17400</td>\n",
              "      <td>4.1990</td>\n",
              "      <td>4.19900</td>\n",
              "      <td>4.199</td>\n",
              "    </tr>\n",
              "    <tr>\n",
              "      <th>RAIZEN</th>\n",
              "      <td>2788.0</td>\n",
              "      <td>4.576030</td>\n",
              "      <td>4.859743e-01</td>\n",
              "      <td>3.549</td>\n",
              "      <td>4.19900</td>\n",
              "      <td>4.3990</td>\n",
              "      <td>4.96300</td>\n",
              "      <td>6.249</td>\n",
              "    </tr>\n",
              "    <tr>\n",
              "      <th>RAIZEN MIME</th>\n",
              "      <td>84.0</td>\n",
              "      <td>5.016690</td>\n",
              "      <td>1.019901e-01</td>\n",
              "      <td>4.699</td>\n",
              "      <td>4.99875</td>\n",
              "      <td>4.9990</td>\n",
              "      <td>4.99900</td>\n",
              "      <td>5.399</td>\n",
              "    </tr>\n",
              "    <tr>\n",
              "      <th>REJAILE</th>\n",
              "      <td>3.0</td>\n",
              "      <td>4.852333</td>\n",
              "      <td>4.618802e-02</td>\n",
              "      <td>4.799</td>\n",
              "      <td>4.83900</td>\n",
              "      <td>4.8790</td>\n",
              "      <td>4.87900</td>\n",
              "      <td>4.879</td>\n",
              "    </tr>\n",
              "    <tr>\n",
              "      <th>RIO BRANCO</th>\n",
              "      <td>22.0</td>\n",
              "      <td>4.463909</td>\n",
              "      <td>2.356686e-01</td>\n",
              "      <td>3.999</td>\n",
              "      <td>4.33000</td>\n",
              "      <td>4.4790</td>\n",
              "      <td>4.59975</td>\n",
              "      <td>4.899</td>\n",
              "    </tr>\n",
              "    <tr>\n",
              "      <th>RODOIL</th>\n",
              "      <td>27.0</td>\n",
              "      <td>5.011222</td>\n",
              "      <td>6.484655e-01</td>\n",
              "      <td>4.179</td>\n",
              "      <td>4.49450</td>\n",
              "      <td>4.7990</td>\n",
              "      <td>5.10400</td>\n",
              "      <td>6.299</td>\n",
              "    </tr>\n",
              "    <tr>\n",
              "      <th>ROYAL FIC</th>\n",
              "      <td>5.0</td>\n",
              "      <td>4.439400</td>\n",
              "      <td>7.348673e-02</td>\n",
              "      <td>4.359</td>\n",
              "      <td>4.35900</td>\n",
              "      <td>4.4900</td>\n",
              "      <td>4.49000</td>\n",
              "      <td>4.499</td>\n",
              "    </tr>\n",
              "    <tr>\n",
              "      <th>RUFF C.J.</th>\n",
              "      <td>2.0</td>\n",
              "      <td>4.264000</td>\n",
              "      <td>2.121320e-02</td>\n",
              "      <td>4.249</td>\n",
              "      <td>4.25650</td>\n",
              "      <td>4.2640</td>\n",
              "      <td>4.27150</td>\n",
              "      <td>4.279</td>\n",
              "    </tr>\n",
              "    <tr>\n",
              "      <th>RZD DISTRIBUIDORA</th>\n",
              "      <td>5.0</td>\n",
              "      <td>4.192000</td>\n",
              "      <td>5.761944e-02</td>\n",
              "      <td>4.150</td>\n",
              "      <td>4.15000</td>\n",
              "      <td>4.1500</td>\n",
              "      <td>4.25000</td>\n",
              "      <td>4.260</td>\n",
              "    </tr>\n",
              "    <tr>\n",
              "      <th>SABBÁ</th>\n",
              "      <td>143.0</td>\n",
              "      <td>4.830678</td>\n",
              "      <td>3.832333e-01</td>\n",
              "      <td>4.099</td>\n",
              "      <td>4.49000</td>\n",
              "      <td>4.9900</td>\n",
              "      <td>5.09000</td>\n",
              "      <td>5.860</td>\n",
              "    </tr>\n",
              "    <tr>\n",
              "      <th>SETTA DISTRIBUIDORA</th>\n",
              "      <td>23.0</td>\n",
              "      <td>4.998522</td>\n",
              "      <td>2.088120e-01</td>\n",
              "      <td>4.690</td>\n",
              "      <td>4.85000</td>\n",
              "      <td>4.8900</td>\n",
              "      <td>5.28000</td>\n",
              "      <td>5.299</td>\n",
              "    </tr>\n",
              "    <tr>\n",
              "      <th>SIMARELLI</th>\n",
              "      <td>24.0</td>\n",
              "      <td>4.387292</td>\n",
              "      <td>2.248891e-01</td>\n",
              "      <td>4.093</td>\n",
              "      <td>4.26400</td>\n",
              "      <td>4.3500</td>\n",
              "      <td>4.39900</td>\n",
              "      <td>4.999</td>\n",
              "    </tr>\n",
              "    <tr>\n",
              "      <th>SMALL</th>\n",
              "      <td>3.0</td>\n",
              "      <td>4.499000</td>\n",
              "      <td>0.000000e+00</td>\n",
              "      <td>4.499</td>\n",
              "      <td>4.49900</td>\n",
              "      <td>4.4990</td>\n",
              "      <td>4.49900</td>\n",
              "      <td>4.499</td>\n",
              "    </tr>\n",
              "    <tr>\n",
              "      <th>SP</th>\n",
              "      <td>39.0</td>\n",
              "      <td>5.178949</td>\n",
              "      <td>1.124242e-01</td>\n",
              "      <td>4.899</td>\n",
              "      <td>5.12900</td>\n",
              "      <td>5.1990</td>\n",
              "      <td>5.26900</td>\n",
              "      <td>5.350</td>\n",
              "    </tr>\n",
              "    <tr>\n",
              "      <th>STANG</th>\n",
              "      <td>22.0</td>\n",
              "      <td>4.418364</td>\n",
              "      <td>2.552727e-01</td>\n",
              "      <td>4.150</td>\n",
              "      <td>4.18750</td>\n",
              "      <td>4.3500</td>\n",
              "      <td>4.76675</td>\n",
              "      <td>4.769</td>\n",
              "    </tr>\n",
              "    <tr>\n",
              "      <th>SUL COMBUSTÍVEIS</th>\n",
              "      <td>1.0</td>\n",
              "      <td>5.398000</td>\n",
              "      <td>NaN</td>\n",
              "      <td>5.398</td>\n",
              "      <td>5.39800</td>\n",
              "      <td>5.3980</td>\n",
              "      <td>5.39800</td>\n",
              "      <td>5.398</td>\n",
              "    </tr>\n",
              "    <tr>\n",
              "      <th>TAURUS</th>\n",
              "      <td>35.0</td>\n",
              "      <td>4.428829</td>\n",
              "      <td>3.114429e-01</td>\n",
              "      <td>3.899</td>\n",
              "      <td>4.29900</td>\n",
              "      <td>4.3990</td>\n",
              "      <td>4.46900</td>\n",
              "      <td>5.150</td>\n",
              "    </tr>\n",
              "    <tr>\n",
              "      <th>TDC DISTRIBUIDORA</th>\n",
              "      <td>16.0</td>\n",
              "      <td>4.971125</td>\n",
              "      <td>9.342796e-02</td>\n",
              "      <td>4.760</td>\n",
              "      <td>4.89400</td>\n",
              "      <td>4.9790</td>\n",
              "      <td>5.01900</td>\n",
              "      <td>5.090</td>\n",
              "    </tr>\n",
              "    <tr>\n",
              "      <th>TEMAPE</th>\n",
              "      <td>13.0</td>\n",
              "      <td>5.075231</td>\n",
              "      <td>1.134520e-01</td>\n",
              "      <td>4.899</td>\n",
              "      <td>4.99900</td>\n",
              "      <td>5.0990</td>\n",
              "      <td>5.17900</td>\n",
              "      <td>5.199</td>\n",
              "    </tr>\n",
              "    <tr>\n",
              "      <th>TOBRAS</th>\n",
              "      <td>4.0</td>\n",
              "      <td>4.999000</td>\n",
              "      <td>0.000000e+00</td>\n",
              "      <td>4.999</td>\n",
              "      <td>4.99900</td>\n",
              "      <td>4.9990</td>\n",
              "      <td>4.99900</td>\n",
              "      <td>4.999</td>\n",
              "    </tr>\n",
              "    <tr>\n",
              "      <th>TORRAO</th>\n",
              "      <td>15.0</td>\n",
              "      <td>4.119000</td>\n",
              "      <td>1.264911e-01</td>\n",
              "      <td>3.999</td>\n",
              "      <td>3.99900</td>\n",
              "      <td>4.0990</td>\n",
              "      <td>4.24900</td>\n",
              "      <td>4.299</td>\n",
              "    </tr>\n",
              "    <tr>\n",
              "      <th>TOTAL BRASIL</th>\n",
              "      <td>25.0</td>\n",
              "      <td>4.529120</td>\n",
              "      <td>2.745709e-01</td>\n",
              "      <td>3.999</td>\n",
              "      <td>4.29900</td>\n",
              "      <td>4.5550</td>\n",
              "      <td>4.74900</td>\n",
              "      <td>4.890</td>\n",
              "    </tr>\n",
              "    <tr>\n",
              "      <th>UNI</th>\n",
              "      <td>3.0</td>\n",
              "      <td>4.193333</td>\n",
              "      <td>4.041452e-02</td>\n",
              "      <td>4.170</td>\n",
              "      <td>4.17000</td>\n",
              "      <td>4.1700</td>\n",
              "      <td>4.20500</td>\n",
              "      <td>4.240</td>\n",
              "    </tr>\n",
              "    <tr>\n",
              "      <th>WALENDOWSKY</th>\n",
              "      <td>5.0</td>\n",
              "      <td>4.998200</td>\n",
              "      <td>1.788854e-03</td>\n",
              "      <td>4.995</td>\n",
              "      <td>4.99900</td>\n",
              "      <td>4.9990</td>\n",
              "      <td>4.99900</td>\n",
              "      <td>4.999</td>\n",
              "    </tr>\n",
              "    <tr>\n",
              "      <th>WATT</th>\n",
              "      <td>2.0</td>\n",
              "      <td>4.439500</td>\n",
              "      <td>1.279863e-01</td>\n",
              "      <td>4.349</td>\n",
              "      <td>4.39425</td>\n",
              "      <td>4.4395</td>\n",
              "      <td>4.48475</td>\n",
              "      <td>4.530</td>\n",
              "    </tr>\n",
              "  </tbody>\n",
              "</table>\n",
              "</div>\n",
              "      <button class=\"colab-df-convert\" onclick=\"convertToInteractive('df-c1875948-fbf4-4647-b982-41df68942782')\"\n",
              "              title=\"Convert this dataframe to an interactive table.\"\n",
              "              style=\"display:none;\">\n",
              "        \n",
              "  <svg xmlns=\"http://www.w3.org/2000/svg\" height=\"24px\"viewBox=\"0 0 24 24\"\n",
              "       width=\"24px\">\n",
              "    <path d=\"M0 0h24v24H0V0z\" fill=\"none\"/>\n",
              "    <path d=\"M18.56 5.44l.94 2.06.94-2.06 2.06-.94-2.06-.94-.94-2.06-.94 2.06-2.06.94zm-11 1L8.5 8.5l.94-2.06 2.06-.94-2.06-.94L8.5 2.5l-.94 2.06-2.06.94zm10 10l.94 2.06.94-2.06 2.06-.94-2.06-.94-.94-2.06-.94 2.06-2.06.94z\"/><path d=\"M17.41 7.96l-1.37-1.37c-.4-.4-.92-.59-1.43-.59-.52 0-1.04.2-1.43.59L10.3 9.45l-7.72 7.72c-.78.78-.78 2.05 0 2.83L4 21.41c.39.39.9.59 1.41.59.51 0 1.02-.2 1.41-.59l7.78-7.78 2.81-2.81c.8-.78.8-2.07 0-2.86zM5.41 20L4 18.59l7.72-7.72 1.47 1.35L5.41 20z\"/>\n",
              "  </svg>\n",
              "      </button>\n",
              "      \n",
              "  <style>\n",
              "    .colab-df-container {\n",
              "      display:flex;\n",
              "      flex-wrap:wrap;\n",
              "      gap: 12px;\n",
              "    }\n",
              "\n",
              "    .colab-df-convert {\n",
              "      background-color: #E8F0FE;\n",
              "      border: none;\n",
              "      border-radius: 50%;\n",
              "      cursor: pointer;\n",
              "      display: none;\n",
              "      fill: #1967D2;\n",
              "      height: 32px;\n",
              "      padding: 0 0 0 0;\n",
              "      width: 32px;\n",
              "    }\n",
              "\n",
              "    .colab-df-convert:hover {\n",
              "      background-color: #E2EBFA;\n",
              "      box-shadow: 0px 1px 2px rgba(60, 64, 67, 0.3), 0px 1px 3px 1px rgba(60, 64, 67, 0.15);\n",
              "      fill: #174EA6;\n",
              "    }\n",
              "\n",
              "    [theme=dark] .colab-df-convert {\n",
              "      background-color: #3B4455;\n",
              "      fill: #D2E3FC;\n",
              "    }\n",
              "\n",
              "    [theme=dark] .colab-df-convert:hover {\n",
              "      background-color: #434B5C;\n",
              "      box-shadow: 0px 1px 3px 1px rgba(0, 0, 0, 0.15);\n",
              "      filter: drop-shadow(0px 1px 2px rgba(0, 0, 0, 0.3));\n",
              "      fill: #FFFFFF;\n",
              "    }\n",
              "  </style>\n",
              "\n",
              "      <script>\n",
              "        const buttonEl =\n",
              "          document.querySelector('#df-c1875948-fbf4-4647-b982-41df68942782 button.colab-df-convert');\n",
              "        buttonEl.style.display =\n",
              "          google.colab.kernel.accessAllowed ? 'block' : 'none';\n",
              "\n",
              "        async function convertToInteractive(key) {\n",
              "          const element = document.querySelector('#df-c1875948-fbf4-4647-b982-41df68942782');\n",
              "          const dataTable =\n",
              "            await google.colab.kernel.invokeFunction('convertToInteractive',\n",
              "                                                     [key], {});\n",
              "          if (!dataTable) return;\n",
              "\n",
              "          const docLinkHtml = 'Like what you see? Visit the ' +\n",
              "            '<a target=\"_blank\" href=https://colab.research.google.com/notebooks/data_table.ipynb>data table notebook</a>'\n",
              "            + ' to learn more about interactive tables.';\n",
              "          element.innerHTML = '';\n",
              "          dataTable['output_type'] = 'display_data';\n",
              "          await google.colab.output.renderOutput(dataTable, element);\n",
              "          const docLink = document.createElement('div');\n",
              "          docLink.innerHTML = docLinkHtml;\n",
              "          element.appendChild(docLink);\n",
              "        }\n",
              "      </script>\n",
              "    </div>\n",
              "  </div>\n",
              "  "
            ],
            "text/plain": [
              "                               count      mean  ...      75%    max\n",
              "Bandeira                                        ...                \n",
              "ACOL                             2.0  4.598000  ...  4.59800  4.598\n",
              "ALESAT                         363.0  4.757507  ...  5.14200  5.999\n",
              "AMERICANOIL                     10.0  4.999000  ...  4.99900  4.999\n",
              "ATEM' S                         80.0  4.512337  ...  4.71500  4.929\n",
              "ATLÂNTICA                        9.0  4.972111  ...  5.28000  5.280\n",
              "BRANCA                        6740.0  4.437824  ...  4.85000  6.299\n",
              "CHARRUA                         10.0  5.813700  ...  5.79900  5.999\n",
              "CIAPETRO                        25.0  4.421520  ...  4.55900  4.599\n",
              "DIBRAPE                          2.0  4.754000  ...  4.85650  4.959\n",
              "DISLUB                          31.0  5.146484  ...  5.15400  5.680\n",
              "D`MAIS                           2.0  4.138000  ...  4.16800  4.198\n",
              "EQUADOR                         29.0  4.920862  ...  5.33000  5.850\n",
              "FAN                             10.0  5.260000  ...  5.38900  5.489\n",
              "FEDERAL ENERGIA                 11.0  4.875818  ...  5.04400  5.099\n",
              "IDAZA                           42.0  4.178381  ...  4.39900  5.274\n",
              "IPIRANGA                      2777.0  4.597423  ...  4.89900  6.999\n",
              "LARCO                            4.0  4.850000  ...  4.85000  4.850\n",
              "MASUT DISTRIBUIDORA             13.0  4.533846  ...  4.58000  4.580\n",
              "MAXSUL                           3.0  4.210000  ...  4.23000  4.290\n",
              "PETROBAHIA                      12.0  4.996917  ...  5.04900  5.195\n",
              "PETROBRAS DISTRIBUIDORA S.A.  3453.0  4.766299  ...  5.09900  6.595\n",
              "PETROSERRA                       4.0  4.600000  ...  4.60500  4.830\n",
              "PETROX DISTRIBUIDORA            31.0  4.973419  ...  4.99900  5.080\n",
              "POTENCIAL                        4.0  4.174000  ...  4.19900  4.199\n",
              "RAIZEN                        2788.0  4.576030  ...  4.96300  6.249\n",
              "RAIZEN MIME                     84.0  5.016690  ...  4.99900  5.399\n",
              "REJAILE                          3.0  4.852333  ...  4.87900  4.879\n",
              "RIO BRANCO                      22.0  4.463909  ...  4.59975  4.899\n",
              "RODOIL                          27.0  5.011222  ...  5.10400  6.299\n",
              "ROYAL FIC                        5.0  4.439400  ...  4.49000  4.499\n",
              "RUFF C.J.                        2.0  4.264000  ...  4.27150  4.279\n",
              "RZD DISTRIBUIDORA                5.0  4.192000  ...  4.25000  4.260\n",
              "SABBÁ                          143.0  4.830678  ...  5.09000  5.860\n",
              "SETTA DISTRIBUIDORA             23.0  4.998522  ...  5.28000  5.299\n",
              "SIMARELLI                       24.0  4.387292  ...  4.39900  4.999\n",
              "SMALL                            3.0  4.499000  ...  4.49900  4.499\n",
              "SP                              39.0  5.178949  ...  5.26900  5.350\n",
              "STANG                           22.0  4.418364  ...  4.76675  4.769\n",
              "SUL COMBUSTÍVEIS                 1.0  5.398000  ...  5.39800  5.398\n",
              "TAURUS                          35.0  4.428829  ...  4.46900  5.150\n",
              "TDC DISTRIBUIDORA               16.0  4.971125  ...  5.01900  5.090\n",
              "TEMAPE                          13.0  5.075231  ...  5.17900  5.199\n",
              "TOBRAS                           4.0  4.999000  ...  4.99900  4.999\n",
              "TORRAO                          15.0  4.119000  ...  4.24900  4.299\n",
              "TOTAL BRASIL                    25.0  4.529120  ...  4.74900  4.890\n",
              "UNI                              3.0  4.193333  ...  4.20500  4.240\n",
              "WALENDOWSKY                      5.0  4.998200  ...  4.99900  4.999\n",
              "WATT                             2.0  4.439500  ...  4.48475  4.530\n",
              "\n",
              "[48 rows x 8 columns]"
            ]
          },
          "execution_count": null,
          "metadata": {},
          "output_type": "execute_result"
        }
      ],
      "source": [
        "cebf = combustivel_etanol_band_filt.groupby('Bandeira')['Valor de Venda'].describe()\n",
        "cebf"
      ]
    },
    {
      "cell_type": "code",
      "execution_count": null,
      "metadata": {
        "colab": {
          "background_save": true
        },
        "id": "HfYKm4Z0Emp0"
      },
      "outputs": [],
      "source": [
        "cgbf = cgbf.reset_index()\n",
        "cgabf = cgabf.reset_index()\n",
        "cebf = cebf.reset_index()"
      ]
    },
    {
      "cell_type": "code",
      "execution_count": null,
      "metadata": {
        "colab": {
          "background_save": true
        },
        "id": "--YWgxZWRbBJ",
        "outputId": "fdf40348-2cb5-44b1-cae3-eede3964f1f5"
      },
      "outputs": [
        {
          "data": {
            "text/plain": [
              "<matplotlib.axes._subplots.AxesSubplot at 0x7ff14beda7d0>"
            ]
          },
          "execution_count": null,
          "metadata": {},
          "output_type": "execute_result"
        },
        {
          "data": {
            "image/png": "[encoded data removed]",
            "text/plain": [
              "<Figure size 1800x288 with 1 Axes>"
            ]
          },
          "metadata": {},
          "output_type": "display_data"
        }
      ],
      "source": [
        "#cgbf.plot(x='Bandeira', y=['mean'], kind='bar')\n",
        "a = pd.DataFrame({'bandeira':cgbf['Bandeira'], 'gasolina':cgbf['mean'], 'gasolina adi':cgabf['mean'], 'etanol':cebf['mean']})\n",
        "#a.plot(x='bandeira', y=['gasolina', 'gasolina adi', 'etanol'], kind='bar')\n",
        "#a.hist(bins = 40, ec = \"k\", alpha = .6, color = \"royalblue\")\n",
        "#a.corr()\n",
        "a.plot(x='bandeira', kind='bar', figsize=(25, 4))"
      ]
    },
    {
      "cell_type": "code",
      "execution_count": null,
      "metadata": {
        "colab": {
          "background_save": true
        },
        "id": "pPQnBsCB-d_L",
        "outputId": "42086bdc-c788-4572-aa5d-060e3f86a23e"
      },
      "outputs": [
        {
          "data": {
            "text/plain": [
              "<matplotlib.axes._subplots.AxesSubplot at 0x7ff14c0eb090>"
            ]
          },
          "execution_count": null,
          "metadata": {},
          "output_type": "execute_result"
        },
        {
          "data": {
            "image/png": "[encoded data removed]",
            "text/plain": [
              "<Figure size 1800x288 with 1 Axes>"
            ]
          },
          "metadata": {},
          "output_type": "display_data"
        }
      ],
      "source": [
        "gasol_query = cgbf.query('count > 300')\n",
        "gasola_query = cgabf.query('count > 300')\n",
        "etanol_query = cebf.query('count > 300')\n",
        "comb_grafico = pd.DataFrame({'bandeira':gasol_query['Bandeira'], 'gasolina':gasol_query['mean'], 'gasolina adi':gasola_query['mean'], 'etanol':etanol_query['mean']})\n",
        "comb_grafico.plot(x='bandeira', kind='bar', figsize=(25, 4))"
      ]
    },
    {
      "cell_type": "markdown",
      "metadata": {
        "id": "llM6JesmWh3A"
      },
      "source": [
        "## **Questão 11 - Outlier Gasolina**\n",
        "\n",
        "> Análise de desvio de padrão no preço da gasolina.\n",
        "\n"
      ]
    },
    {
      "cell_type": "code",
      "execution_count": null,
      "metadata": {
        "colab": {
          "background_save": true
        },
        "id": "n0gXE-lvWmf0"
      },
      "outputs": [],
      "source": [
        "#outlier_06 = gasol_06.filter(['Estado - Sigla', 'Produto', 'Valor de Venda'], axis=1)\n"
      ]
    },
    {
      "cell_type": "code",
      "execution_count": null,
      "metadata": {
        "colab": {
          "background_save": true
        },
        "id": "uePff0zX1Pby",
        "outputId": "386e3645-c01d-4113-9019-965353fb60ed"
      },
      "outputs": [
        {
          "name": "stderr",
          "output_type": "stream",
          "text": [
            "/usr/local/lib/python3.7/dist-packages/matplotlib/cbook/__init__.py:1376: VisibleDeprecationWarning: Creating an ndarray from ragged nested sequences (which is a list-or-tuple of lists-or-tuples-or ndarrays with different lengths or shapes) is deprecated. If you meant to do this, you must specify 'dtype=object' when creating the ndarray.\n",
            "  X = np.atleast_1d(X.T if isinstance(X, np.ndarray) else np.asarray(X))\n"
          ]
        },
        {
          "data": {
            "image/png": "[encoded data removed]",
            "text/plain": [
              "<Figure size 432x288 with 1 Axes>"
            ]
          },
          "metadata": {},
          "output_type": "display_data"
        }
      ],
      "source": [
        "outlierGasol = df6e7Gasolina.boxplot()"
      ]
    },
    {
      "cell_type": "markdown",
      "metadata": {
        "id": "two8SdX44bc-"
      },
      "source": [
        "Notamos que os valores, apesar de baixos, não era tão distantes da média."
      ]
    },
    {
      "cell_type": "markdown",
      "metadata": {
        "id": "Hmzvm14jWm-w"
      },
      "source": [
        "## **Questão 12 - Outlier Etanol**\n",
        "\n",
        "> Análise de desvio de padrão no preço do etanol."
      ]
    },
    {
      "cell_type": "code",
      "execution_count": null,
      "metadata": {
        "colab": {
          "background_save": true
        },
        "id": "T1vHGJcRWrvC",
        "outputId": "b2856355-d95e-4d40-d301-88c7d06bb9e7"
      },
      "outputs": [
        {
          "name": "stderr",
          "output_type": "stream",
          "text": [
            "/usr/local/lib/python3.7/dist-packages/matplotlib/cbook/__init__.py:1376: VisibleDeprecationWarning: Creating an ndarray from ragged nested sequences (which is a list-or-tuple of lists-or-tuples-or ndarrays with different lengths or shapes) is deprecated. If you meant to do this, you must specify 'dtype=object' when creating the ndarray.\n",
            "  X = np.atleast_1d(X.T if isinstance(X, np.ndarray) else np.asarray(X))\n"
          ]
        },
        {
          "data": {
            "image/png": "[encoded data removed]",
            "text/plain": [
              "<Figure size 432x288 with 1 Axes>"
            ]
          },
          "metadata": {},
          "output_type": "display_data"
        }
      ],
      "source": [
        "outlierEtanol = df6e7Etanol.boxplot()"
      ]
    },
    {
      "cell_type": "markdown",
      "source": [
        "Notamos que os valores, diferentemente da gasolina que era abaixo do valor médio, o outlier do Etanol eram valores acima da média e bem distantes do Valor de Venda padrão."
      ],
      "metadata": {
        "id": "20hSO4i1RAas"
      }
    },
    {
      "cell_type": "markdown",
      "metadata": {
        "id": "-bfgD5t4apfA"
      },
      "source": [
        "##**Conclusão**"
      ]
    },
    {
      "cell_type": "markdown",
      "metadata": {
        "id": "uErKtRAqQULV"
      },
      "source": [
        "A partir das análises realizadas no projeto, podemos verificar que as regiões mais afastadas são as que mais sofrem com a variação de preço do combustível. Por exemplo, nas médias de valor mais alto por estado, a região Norte e Centro Oeste foram as que obtiveram os maiores valores de preço de venda. A diferença na precificação da gasolina entre os estados também pode ser explicada pelo valor do ICMS. \n",
        "\n",
        "Foram realizadas pesquisas complementares para compreender o contexto sócio econômico vigente no país durante o período analisado e nos demais meses de 2021. O objetivo era analisar se os valores pertenciam a algum padrão.\n",
        "A partir das consultas, compreendemos que no mês 6 (junho) houve um pico, enquanto no mês 7 (julho) se estabilizou, devido a fatores variantes de especulação e também ao agravante da pandemia.\n",
        "\n",
        "Foi possível verificar ainda que, as cidades que apresentam os valores mais altos da gasolina e do etanol, não estão localizadas no centro-oeste, que é a região que possui a maior média nacional de preços de venda dos produtos.\n",
        "\n",
        "Nas questões finais, utilizamos gráficos (boxplot) para analisar possíveis outliers. Devido a curta periodicidade da análise, constatou-se uma variação mínima. A expectativa era de que esses resultados fossem valores discrepantes em relação a valores altos, porém os outliers foram abaixo da média. \n",
        "\n",
        "Contudo, vale ressaltar que o valor do combustível está alto de uma maneira geral e diversos fatores podem influenciar o preço, como por exemplo: cotações do dólar, do barril de petróleo e de outras commodities. \n",
        "\n",
        "O Brasil apesar de ser um dos maiores produtores de petróleo, não possui tecnologia de refino e, por isso, precisa importar de outros países. O valor do petróleo afeta a inflação e a logística de comércio não beneficia as regiões com maiores potenciais de venda."
      ]
    }
  ],
  "metadata": {
    "colab": {
      "collapsed_sections": [
        "mW8py8Dqk34y",
        "fyW2yJO-wX_1",
        "POeFYzQ2wnpI",
        "YFMAHYjjShtE",
        "NFoXU_exVHew",
        "7j7zC5LxVN7K",
        "5Sy8kFltVhrL",
        "Q5SIAMkBWJAp",
        "CmdjI0EKWSCk",
        "8VEaceBYWXPP",
        "llM6JesmWh3A",
        "Hmzvm14jWm-w"
      ],
      "name": "Projeto4_grupo7.ipynb",
      "provenance": []
    },
    "kernelspec": {
      "display_name": "Python 3",
      "name": "python3"
    },
    "language_info": {
      "name": "python"
    }
  },
  "nbformat": 4,
  "nbformat_minor": 0
}